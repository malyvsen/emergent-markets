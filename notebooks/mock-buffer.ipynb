{
 "cells": [
  {
   "cell_type": "code",
   "execution_count": 1,
   "metadata": {},
   "outputs": [],
   "source": [
    "import numpy as np\n",
    "import plotly.graph_objects as go\n",
    "import torch\n",
    "from tqdm.notebook import trange\n",
    "from tradezoo.agent import Action, Actor, Agent, Critic, Observation\n",
    "from tradezoo.trainer import Experience, Trainer"
   ]
  },
  {
   "cell_type": "code",
   "execution_count": 2,
   "metadata": {},
   "outputs": [],
   "source": [
    "actor = Actor()\n",
    "critic = Critic()\n",
    "agent = Agent(\n",
    "    actor=actor,\n",
    "    actor_optimizer=torch.optim.Adam(actor.parameters(), lr=1e-5),\n",
    "    critic=critic,\n",
    "    critic_optimizer=torch.optim.Adam(critic.parameters(), lr=1e-3),\n",
    "    discount_factor=0.99,\n",
    ")"
   ]
  },
  {
   "cell_type": "code",
   "execution_count": 3,
   "metadata": {},
   "outputs": [
    {
     "data": {
      "text/plain": [
       "Experience(old_observation=Observation(cash_balance=1097.2500867620674, asset_balance=2190.102228643431, best_ask=1.3171265233011231, best_bid=1.0893193796978105), action=Action(mid_price=1.3027424224249726, spread=0.28471351779789655), reward=3720.5971451905893, new_observation=Observation(cash_balance=1097.2500867620674, asset_balance=2190.102228643431, best_ask=1.3171265233011231, best_bid=1.0893193796978105))"
      ]
     },
     "execution_count": 3,
     "metadata": {},
     "output_type": "execute_result"
    }
   ],
   "source": [
    "def mock_experience() -> Experience:\n",
    "    mid_price = np.random.uniform(0.5, 1.5)\n",
    "    spread = np.random.uniform(0, 1)\n",
    "    old_observation = Observation(\n",
    "        cash_balance=np.random.uniform(1, 4096),\n",
    "        asset_balance=np.random.uniform(1, 4096),\n",
    "        best_ask=mid_price * (1 + spread),\n",
    "        best_bid=mid_price / (1 + spread),\n",
    "    )\n",
    "    action = Action(mid_price=np.random.uniform(0.5, 1.5), spread=np.random.uniform(0, 1))\n",
    "    new_cash_balance = old_observation.cash_balance\n",
    "    new_asset_balance = old_observation.asset_balance\n",
    "    if action.ask <= old_observation.best_bid:\n",
    "        new_cash_balance += action.ask\n",
    "        new_asset_balance -= 1\n",
    "    if action.bid >= old_observation.best_ask:\n",
    "        new_cash_balance -= action.bid\n",
    "        new_asset_balance += 1\n",
    "    new_observation = Observation(\n",
    "        cash_balance=new_cash_balance,\n",
    "        asset_balance=new_asset_balance,\n",
    "        best_ask=old_observation.best_ask,\n",
    "        best_bid=old_observation.best_bid,\n",
    "    )\n",
    "    return Experience(\n",
    "        old_observation=old_observation,\n",
    "        action=action,\n",
    "        reward=new_observation.cash_balance\n",
    "        + new_observation.asset_balance\n",
    "        * (new_observation.best_ask * new_observation.best_bid) ** 0.5,\n",
    "        new_observation=new_observation,\n",
    "    )\n",
    "\n",
    "mock_experience()"
   ]
  },
  {
   "cell_type": "code",
   "execution_count": 4,
   "metadata": {},
   "outputs": [
    {
     "data": {
      "application/vnd.jupyter.widget-view+json": {
       "model_id": "3720f6984f6c448b927a7fa45a535173",
       "version_major": 2,
       "version_minor": 0
      },
      "text/plain": [
       "  0%|          | 0/4096 [00:00<?, ?it/s]"
      ]
     },
     "metadata": {},
     "output_type": "display_data"
    }
   ],
   "source": [
    "for _ in trange(4096):\n",
    "    Trainer.train_(agent, experiences=[mock_experience() for _ in range(16)])"
   ]
  },
  {
   "cell_type": "markdown",
   "metadata": {},
   "source": [
    "TODO: check if training led to anything"
   ]
  }
 ],
 "metadata": {
  "interpreter": {
   "hash": "04bf3e1abc457daf8f034e0c3dbb970887e34b31bd6e2705be32780edbd7a6c0"
  },
  "kernelspec": {
   "display_name": "Python 3.9.0 ('.venv': poetry)",
   "language": "python",
   "name": "python3"
  },
  "language_info": {
   "codemirror_mode": {
    "name": "ipython",
    "version": 3
   },
   "file_extension": ".py",
   "mimetype": "text/x-python",
   "name": "python",
   "nbconvert_exporter": "python",
   "pygments_lexer": "ipython3",
   "version": "3.9.0"
  },
  "orig_nbformat": 4
 },
 "nbformat": 4,
 "nbformat_minor": 2
}

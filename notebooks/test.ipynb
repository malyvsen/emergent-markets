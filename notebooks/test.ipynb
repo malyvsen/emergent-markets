{
 "cells": [
  {
   "cell_type": "code",
   "execution_count": 1,
   "id": "f0268913",
   "metadata": {},
   "outputs": [
    {
     "data": {
      "application/javascript": [
       "\n",
       "            setTimeout(function() {\n",
       "                var nbb_cell_id = 1;\n",
       "                var nbb_unformatted_code = \"%load_ext nb_black\";\n",
       "                var nbb_formatted_code = \"%load_ext nb_black\";\n",
       "                var nbb_cells = Jupyter.notebook.get_cells();\n",
       "                for (var i = 0; i < nbb_cells.length; ++i) {\n",
       "                    if (nbb_cells[i].input_prompt_number == nbb_cell_id) {\n",
       "                        if (nbb_cells[i].get_text() == nbb_unformatted_code) {\n",
       "                             nbb_cells[i].set_text(nbb_formatted_code);\n",
       "                        }\n",
       "                        break;\n",
       "                    }\n",
       "                }\n",
       "            }, 500);\n",
       "            "
      ],
      "text/plain": [
       "<IPython.core.display.Javascript object>"
      ]
     },
     "metadata": {},
     "output_type": "display_data"
    }
   ],
   "source": [
    "%load_ext nb_black"
   ]
  },
  {
   "cell_type": "code",
   "execution_count": 2,
   "id": "2342d187",
   "metadata": {},
   "outputs": [
    {
     "data": {
      "application/javascript": [
       "\n",
       "            setTimeout(function() {\n",
       "                var nbb_cell_id = 2;\n",
       "                var nbb_unformatted_code = \"import plotly.graph_objects as go\\nimport torch\\nfrom tqdm.notebook import trange\\nfrom tradezoo.agent import Actor, Agent, Critic\\nfrom tradezoo.game import Game, Constant, MarketMaker, Trader\\nfrom tradezoo.market import Account, Market\\nfrom tradezoo.trainer import Trainer\";\n",
       "                var nbb_formatted_code = \"import plotly.graph_objects as go\\nimport torch\\nfrom tqdm.notebook import trange\\nfrom tradezoo.agent import Actor, Agent, Critic\\nfrom tradezoo.game import Game, Constant, MarketMaker, Trader\\nfrom tradezoo.market import Account, Market\\nfrom tradezoo.trainer import Trainer\";\n",
       "                var nbb_cells = Jupyter.notebook.get_cells();\n",
       "                for (var i = 0; i < nbb_cells.length; ++i) {\n",
       "                    if (nbb_cells[i].input_prompt_number == nbb_cell_id) {\n",
       "                        if (nbb_cells[i].get_text() == nbb_unformatted_code) {\n",
       "                             nbb_cells[i].set_text(nbb_formatted_code);\n",
       "                        }\n",
       "                        break;\n",
       "                    }\n",
       "                }\n",
       "            }, 500);\n",
       "            "
      ],
      "text/plain": [
       "<IPython.core.display.Javascript object>"
      ]
     },
     "metadata": {},
     "output_type": "display_data"
    }
   ],
   "source": [
    "import plotly.graph_objects as go\n",
    "import torch\n",
    "from tqdm.notebook import trange\n",
    "from tradezoo.agent import Actor, Agent, Critic\n",
    "from tradezoo.game import Game, Constant, MarketMaker, Trader\n",
    "from tradezoo.market import Account, Market\n",
    "from tradezoo.trainer import Trainer"
   ]
  },
  {
   "cell_type": "code",
   "execution_count": 3,
   "id": "cbd4ef27",
   "metadata": {},
   "outputs": [
    {
     "data": {
      "application/javascript": [
       "\n",
       "            setTimeout(function() {\n",
       "                var nbb_cell_id = 3;\n",
       "                var nbb_unformatted_code = \"def make_agent():\\n    actor = Actor()\\n    critic = Critic()\\n    return Agent(\\n        actor=actor,\\n        actor_optimizer=torch.optim.Adam(actor.parameters(), lr=1e-4),\\n        critic=critic,\\n        critic_optimizer=torch.optim.Adam(critic.parameters(), lr=1e-3),\\n        discount_factor=0.99,\\n    )\\n\\n\\nnum_traders = 1\\ntraders = [\\n    Trader(\\n        agent=make_agent(),\\n        account=Account(cash_balance=256, stock_balance=256),\\n        market_maker=MarketMaker.inexhaustible(\\n            ask_process=Constant(value=2),\\n            bid_process=Constant(value=0.5),\\n        ),\\n    )\\n    for _ in range(num_traders)\\n]\\ngame = Game.new(\\n    market=Market.from_accounts([trader.account for trader in traders]),\\n    traders=traders,\\n)\\ntrainer = Trainer.new(game=game, replay_buffer_capacity=64)\";\n",
       "                var nbb_formatted_code = \"def make_agent():\\n    actor = Actor()\\n    critic = Critic()\\n    return Agent(\\n        actor=actor,\\n        actor_optimizer=torch.optim.Adam(actor.parameters(), lr=1e-4),\\n        critic=critic,\\n        critic_optimizer=torch.optim.Adam(critic.parameters(), lr=1e-3),\\n        discount_factor=0.99,\\n    )\\n\\n\\nnum_traders = 1\\ntraders = [\\n    Trader(\\n        agent=make_agent(),\\n        account=Account(cash_balance=256, stock_balance=256),\\n        market_maker=MarketMaker.inexhaustible(\\n            ask_process=Constant(value=2),\\n            bid_process=Constant(value=0.5),\\n        ),\\n    )\\n    for _ in range(num_traders)\\n]\\ngame = Game.new(\\n    market=Market.from_accounts([trader.account for trader in traders]),\\n    traders=traders,\\n)\\ntrainer = Trainer.new(game=game, replay_buffer_capacity=64)\";\n",
       "                var nbb_cells = Jupyter.notebook.get_cells();\n",
       "                for (var i = 0; i < nbb_cells.length; ++i) {\n",
       "                    if (nbb_cells[i].input_prompt_number == nbb_cell_id) {\n",
       "                        if (nbb_cells[i].get_text() == nbb_unformatted_code) {\n",
       "                             nbb_cells[i].set_text(nbb_formatted_code);\n",
       "                        }\n",
       "                        break;\n",
       "                    }\n",
       "                }\n",
       "            }, 500);\n",
       "            "
      ],
      "text/plain": [
       "<IPython.core.display.Javascript object>"
      ]
     },
     "metadata": {},
     "output_type": "display_data"
    }
   ],
   "source": [
    "def make_agent():\n",
    "    actor = Actor()\n",
    "    critic = Critic()\n",
    "    return Agent(\n",
    "        actor=actor,\n",
    "        actor_optimizer=torch.optim.Adam(actor.parameters(), lr=1e-4),\n",
    "        critic=critic,\n",
    "        critic_optimizer=torch.optim.Adam(critic.parameters(), lr=1e-3),\n",
    "        discount_factor=0.99,\n",
    "    )\n",
    "\n",
    "\n",
    "num_traders = 1\n",
    "traders = [\n",
    "    Trader(\n",
    "        agent=make_agent(),\n",
    "        account=Account(cash_balance=256, stock_balance=256),\n",
    "        market_maker=MarketMaker.inexhaustible(\n",
    "            ask_process=Constant(value=2),\n",
    "            bid_process=Constant(value=0.5),\n",
    "        ),\n",
    "    )\n",
    "    for _ in range(num_traders)\n",
    "]\n",
    "game = Game.new(\n",
    "    market=Market.from_accounts([trader.account for trader in traders]),\n",
    "    traders=traders,\n",
    ")\n",
    "trainer = Trainer.new(game=game, replay_buffer_capacity=64)"
   ]
  },
  {
   "cell_type": "code",
   "execution_count": 4,
   "id": "d57cff57",
   "metadata": {},
   "outputs": [
    {
     "data": {
      "application/vnd.jupyter.widget-view+json": {
       "model_id": "573680d703e24c0e8f3740aaea3f40a7",
       "version_major": 2,
       "version_minor": 0
      },
      "text/plain": [
       "  0%|          | 0/4096 [00:00<?, ?it/s]"
      ]
     },
     "metadata": {},
     "output_type": "display_data"
    },
    {
     "data": {
      "application/javascript": [
       "\n",
       "            setTimeout(function() {\n",
       "                var nbb_cell_id = 4;\n",
       "                var nbb_unformatted_code = \"turn_results = []\\nbatch_size = 16\\nfor step_id in trange(4096):\\n    turn_result = trainer.turn_()\\n    agent = turn_result.trader.agent\\n    turn_results.append(turn_result)\\n    if len(trainer.replay_buffers[agent].experiences) >= batch_size:\\n        trainer.train_step_(agent=agent, batch_size=batch_size)\";\n",
       "                var nbb_formatted_code = \"turn_results = []\\nbatch_size = 16\\nfor step_id in trange(4096):\\n    turn_result = trainer.turn_()\\n    agent = turn_result.trader.agent\\n    turn_results.append(turn_result)\\n    if len(trainer.replay_buffers[agent].experiences) >= batch_size:\\n        trainer.train_step_(agent=agent, batch_size=batch_size)\";\n",
       "                var nbb_cells = Jupyter.notebook.get_cells();\n",
       "                for (var i = 0; i < nbb_cells.length; ++i) {\n",
       "                    if (nbb_cells[i].input_prompt_number == nbb_cell_id) {\n",
       "                        if (nbb_cells[i].get_text() == nbb_unformatted_code) {\n",
       "                             nbb_cells[i].set_text(nbb_formatted_code);\n",
       "                        }\n",
       "                        break;\n",
       "                    }\n",
       "                }\n",
       "            }, 500);\n",
       "            "
      ],
      "text/plain": [
       "<IPython.core.display.Javascript object>"
      ]
     },
     "metadata": {},
     "output_type": "display_data"
    }
   ],
   "source": [
    "turn_results = []\n",
    "batch_size = 16\n",
    "for step_id in trange(4096):\n",
    "    turn_result = trainer.turn_()\n",
    "    agent = turn_result.trader.agent\n",
    "    turn_results.append(turn_result)\n",
    "    if len(trainer.replay_buffers[agent].experiences) >= batch_size:\n",
    "        trainer.train_step_(agent=agent, batch_size=batch_size)"
   ]
  },
  {
   "cell_type": "code",
   "execution_count": 6,
   "id": "29de094a",
   "metadata": {},
   "outputs": [
    {
     "data": {
      "application/vnd.plotly.v1+json": {
       "config": {
        "plotlyServerURL": "https://plot.ly"
       },
       "data": [
        {
         "mode": "markers",
         "name": "Buys",
         "type": "scatter",
         "x": [
          17,
          19,
          23,
          34,
          50,
          51,
          55,
          64,
          79,
          81,
          85,
          90,
          93,
          96,
          124,
          125,
          126,
          127,
          128,
          142,
          145,
          149,
          158,
          160,
          172,
          173,
          174,
          185,
          187,
          190,
          220,
          245,
          251
         ],
         "y": [
          2.9453885555267334,
          2.398375988006592,
          2.4048843383789062,
          2.0613975524902344,
          3.132406234741211,
          2.0693490505218506,
          2.0274641513824463,
          2.5720584392547607,
          2.505251407623291,
          3.779047727584839,
          2.353966474533081,
          3.5612690448760986,
          2.566904306411743,
          2.4937942028045654,
          3.470412015914917,
          2.1614630222320557,
          3.0843698978424072,
          3.363799810409546,
          3.7632808685302734,
          3.9168198108673096,
          4.622666835784912,
          3.1579744815826416,
          2.3234872817993164,
          2.13688063621521,
          3.545189142227173,
          2.163649797439575,
          3.1599838733673096,
          2.471705436706543,
          2.08280348777771,
          2.0940442085266113,
          2.9369988441467285,
          2.192939519882202,
          2.287879705429077
         ]
        },
        {
         "mode": "markers",
         "name": "Sells",
         "type": "scatter",
         "x": [
          17,
          20,
          46,
          49,
          54,
          78,
          89,
          95,
          98,
          115,
          120,
          151,
          161,
          195,
          206,
          210,
          235,
          261,
          273,
          279,
          293,
          294,
          344,
          359,
          371,
          373,
          378,
          382,
          387,
          413,
          424,
          427,
          432,
          433,
          441,
          460,
          462,
          464,
          465,
          466,
          476,
          490,
          493,
          496,
          499,
          508,
          521,
          524,
          526,
          540,
          549,
          550,
          560,
          562,
          565,
          566,
          567,
          568,
          570
         ],
         "y": [
          0.40709590911865234,
          0.42771539092063904,
          0.4755585491657257,
          0.43400809168815613,
          0.4143751561641693,
          0.4088512361049652,
          0.39176833629608154,
          0.3725554943084717,
          0.31225141882896423,
          0.43192601203918457,
          0.3858547806739807,
          0.27396148443222046,
          0.3790779113769531,
          0.2573615610599518,
          0.48835331201553345,
          0.36351096630096436,
          0.46824583411216736,
          0.3693755269050598,
          0.37496569752693176,
          0.4551283121109009,
          0.3806939423084259,
          0.4549039602279663,
          0.44327637553215027,
          0.3522108793258667,
          0.47176575660705566,
          0.4218197464942932,
          0.2110026478767395,
          0.438638836145401,
          0.4001710116863251,
          0.45484697818756104,
          0.4091219902038574,
          0.297860711812973,
          0.31702694296836853,
          0.4988037347793579,
          0.4264897108078003,
          0.4478251039981842,
          0.36455902457237244,
          0.310218870639801,
          0.2790394127368927,
          0.4476047158241272,
          0.22821572422981262,
          0.43091338872909546,
          0.4238204061985016,
          0.46187567710876465,
          0.4107106029987335,
          0.4606742858886719,
          0.28956544399261475,
          0.467596173286438,
          0.36534804105758667,
          0.46875303983688354,
          0.3864743113517761,
          0.3816148340702057,
          0.4837239384651184,
          0.40032777190208435,
          0.45407822728157043,
          0.4845006763935089,
          0.46779665350914,
          0.42713838815689087,
          0.4855453073978424
         ]
        }
       ],
       "layout": {
        "template": {
         "data": {
          "bar": [
           {
            "error_x": {
             "color": "#2a3f5f"
            },
            "error_y": {
             "color": "#2a3f5f"
            },
            "marker": {
             "line": {
              "color": "#E5ECF6",
              "width": 0.5
             },
             "pattern": {
              "fillmode": "overlay",
              "size": 10,
              "solidity": 0.2
             }
            },
            "type": "bar"
           }
          ],
          "barpolar": [
           {
            "marker": {
             "line": {
              "color": "#E5ECF6",
              "width": 0.5
             },
             "pattern": {
              "fillmode": "overlay",
              "size": 10,
              "solidity": 0.2
             }
            },
            "type": "barpolar"
           }
          ],
          "carpet": [
           {
            "aaxis": {
             "endlinecolor": "#2a3f5f",
             "gridcolor": "white",
             "linecolor": "white",
             "minorgridcolor": "white",
             "startlinecolor": "#2a3f5f"
            },
            "baxis": {
             "endlinecolor": "#2a3f5f",
             "gridcolor": "white",
             "linecolor": "white",
             "minorgridcolor": "white",
             "startlinecolor": "#2a3f5f"
            },
            "type": "carpet"
           }
          ],
          "choropleth": [
           {
            "colorbar": {
             "outlinewidth": 0,
             "ticks": ""
            },
            "type": "choropleth"
           }
          ],
          "contour": [
           {
            "colorbar": {
             "outlinewidth": 0,
             "ticks": ""
            },
            "colorscale": [
             [
              0,
              "#0d0887"
             ],
             [
              0.1111111111111111,
              "#46039f"
             ],
             [
              0.2222222222222222,
              "#7201a8"
             ],
             [
              0.3333333333333333,
              "#9c179e"
             ],
             [
              0.4444444444444444,
              "#bd3786"
             ],
             [
              0.5555555555555556,
              "#d8576b"
             ],
             [
              0.6666666666666666,
              "#ed7953"
             ],
             [
              0.7777777777777778,
              "#fb9f3a"
             ],
             [
              0.8888888888888888,
              "#fdca26"
             ],
             [
              1,
              "#f0f921"
             ]
            ],
            "type": "contour"
           }
          ],
          "contourcarpet": [
           {
            "colorbar": {
             "outlinewidth": 0,
             "ticks": ""
            },
            "type": "contourcarpet"
           }
          ],
          "heatmap": [
           {
            "colorbar": {
             "outlinewidth": 0,
             "ticks": ""
            },
            "colorscale": [
             [
              0,
              "#0d0887"
             ],
             [
              0.1111111111111111,
              "#46039f"
             ],
             [
              0.2222222222222222,
              "#7201a8"
             ],
             [
              0.3333333333333333,
              "#9c179e"
             ],
             [
              0.4444444444444444,
              "#bd3786"
             ],
             [
              0.5555555555555556,
              "#d8576b"
             ],
             [
              0.6666666666666666,
              "#ed7953"
             ],
             [
              0.7777777777777778,
              "#fb9f3a"
             ],
             [
              0.8888888888888888,
              "#fdca26"
             ],
             [
              1,
              "#f0f921"
             ]
            ],
            "type": "heatmap"
           }
          ],
          "heatmapgl": [
           {
            "colorbar": {
             "outlinewidth": 0,
             "ticks": ""
            },
            "colorscale": [
             [
              0,
              "#0d0887"
             ],
             [
              0.1111111111111111,
              "#46039f"
             ],
             [
              0.2222222222222222,
              "#7201a8"
             ],
             [
              0.3333333333333333,
              "#9c179e"
             ],
             [
              0.4444444444444444,
              "#bd3786"
             ],
             [
              0.5555555555555556,
              "#d8576b"
             ],
             [
              0.6666666666666666,
              "#ed7953"
             ],
             [
              0.7777777777777778,
              "#fb9f3a"
             ],
             [
              0.8888888888888888,
              "#fdca26"
             ],
             [
              1,
              "#f0f921"
             ]
            ],
            "type": "heatmapgl"
           }
          ],
          "histogram": [
           {
            "marker": {
             "pattern": {
              "fillmode": "overlay",
              "size": 10,
              "solidity": 0.2
             }
            },
            "type": "histogram"
           }
          ],
          "histogram2d": [
           {
            "colorbar": {
             "outlinewidth": 0,
             "ticks": ""
            },
            "colorscale": [
             [
              0,
              "#0d0887"
             ],
             [
              0.1111111111111111,
              "#46039f"
             ],
             [
              0.2222222222222222,
              "#7201a8"
             ],
             [
              0.3333333333333333,
              "#9c179e"
             ],
             [
              0.4444444444444444,
              "#bd3786"
             ],
             [
              0.5555555555555556,
              "#d8576b"
             ],
             [
              0.6666666666666666,
              "#ed7953"
             ],
             [
              0.7777777777777778,
              "#fb9f3a"
             ],
             [
              0.8888888888888888,
              "#fdca26"
             ],
             [
              1,
              "#f0f921"
             ]
            ],
            "type": "histogram2d"
           }
          ],
          "histogram2dcontour": [
           {
            "colorbar": {
             "outlinewidth": 0,
             "ticks": ""
            },
            "colorscale": [
             [
              0,
              "#0d0887"
             ],
             [
              0.1111111111111111,
              "#46039f"
             ],
             [
              0.2222222222222222,
              "#7201a8"
             ],
             [
              0.3333333333333333,
              "#9c179e"
             ],
             [
              0.4444444444444444,
              "#bd3786"
             ],
             [
              0.5555555555555556,
              "#d8576b"
             ],
             [
              0.6666666666666666,
              "#ed7953"
             ],
             [
              0.7777777777777778,
              "#fb9f3a"
             ],
             [
              0.8888888888888888,
              "#fdca26"
             ],
             [
              1,
              "#f0f921"
             ]
            ],
            "type": "histogram2dcontour"
           }
          ],
          "mesh3d": [
           {
            "colorbar": {
             "outlinewidth": 0,
             "ticks": ""
            },
            "type": "mesh3d"
           }
          ],
          "parcoords": [
           {
            "line": {
             "colorbar": {
              "outlinewidth": 0,
              "ticks": ""
             }
            },
            "type": "parcoords"
           }
          ],
          "pie": [
           {
            "automargin": true,
            "type": "pie"
           }
          ],
          "scatter": [
           {
            "marker": {
             "colorbar": {
              "outlinewidth": 0,
              "ticks": ""
             }
            },
            "type": "scatter"
           }
          ],
          "scatter3d": [
           {
            "line": {
             "colorbar": {
              "outlinewidth": 0,
              "ticks": ""
             }
            },
            "marker": {
             "colorbar": {
              "outlinewidth": 0,
              "ticks": ""
             }
            },
            "type": "scatter3d"
           }
          ],
          "scattercarpet": [
           {
            "marker": {
             "colorbar": {
              "outlinewidth": 0,
              "ticks": ""
             }
            },
            "type": "scattercarpet"
           }
          ],
          "scattergeo": [
           {
            "marker": {
             "colorbar": {
              "outlinewidth": 0,
              "ticks": ""
             }
            },
            "type": "scattergeo"
           }
          ],
          "scattergl": [
           {
            "marker": {
             "colorbar": {
              "outlinewidth": 0,
              "ticks": ""
             }
            },
            "type": "scattergl"
           }
          ],
          "scattermapbox": [
           {
            "marker": {
             "colorbar": {
              "outlinewidth": 0,
              "ticks": ""
             }
            },
            "type": "scattermapbox"
           }
          ],
          "scatterpolar": [
           {
            "marker": {
             "colorbar": {
              "outlinewidth": 0,
              "ticks": ""
             }
            },
            "type": "scatterpolar"
           }
          ],
          "scatterpolargl": [
           {
            "marker": {
             "colorbar": {
              "outlinewidth": 0,
              "ticks": ""
             }
            },
            "type": "scatterpolargl"
           }
          ],
          "scatterternary": [
           {
            "marker": {
             "colorbar": {
              "outlinewidth": 0,
              "ticks": ""
             }
            },
            "type": "scatterternary"
           }
          ],
          "surface": [
           {
            "colorbar": {
             "outlinewidth": 0,
             "ticks": ""
            },
            "colorscale": [
             [
              0,
              "#0d0887"
             ],
             [
              0.1111111111111111,
              "#46039f"
             ],
             [
              0.2222222222222222,
              "#7201a8"
             ],
             [
              0.3333333333333333,
              "#9c179e"
             ],
             [
              0.4444444444444444,
              "#bd3786"
             ],
             [
              0.5555555555555556,
              "#d8576b"
             ],
             [
              0.6666666666666666,
              "#ed7953"
             ],
             [
              0.7777777777777778,
              "#fb9f3a"
             ],
             [
              0.8888888888888888,
              "#fdca26"
             ],
             [
              1,
              "#f0f921"
             ]
            ],
            "type": "surface"
           }
          ],
          "table": [
           {
            "cells": {
             "fill": {
              "color": "#EBF0F8"
             },
             "line": {
              "color": "white"
             }
            },
            "header": {
             "fill": {
              "color": "#C8D4E3"
             },
             "line": {
              "color": "white"
             }
            },
            "type": "table"
           }
          ]
         },
         "layout": {
          "annotationdefaults": {
           "arrowcolor": "#2a3f5f",
           "arrowhead": 0,
           "arrowwidth": 1
          },
          "autotypenumbers": "strict",
          "coloraxis": {
           "colorbar": {
            "outlinewidth": 0,
            "ticks": ""
           }
          },
          "colorscale": {
           "diverging": [
            [
             0,
             "#8e0152"
            ],
            [
             0.1,
             "#c51b7d"
            ],
            [
             0.2,
             "#de77ae"
            ],
            [
             0.3,
             "#f1b6da"
            ],
            [
             0.4,
             "#fde0ef"
            ],
            [
             0.5,
             "#f7f7f7"
            ],
            [
             0.6,
             "#e6f5d0"
            ],
            [
             0.7,
             "#b8e186"
            ],
            [
             0.8,
             "#7fbc41"
            ],
            [
             0.9,
             "#4d9221"
            ],
            [
             1,
             "#276419"
            ]
           ],
           "sequential": [
            [
             0,
             "#0d0887"
            ],
            [
             0.1111111111111111,
             "#46039f"
            ],
            [
             0.2222222222222222,
             "#7201a8"
            ],
            [
             0.3333333333333333,
             "#9c179e"
            ],
            [
             0.4444444444444444,
             "#bd3786"
            ],
            [
             0.5555555555555556,
             "#d8576b"
            ],
            [
             0.6666666666666666,
             "#ed7953"
            ],
            [
             0.7777777777777778,
             "#fb9f3a"
            ],
            [
             0.8888888888888888,
             "#fdca26"
            ],
            [
             1,
             "#f0f921"
            ]
           ],
           "sequentialminus": [
            [
             0,
             "#0d0887"
            ],
            [
             0.1111111111111111,
             "#46039f"
            ],
            [
             0.2222222222222222,
             "#7201a8"
            ],
            [
             0.3333333333333333,
             "#9c179e"
            ],
            [
             0.4444444444444444,
             "#bd3786"
            ],
            [
             0.5555555555555556,
             "#d8576b"
            ],
            [
             0.6666666666666666,
             "#ed7953"
            ],
            [
             0.7777777777777778,
             "#fb9f3a"
            ],
            [
             0.8888888888888888,
             "#fdca26"
            ],
            [
             1,
             "#f0f921"
            ]
           ]
          },
          "colorway": [
           "#636efa",
           "#EF553B",
           "#00cc96",
           "#ab63fa",
           "#FFA15A",
           "#19d3f3",
           "#FF6692",
           "#B6E880",
           "#FF97FF",
           "#FECB52"
          ],
          "font": {
           "color": "#2a3f5f"
          },
          "geo": {
           "bgcolor": "white",
           "lakecolor": "white",
           "landcolor": "#E5ECF6",
           "showlakes": true,
           "showland": true,
           "subunitcolor": "white"
          },
          "hoverlabel": {
           "align": "left"
          },
          "hovermode": "closest",
          "mapbox": {
           "style": "light"
          },
          "paper_bgcolor": "white",
          "plot_bgcolor": "#E5ECF6",
          "polar": {
           "angularaxis": {
            "gridcolor": "white",
            "linecolor": "white",
            "ticks": ""
           },
           "bgcolor": "#E5ECF6",
           "radialaxis": {
            "gridcolor": "white",
            "linecolor": "white",
            "ticks": ""
           }
          },
          "scene": {
           "xaxis": {
            "backgroundcolor": "#E5ECF6",
            "gridcolor": "white",
            "gridwidth": 2,
            "linecolor": "white",
            "showbackground": true,
            "ticks": "",
            "zerolinecolor": "white"
           },
           "yaxis": {
            "backgroundcolor": "#E5ECF6",
            "gridcolor": "white",
            "gridwidth": 2,
            "linecolor": "white",
            "showbackground": true,
            "ticks": "",
            "zerolinecolor": "white"
           },
           "zaxis": {
            "backgroundcolor": "#E5ECF6",
            "gridcolor": "white",
            "gridwidth": 2,
            "linecolor": "white",
            "showbackground": true,
            "ticks": "",
            "zerolinecolor": "white"
           }
          },
          "shapedefaults": {
           "line": {
            "color": "#2a3f5f"
           }
          },
          "ternary": {
           "aaxis": {
            "gridcolor": "white",
            "linecolor": "white",
            "ticks": ""
           },
           "baxis": {
            "gridcolor": "white",
            "linecolor": "white",
            "ticks": ""
           },
           "bgcolor": "#E5ECF6",
           "caxis": {
            "gridcolor": "white",
            "linecolor": "white",
            "ticks": ""
           }
          },
          "title": {
           "x": 0.05
          },
          "xaxis": {
           "automargin": true,
           "gridcolor": "white",
           "linecolor": "white",
           "ticks": "",
           "title": {
            "standoff": 15
           },
           "zerolinecolor": "white",
           "zerolinewidth": 2
          },
          "yaxis": {
           "automargin": true,
           "gridcolor": "white",
           "linecolor": "white",
           "ticks": "",
           "title": {
            "standoff": 15
           },
           "zerolinecolor": "white",
           "zerolinewidth": 2
          }
         }
        },
        "xaxis": {
         "title": {
          "text": "Turn number"
         }
        },
        "yaxis": {
         "title": {
          "text": "Trade price"
         },
         "type": "log"
        }
       }
      },
      "text/html": [
       "<div>                            <div id=\"a5a4a461-fc00-4410-ade2-27bdb9f1094a\" class=\"plotly-graph-div\" style=\"height:525px; width:100%;\"></div>            <script type=\"text/javascript\">                require([\"plotly\"], function(Plotly) {                    window.PLOTLYENV=window.PLOTLYENV || {};                                    if (document.getElementById(\"a5a4a461-fc00-4410-ade2-27bdb9f1094a\")) {                    Plotly.newPlot(                        \"a5a4a461-fc00-4410-ade2-27bdb9f1094a\",                        [{\"mode\":\"markers\",\"name\":\"Buys\",\"x\":[17,19,23,34,50,51,55,64,79,81,85,90,93,96,124,125,126,127,128,142,145,149,158,160,172,173,174,185,187,190,220,245,251],\"y\":[2.9453885555267334,2.398375988006592,2.4048843383789062,2.0613975524902344,3.132406234741211,2.0693490505218506,2.0274641513824463,2.5720584392547607,2.505251407623291,3.779047727584839,2.353966474533081,3.5612690448760986,2.566904306411743,2.4937942028045654,3.470412015914917,2.1614630222320557,3.0843698978424072,3.363799810409546,3.7632808685302734,3.9168198108673096,4.622666835784912,3.1579744815826416,2.3234872817993164,2.13688063621521,3.545189142227173,2.163649797439575,3.1599838733673096,2.471705436706543,2.08280348777771,2.0940442085266113,2.9369988441467285,2.192939519882202,2.287879705429077],\"type\":\"scatter\"},{\"mode\":\"markers\",\"name\":\"Sells\",\"x\":[17,20,46,49,54,78,89,95,98,115,120,151,161,195,206,210,235,261,273,279,293,294,344,359,371,373,378,382,387,413,424,427,432,433,441,460,462,464,465,466,476,490,493,496,499,508,521,524,526,540,549,550,560,562,565,566,567,568,570],\"y\":[0.40709590911865234,0.42771539092063904,0.4755585491657257,0.43400809168815613,0.4143751561641693,0.4088512361049652,0.39176833629608154,0.3725554943084717,0.31225141882896423,0.43192601203918457,0.3858547806739807,0.27396148443222046,0.3790779113769531,0.2573615610599518,0.48835331201553345,0.36351096630096436,0.46824583411216736,0.3693755269050598,0.37496569752693176,0.4551283121109009,0.3806939423084259,0.4549039602279663,0.44327637553215027,0.3522108793258667,0.47176575660705566,0.4218197464942932,0.2110026478767395,0.438638836145401,0.4001710116863251,0.45484697818756104,0.4091219902038574,0.297860711812973,0.31702694296836853,0.4988037347793579,0.4264897108078003,0.4478251039981842,0.36455902457237244,0.310218870639801,0.2790394127368927,0.4476047158241272,0.22821572422981262,0.43091338872909546,0.4238204061985016,0.46187567710876465,0.4107106029987335,0.4606742858886719,0.28956544399261475,0.467596173286438,0.36534804105758667,0.46875303983688354,0.3864743113517761,0.3816148340702057,0.4837239384651184,0.40032777190208435,0.45407822728157043,0.4845006763935089,0.46779665350914,0.42713838815689087,0.4855453073978424],\"type\":\"scatter\"}],                        {\"xaxis\":{\"title\":{\"text\":\"Turn number\"}},\"yaxis\":{\"title\":{\"text\":\"Trade price\"},\"type\":\"log\"},\"template\":{\"data\":{\"bar\":[{\"error_x\":{\"color\":\"#2a3f5f\"},\"error_y\":{\"color\":\"#2a3f5f\"},\"marker\":{\"line\":{\"color\":\"#E5ECF6\",\"width\":0.5},\"pattern\":{\"fillmode\":\"overlay\",\"size\":10,\"solidity\":0.2}},\"type\":\"bar\"}],\"barpolar\":[{\"marker\":{\"line\":{\"color\":\"#E5ECF6\",\"width\":0.5},\"pattern\":{\"fillmode\":\"overlay\",\"size\":10,\"solidity\":0.2}},\"type\":\"barpolar\"}],\"carpet\":[{\"aaxis\":{\"endlinecolor\":\"#2a3f5f\",\"gridcolor\":\"white\",\"linecolor\":\"white\",\"minorgridcolor\":\"white\",\"startlinecolor\":\"#2a3f5f\"},\"baxis\":{\"endlinecolor\":\"#2a3f5f\",\"gridcolor\":\"white\",\"linecolor\":\"white\",\"minorgridcolor\":\"white\",\"startlinecolor\":\"#2a3f5f\"},\"type\":\"carpet\"}],\"choropleth\":[{\"colorbar\":{\"outlinewidth\":0,\"ticks\":\"\"},\"type\":\"choropleth\"}],\"contour\":[{\"colorbar\":{\"outlinewidth\":0,\"ticks\":\"\"},\"colorscale\":[[0.0,\"#0d0887\"],[0.1111111111111111,\"#46039f\"],[0.2222222222222222,\"#7201a8\"],[0.3333333333333333,\"#9c179e\"],[0.4444444444444444,\"#bd3786\"],[0.5555555555555556,\"#d8576b\"],[0.6666666666666666,\"#ed7953\"],[0.7777777777777778,\"#fb9f3a\"],[0.8888888888888888,\"#fdca26\"],[1.0,\"#f0f921\"]],\"type\":\"contour\"}],\"contourcarpet\":[{\"colorbar\":{\"outlinewidth\":0,\"ticks\":\"\"},\"type\":\"contourcarpet\"}],\"heatmap\":[{\"colorbar\":{\"outlinewidth\":0,\"ticks\":\"\"},\"colorscale\":[[0.0,\"#0d0887\"],[0.1111111111111111,\"#46039f\"],[0.2222222222222222,\"#7201a8\"],[0.3333333333333333,\"#9c179e\"],[0.4444444444444444,\"#bd3786\"],[0.5555555555555556,\"#d8576b\"],[0.6666666666666666,\"#ed7953\"],[0.7777777777777778,\"#fb9f3a\"],[0.8888888888888888,\"#fdca26\"],[1.0,\"#f0f921\"]],\"type\":\"heatmap\"}],\"heatmapgl\":[{\"colorbar\":{\"outlinewidth\":0,\"ticks\":\"\"},\"colorscale\":[[0.0,\"#0d0887\"],[0.1111111111111111,\"#46039f\"],[0.2222222222222222,\"#7201a8\"],[0.3333333333333333,\"#9c179e\"],[0.4444444444444444,\"#bd3786\"],[0.5555555555555556,\"#d8576b\"],[0.6666666666666666,\"#ed7953\"],[0.7777777777777778,\"#fb9f3a\"],[0.8888888888888888,\"#fdca26\"],[1.0,\"#f0f921\"]],\"type\":\"heatmapgl\"}],\"histogram\":[{\"marker\":{\"pattern\":{\"fillmode\":\"overlay\",\"size\":10,\"solidity\":0.2}},\"type\":\"histogram\"}],\"histogram2d\":[{\"colorbar\":{\"outlinewidth\":0,\"ticks\":\"\"},\"colorscale\":[[0.0,\"#0d0887\"],[0.1111111111111111,\"#46039f\"],[0.2222222222222222,\"#7201a8\"],[0.3333333333333333,\"#9c179e\"],[0.4444444444444444,\"#bd3786\"],[0.5555555555555556,\"#d8576b\"],[0.6666666666666666,\"#ed7953\"],[0.7777777777777778,\"#fb9f3a\"],[0.8888888888888888,\"#fdca26\"],[1.0,\"#f0f921\"]],\"type\":\"histogram2d\"}],\"histogram2dcontour\":[{\"colorbar\":{\"outlinewidth\":0,\"ticks\":\"\"},\"colorscale\":[[0.0,\"#0d0887\"],[0.1111111111111111,\"#46039f\"],[0.2222222222222222,\"#7201a8\"],[0.3333333333333333,\"#9c179e\"],[0.4444444444444444,\"#bd3786\"],[0.5555555555555556,\"#d8576b\"],[0.6666666666666666,\"#ed7953\"],[0.7777777777777778,\"#fb9f3a\"],[0.8888888888888888,\"#fdca26\"],[1.0,\"#f0f921\"]],\"type\":\"histogram2dcontour\"}],\"mesh3d\":[{\"colorbar\":{\"outlinewidth\":0,\"ticks\":\"\"},\"type\":\"mesh3d\"}],\"parcoords\":[{\"line\":{\"colorbar\":{\"outlinewidth\":0,\"ticks\":\"\"}},\"type\":\"parcoords\"}],\"pie\":[{\"automargin\":true,\"type\":\"pie\"}],\"scatter\":[{\"marker\":{\"colorbar\":{\"outlinewidth\":0,\"ticks\":\"\"}},\"type\":\"scatter\"}],\"scatter3d\":[{\"line\":{\"colorbar\":{\"outlinewidth\":0,\"ticks\":\"\"}},\"marker\":{\"colorbar\":{\"outlinewidth\":0,\"ticks\":\"\"}},\"type\":\"scatter3d\"}],\"scattercarpet\":[{\"marker\":{\"colorbar\":{\"outlinewidth\":0,\"ticks\":\"\"}},\"type\":\"scattercarpet\"}],\"scattergeo\":[{\"marker\":{\"colorbar\":{\"outlinewidth\":0,\"ticks\":\"\"}},\"type\":\"scattergeo\"}],\"scattergl\":[{\"marker\":{\"colorbar\":{\"outlinewidth\":0,\"ticks\":\"\"}},\"type\":\"scattergl\"}],\"scattermapbox\":[{\"marker\":{\"colorbar\":{\"outlinewidth\":0,\"ticks\":\"\"}},\"type\":\"scattermapbox\"}],\"scatterpolar\":[{\"marker\":{\"colorbar\":{\"outlinewidth\":0,\"ticks\":\"\"}},\"type\":\"scatterpolar\"}],\"scatterpolargl\":[{\"marker\":{\"colorbar\":{\"outlinewidth\":0,\"ticks\":\"\"}},\"type\":\"scatterpolargl\"}],\"scatterternary\":[{\"marker\":{\"colorbar\":{\"outlinewidth\":0,\"ticks\":\"\"}},\"type\":\"scatterternary\"}],\"surface\":[{\"colorbar\":{\"outlinewidth\":0,\"ticks\":\"\"},\"colorscale\":[[0.0,\"#0d0887\"],[0.1111111111111111,\"#46039f\"],[0.2222222222222222,\"#7201a8\"],[0.3333333333333333,\"#9c179e\"],[0.4444444444444444,\"#bd3786\"],[0.5555555555555556,\"#d8576b\"],[0.6666666666666666,\"#ed7953\"],[0.7777777777777778,\"#fb9f3a\"],[0.8888888888888888,\"#fdca26\"],[1.0,\"#f0f921\"]],\"type\":\"surface\"}],\"table\":[{\"cells\":{\"fill\":{\"color\":\"#EBF0F8\"},\"line\":{\"color\":\"white\"}},\"header\":{\"fill\":{\"color\":\"#C8D4E3\"},\"line\":{\"color\":\"white\"}},\"type\":\"table\"}]},\"layout\":{\"annotationdefaults\":{\"arrowcolor\":\"#2a3f5f\",\"arrowhead\":0,\"arrowwidth\":1},\"autotypenumbers\":\"strict\",\"coloraxis\":{\"colorbar\":{\"outlinewidth\":0,\"ticks\":\"\"}},\"colorscale\":{\"diverging\":[[0,\"#8e0152\"],[0.1,\"#c51b7d\"],[0.2,\"#de77ae\"],[0.3,\"#f1b6da\"],[0.4,\"#fde0ef\"],[0.5,\"#f7f7f7\"],[0.6,\"#e6f5d0\"],[0.7,\"#b8e186\"],[0.8,\"#7fbc41\"],[0.9,\"#4d9221\"],[1,\"#276419\"]],\"sequential\":[[0.0,\"#0d0887\"],[0.1111111111111111,\"#46039f\"],[0.2222222222222222,\"#7201a8\"],[0.3333333333333333,\"#9c179e\"],[0.4444444444444444,\"#bd3786\"],[0.5555555555555556,\"#d8576b\"],[0.6666666666666666,\"#ed7953\"],[0.7777777777777778,\"#fb9f3a\"],[0.8888888888888888,\"#fdca26\"],[1.0,\"#f0f921\"]],\"sequentialminus\":[[0.0,\"#0d0887\"],[0.1111111111111111,\"#46039f\"],[0.2222222222222222,\"#7201a8\"],[0.3333333333333333,\"#9c179e\"],[0.4444444444444444,\"#bd3786\"],[0.5555555555555556,\"#d8576b\"],[0.6666666666666666,\"#ed7953\"],[0.7777777777777778,\"#fb9f3a\"],[0.8888888888888888,\"#fdca26\"],[1.0,\"#f0f921\"]]},\"colorway\":[\"#636efa\",\"#EF553B\",\"#00cc96\",\"#ab63fa\",\"#FFA15A\",\"#19d3f3\",\"#FF6692\",\"#B6E880\",\"#FF97FF\",\"#FECB52\"],\"font\":{\"color\":\"#2a3f5f\"},\"geo\":{\"bgcolor\":\"white\",\"lakecolor\":\"white\",\"landcolor\":\"#E5ECF6\",\"showlakes\":true,\"showland\":true,\"subunitcolor\":\"white\"},\"hoverlabel\":{\"align\":\"left\"},\"hovermode\":\"closest\",\"mapbox\":{\"style\":\"light\"},\"paper_bgcolor\":\"white\",\"plot_bgcolor\":\"#E5ECF6\",\"polar\":{\"angularaxis\":{\"gridcolor\":\"white\",\"linecolor\":\"white\",\"ticks\":\"\"},\"bgcolor\":\"#E5ECF6\",\"radialaxis\":{\"gridcolor\":\"white\",\"linecolor\":\"white\",\"ticks\":\"\"}},\"scene\":{\"xaxis\":{\"backgroundcolor\":\"#E5ECF6\",\"gridcolor\":\"white\",\"gridwidth\":2,\"linecolor\":\"white\",\"showbackground\":true,\"ticks\":\"\",\"zerolinecolor\":\"white\"},\"yaxis\":{\"backgroundcolor\":\"#E5ECF6\",\"gridcolor\":\"white\",\"gridwidth\":2,\"linecolor\":\"white\",\"showbackground\":true,\"ticks\":\"\",\"zerolinecolor\":\"white\"},\"zaxis\":{\"backgroundcolor\":\"#E5ECF6\",\"gridcolor\":\"white\",\"gridwidth\":2,\"linecolor\":\"white\",\"showbackground\":true,\"ticks\":\"\",\"zerolinecolor\":\"white\"}},\"shapedefaults\":{\"line\":{\"color\":\"#2a3f5f\"}},\"ternary\":{\"aaxis\":{\"gridcolor\":\"white\",\"linecolor\":\"white\",\"ticks\":\"\"},\"baxis\":{\"gridcolor\":\"white\",\"linecolor\":\"white\",\"ticks\":\"\"},\"bgcolor\":\"#E5ECF6\",\"caxis\":{\"gridcolor\":\"white\",\"linecolor\":\"white\",\"ticks\":\"\"}},\"title\":{\"x\":0.05},\"xaxis\":{\"automargin\":true,\"gridcolor\":\"white\",\"linecolor\":\"white\",\"ticks\":\"\",\"title\":{\"standoff\":15},\"zerolinecolor\":\"white\",\"zerolinewidth\":2},\"yaxis\":{\"automargin\":true,\"gridcolor\":\"white\",\"linecolor\":\"white\",\"ticks\":\"\",\"title\":{\"standoff\":15},\"zerolinecolor\":\"white\",\"zerolinewidth\":2}}}},                        {\"responsive\": true}                    ).then(function(){\n",
       "                            \n",
       "var gd = document.getElementById('a5a4a461-fc00-4410-ade2-27bdb9f1094a');\n",
       "var x = new MutationObserver(function (mutations, observer) {{\n",
       "        var display = window.getComputedStyle(gd).display;\n",
       "        if (!display || display === 'none') {{\n",
       "            console.log([gd, 'removed!']);\n",
       "            Plotly.purge(gd);\n",
       "            observer.disconnect();\n",
       "        }}\n",
       "}});\n",
       "\n",
       "// Listen for the removal of the full notebook cells\n",
       "var notebookContainer = gd.closest('#notebook-container');\n",
       "if (notebookContainer) {{\n",
       "    x.observe(notebookContainer, {childList: true});\n",
       "}}\n",
       "\n",
       "// Listen for the clearing of the current output cell\n",
       "var outputEl = gd.closest('.output');\n",
       "if (outputEl) {{\n",
       "    x.observe(outputEl, {childList: true});\n",
       "}}\n",
       "\n",
       "                        })                };                });            </script>        </div>"
      ]
     },
     "metadata": {},
     "output_type": "display_data"
    },
    {
     "data": {
      "application/javascript": [
       "\n",
       "            setTimeout(function() {\n",
       "                var nbb_cell_id = 6;\n",
       "                var nbb_unformatted_code = \"def trades(buyer: Account):\\n    return {\\n        turn_idx: trade\\n        for turn_idx, turn_result in enumerate(turn_results)\\n        for trade in turn_result.trades\\n        if trade.buyer is buyer\\n    }\\n\\n\\ngo.Figure(\\n    layout=dict(\\n        xaxis_title=\\\"Turn number\\\",\\n        yaxis_title=\\\"Trade price\\\",\\n        yaxis_type=\\\"log\\\",\\n    ),\\n    data=[\\n        go.Scatter(\\n            name=\\\"Buys\\\",\\n            mode=\\\"markers\\\",\\n            x=[idx for idx in trades(buyer=traders[0].account).keys()],\\n            y=[trade.price for trade in trades(buyer=traders[0].account).values()],\\n        ),\\n        go.Scatter(\\n            name=\\\"Sells\\\",\\n            mode=\\\"markers\\\",\\n            x=[idx for idx in trades(buyer=traders[0].market_maker.account).keys()],\\n            y=[\\n                trade.price\\n                for trade in trades(buyer=traders[0].market_maker.account).values()\\n            ],\\n        ),\\n    ],\\n)\";\n",
       "                var nbb_formatted_code = \"def trades(buyer: Account):\\n    return {\\n        turn_idx: trade\\n        for turn_idx, turn_result in enumerate(turn_results)\\n        for trade in turn_result.trades\\n        if trade.buyer is buyer\\n    }\\n\\n\\ngo.Figure(\\n    layout=dict(\\n        xaxis_title=\\\"Turn number\\\",\\n        yaxis_title=\\\"Trade price\\\",\\n        yaxis_type=\\\"log\\\",\\n    ),\\n    data=[\\n        go.Scatter(\\n            name=\\\"Buys\\\",\\n            mode=\\\"markers\\\",\\n            x=[idx for idx in trades(buyer=traders[0].account).keys()],\\n            y=[trade.price for trade in trades(buyer=traders[0].account).values()],\\n        ),\\n        go.Scatter(\\n            name=\\\"Sells\\\",\\n            mode=\\\"markers\\\",\\n            x=[idx for idx in trades(buyer=traders[0].market_maker.account).keys()],\\n            y=[\\n                trade.price\\n                for trade in trades(buyer=traders[0].market_maker.account).values()\\n            ],\\n        ),\\n    ],\\n)\";\n",
       "                var nbb_cells = Jupyter.notebook.get_cells();\n",
       "                for (var i = 0; i < nbb_cells.length; ++i) {\n",
       "                    if (nbb_cells[i].input_prompt_number == nbb_cell_id) {\n",
       "                        if (nbb_cells[i].get_text() == nbb_unformatted_code) {\n",
       "                             nbb_cells[i].set_text(nbb_formatted_code);\n",
       "                        }\n",
       "                        break;\n",
       "                    }\n",
       "                }\n",
       "            }, 500);\n",
       "            "
      ],
      "text/plain": [
       "<IPython.core.display.Javascript object>"
      ]
     },
     "metadata": {},
     "output_type": "display_data"
    }
   ],
   "source": [
    "def trades(buyer: Account):\n",
    "    return {\n",
    "        turn_idx: trade\n",
    "        for turn_idx, turn_result in enumerate(turn_results)\n",
    "        for trade in turn_result.trades\n",
    "        if trade.buyer is buyer\n",
    "    }\n",
    "\n",
    "\n",
    "go.Figure(\n",
    "    layout=dict(\n",
    "        xaxis_title=\"Turn number\",\n",
    "        yaxis_title=\"Trade price\",\n",
    "        yaxis_type=\"log\",\n",
    "    ),\n",
    "    data=[\n",
    "        go.Scatter(\n",
    "            name=\"Buys\",\n",
    "            mode=\"markers\",\n",
    "            x=[idx for idx in trades(buyer=traders[0].account).keys()],\n",
    "            y=[trade.price for trade in trades(buyer=traders[0].account).values()],\n",
    "        ),\n",
    "        go.Scatter(\n",
    "            name=\"Sells\",\n",
    "            mode=\"markers\",\n",
    "            x=[idx for idx in trades(buyer=traders[0].market_maker.account).keys()],\n",
    "            y=[\n",
    "                trade.price\n",
    "                for trade in trades(buyer=traders[0].market_maker.account).values()\n",
    "            ],\n",
    "        ),\n",
    "    ],\n",
    ")"
   ]
  }
 ],
 "metadata": {
  "kernelspec": {
   "display_name": "Python 3 (ipykernel)",
   "language": "python",
   "name": "python3"
  },
  "language_info": {
   "codemirror_mode": {
    "name": "ipython",
    "version": 3
   },
   "file_extension": ".py",
   "mimetype": "text/x-python",
   "name": "python",
   "nbconvert_exporter": "python",
   "pygments_lexer": "ipython3",
   "version": "3.9.0"
  },
  "widgets": {
   "application/vnd.jupyter.widget-state+json": {
    "state": {
     "0169315186e440b4b71368c2847e7e3c": {
      "model_module": "@jupyter-widgets/base",
      "model_module_version": "1.2.0",
      "model_name": "LayoutModel",
      "state": {}
     },
     "0230d7424e504265925ee7195a98b0f0": {
      "model_module": "@jupyter-widgets/base",
      "model_module_version": "1.2.0",
      "model_name": "LayoutModel",
      "state": {}
     },
     "079dda615d204a84a8c9e6e5cff44f75": {
      "model_module": "@jupyter-widgets/controls",
      "model_module_version": "1.5.0",
      "model_name": "DescriptionStyleModel",
      "state": {
       "description_width": ""
      }
     },
     "0976de03b59a4c699247adff797d2918": {
      "model_module": "@jupyter-widgets/base",
      "model_module_version": "1.2.0",
      "model_name": "LayoutModel",
      "state": {}
     },
     "0d283e682b7649d0956ef1cebfb521fc": {
      "model_module": "@jupyter-widgets/base",
      "model_module_version": "1.2.0",
      "model_name": "LayoutModel",
      "state": {}
     },
     "1542f8a378454443a83eb2fbf92d04ad": {
      "model_module": "@jupyter-widgets/controls",
      "model_module_version": "1.5.0",
      "model_name": "HBoxModel",
      "state": {
       "children": [
        "IPY_MODEL_d86f2c72df4847119d4f3d69cefebf69",
        "IPY_MODEL_5260a11de3404fa9b01331d535a919f7",
        "IPY_MODEL_577d80e2d1e34c219eb7017288792857"
       ],
       "layout": "IPY_MODEL_c93f6b2c5cd045c5ac075fb05846fa75"
      }
     },
     "160c64fd16ad47d7a4fff8b39fe48eb6": {
      "model_module": "@jupyter-widgets/controls",
      "model_module_version": "1.5.0",
      "model_name": "DescriptionStyleModel",
      "state": {
       "description_width": ""
      }
     },
     "1610e113318749af8bd298e02ec7658e": {
      "model_module": "@jupyter-widgets/controls",
      "model_module_version": "1.5.0",
      "model_name": "DescriptionStyleModel",
      "state": {
       "description_width": ""
      }
     },
     "16111ccce5704e888ec909ed9a598744": {
      "model_module": "@jupyter-widgets/controls",
      "model_module_version": "1.5.0",
      "model_name": "DescriptionStyleModel",
      "state": {
       "description_width": ""
      }
     },
     "16172826851e43ee850ae8dd6a4b6f9c": {
      "model_module": "@jupyter-widgets/controls",
      "model_module_version": "1.5.0",
      "model_name": "FloatProgressModel",
      "state": {
       "bar_style": "success",
       "layout": "IPY_MODEL_49ef5991eebe4748ac0e42cfb716241e",
       "max": 1024,
       "style": "IPY_MODEL_b4b58f9aa7ce49018aeff14bee02161c",
       "value": 1024
      }
     },
     "16858315fc4a4244b4d34bb4e1b03c25": {
      "model_module": "@jupyter-widgets/controls",
      "model_module_version": "1.5.0",
      "model_name": "FloatProgressModel",
      "state": {
       "bar_style": "danger",
       "layout": "IPY_MODEL_37a90f7e90364b1db32a502058abf6bf",
       "max": 1024,
       "style": "IPY_MODEL_af8fa06b83d24a0b9f1fd319905654aa"
      }
     },
     "185015bfd2b2417aa3247c2d5ef83040": {
      "model_module": "@jupyter-widgets/controls",
      "model_module_version": "1.5.0",
      "model_name": "HTMLModel",
      "state": {
       "layout": "IPY_MODEL_99d56b0aa9114b629abf53bc80b9abfd",
       "style": "IPY_MODEL_64194c06b5e1439aaf4c45cb811cd38e",
       "value": "100%"
      }
     },
     "1c5de2bbec694f5b81672947e934ebf5": {
      "model_module": "@jupyter-widgets/base",
      "model_module_version": "1.2.0",
      "model_name": "LayoutModel",
      "state": {}
     },
     "1f71d7c824f34ea39674ef1ee78ae95e": {
      "model_module": "@jupyter-widgets/base",
      "model_module_version": "1.2.0",
      "model_name": "LayoutModel",
      "state": {}
     },
     "210124722219475a859b6823d7e4ec78": {
      "model_module": "@jupyter-widgets/base",
      "model_module_version": "1.2.0",
      "model_name": "LayoutModel",
      "state": {}
     },
     "276a87509a1a4afcb8ba68395a1c9a62": {
      "model_module": "@jupyter-widgets/base",
      "model_module_version": "1.2.0",
      "model_name": "LayoutModel",
      "state": {}
     },
     "2a58c3efdf1d47d9b524469035e2afbf": {
      "model_module": "@jupyter-widgets/controls",
      "model_module_version": "1.5.0",
      "model_name": "HTMLModel",
      "state": {
       "layout": "IPY_MODEL_d85b976ef4ed4a429e46bdd1f4d8b5e8",
       "style": "IPY_MODEL_85c456749b8044058452293b09ab9baf",
       "value": " 4096/4096 [00:14&lt;00:00, 288.88it/s]"
      }
     },
     "2f4ef0d9cca940248da5c154ea0afc00": {
      "model_module": "@jupyter-widgets/controls",
      "model_module_version": "1.5.0",
      "model_name": "HTMLModel",
      "state": {
       "layout": "IPY_MODEL_ce0e6e63f16b4e6191f03d70779ebabc",
       "style": "IPY_MODEL_880ae500c4044443a13ce4511ccfef3b",
       "value": " 0/1024 [00:00&lt;?, ?it/s]"
      }
     },
     "317d8842269c40bb9dbeed5996d438ef": {
      "model_module": "@jupyter-widgets/base",
      "model_module_version": "1.2.0",
      "model_name": "LayoutModel",
      "state": {}
     },
     "329e2539a7844da19170c90a83adf264": {
      "model_module": "@jupyter-widgets/controls",
      "model_module_version": "1.5.0",
      "model_name": "DescriptionStyleModel",
      "state": {
       "description_width": ""
      }
     },
     "33ed2712b2eb48dda34b369c1996570b": {
      "model_module": "@jupyter-widgets/controls",
      "model_module_version": "1.5.0",
      "model_name": "DescriptionStyleModel",
      "state": {
       "description_width": ""
      }
     },
     "37a90f7e90364b1db32a502058abf6bf": {
      "model_module": "@jupyter-widgets/base",
      "model_module_version": "1.2.0",
      "model_name": "LayoutModel",
      "state": {}
     },
     "44ca5227194e4804a73cf04fe30416c2": {
      "model_module": "@jupyter-widgets/controls",
      "model_module_version": "1.5.0",
      "model_name": "HTMLModel",
      "state": {
       "layout": "IPY_MODEL_ae70c7061d5c463d8c3835e6c0cc4ea6",
       "style": "IPY_MODEL_079dda615d204a84a8c9e6e5cff44f75",
       "value": " 1024/1024 [00:03&lt;00:00, 296.73it/s]"
      }
     },
     "47baf49955c8407597b15a9267492b8d": {
      "model_module": "@jupyter-widgets/base",
      "model_module_version": "1.2.0",
      "model_name": "LayoutModel",
      "state": {}
     },
     "482dbb8ea0d14b14b2d410b8da89e4a5": {
      "model_module": "@jupyter-widgets/controls",
      "model_module_version": "1.5.0",
      "model_name": "HTMLModel",
      "state": {
       "layout": "IPY_MODEL_85206c6a95ab4926843c2562891984ab",
       "style": "IPY_MODEL_160c64fd16ad47d7a4fff8b39fe48eb6",
       "value": "100%"
      }
     },
     "49ef5991eebe4748ac0e42cfb716241e": {
      "model_module": "@jupyter-widgets/base",
      "model_module_version": "1.2.0",
      "model_name": "LayoutModel",
      "state": {}
     },
     "4cd6c6e81c1747379a9de1b22ac95488": {
      "model_module": "@jupyter-widgets/controls",
      "model_module_version": "1.5.0",
      "model_name": "HTMLModel",
      "state": {
       "layout": "IPY_MODEL_f3a620da121e4b0d84d2576d2f1cce7d",
       "style": "IPY_MODEL_329e2539a7844da19170c90a83adf264",
       "value": " 4096/4096 [00:14&lt;00:00, 279.36it/s]"
      }
     },
     "4ce01bbb9ddb40dd8ce68e103af684ee": {
      "model_module": "@jupyter-widgets/controls",
      "model_module_version": "1.5.0",
      "model_name": "DescriptionStyleModel",
      "state": {
       "description_width": ""
      }
     },
     "51cccdc3f4df44a49791a030287ae5da": {
      "model_module": "@jupyter-widgets/base",
      "model_module_version": "1.2.0",
      "model_name": "LayoutModel",
      "state": {}
     },
     "51f04e48ee1e477aacc694722f57fb1d": {
      "model_module": "@jupyter-widgets/base",
      "model_module_version": "1.2.0",
      "model_name": "LayoutModel",
      "state": {}
     },
     "5260a11de3404fa9b01331d535a919f7": {
      "model_module": "@jupyter-widgets/controls",
      "model_module_version": "1.5.0",
      "model_name": "FloatProgressModel",
      "state": {
       "bar_style": "success",
       "layout": "IPY_MODEL_51f04e48ee1e477aacc694722f57fb1d",
       "max": 1024,
       "style": "IPY_MODEL_fb358d2d7ad34974beb6ab6b1295f403",
       "value": 1024
      }
     },
     "577d80e2d1e34c219eb7017288792857": {
      "model_module": "@jupyter-widgets/controls",
      "model_module_version": "1.5.0",
      "model_name": "HTMLModel",
      "state": {
       "layout": "IPY_MODEL_276a87509a1a4afcb8ba68395a1c9a62",
       "style": "IPY_MODEL_59b3e4cf735c4b14be9df0e6d2291e06",
       "value": " 1024/1024 [00:03&lt;00:00, 301.54it/s]"
      }
     },
     "59b3e4cf735c4b14be9df0e6d2291e06": {
      "model_module": "@jupyter-widgets/controls",
      "model_module_version": "1.5.0",
      "model_name": "DescriptionStyleModel",
      "state": {
       "description_width": ""
      }
     },
     "5df9c5eb6915415fac00a244587c9b50": {
      "model_module": "@jupyter-widgets/base",
      "model_module_version": "1.2.0",
      "model_name": "LayoutModel",
      "state": {}
     },
     "619cecb9f8ce4639866e704bd51b9967": {
      "model_module": "@jupyter-widgets/base",
      "model_module_version": "1.2.0",
      "model_name": "LayoutModel",
      "state": {}
     },
     "64194c06b5e1439aaf4c45cb811cd38e": {
      "model_module": "@jupyter-widgets/controls",
      "model_module_version": "1.5.0",
      "model_name": "DescriptionStyleModel",
      "state": {
       "description_width": ""
      }
     },
     "6bc70ba5582a4e98ac5420bdc2905b44": {
      "model_module": "@jupyter-widgets/base",
      "model_module_version": "1.2.0",
      "model_name": "LayoutModel",
      "state": {}
     },
     "6d074465ceaf4c31b2651cebc9f7f0d3": {
      "model_module": "@jupyter-widgets/controls",
      "model_module_version": "1.5.0",
      "model_name": "FloatProgressModel",
      "state": {
       "bar_style": "success",
       "layout": "IPY_MODEL_c600a66fd58e40e6b0a119021d678ee9",
       "max": 4096,
       "style": "IPY_MODEL_a4faf92d11a34ce6a51319ebddbdcb61",
       "value": 4096
      }
     },
     "6fef764f82294008adf1feb0e391b28c": {
      "model_module": "@jupyter-widgets/controls",
      "model_module_version": "1.5.0",
      "model_name": "ProgressStyleModel",
      "state": {
       "description_width": ""
      }
     },
     "71fc64fe5c5a49cebdb99012cb30d180": {
      "model_module": "@jupyter-widgets/controls",
      "model_module_version": "1.5.0",
      "model_name": "HBoxModel",
      "state": {
       "children": [
        "IPY_MODEL_482dbb8ea0d14b14b2d410b8da89e4a5",
        "IPY_MODEL_6d074465ceaf4c31b2651cebc9f7f0d3",
        "IPY_MODEL_4cd6c6e81c1747379a9de1b22ac95488"
       ],
       "layout": "IPY_MODEL_47baf49955c8407597b15a9267492b8d"
      }
     },
     "812a5c0f18e749da97dca4ab6b3386be": {
      "model_module": "@jupyter-widgets/controls",
      "model_module_version": "1.5.0",
      "model_name": "FloatProgressModel",
      "state": {
       "bar_style": "success",
       "layout": "IPY_MODEL_317d8842269c40bb9dbeed5996d438ef",
       "max": 4096,
       "style": "IPY_MODEL_8873173be8204cbf921fe49e27c52197",
       "value": 4096
      }
     },
     "85206c6a95ab4926843c2562891984ab": {
      "model_module": "@jupyter-widgets/base",
      "model_module_version": "1.2.0",
      "model_name": "LayoutModel",
      "state": {}
     },
     "85c456749b8044058452293b09ab9baf": {
      "model_module": "@jupyter-widgets/controls",
      "model_module_version": "1.5.0",
      "model_name": "DescriptionStyleModel",
      "state": {
       "description_width": ""
      }
     },
     "86c49809e23440f6a0e145c6517e6577": {
      "model_module": "@jupyter-widgets/controls",
      "model_module_version": "1.5.0",
      "model_name": "DescriptionStyleModel",
      "state": {
       "description_width": ""
      }
     },
     "880ae500c4044443a13ce4511ccfef3b": {
      "model_module": "@jupyter-widgets/controls",
      "model_module_version": "1.5.0",
      "model_name": "DescriptionStyleModel",
      "state": {
       "description_width": ""
      }
     },
     "8873173be8204cbf921fe49e27c52197": {
      "model_module": "@jupyter-widgets/controls",
      "model_module_version": "1.5.0",
      "model_name": "ProgressStyleModel",
      "state": {
       "description_width": ""
      }
     },
     "9640d002dce645c1a7ef95dfbd7a1e70": {
      "model_module": "@jupyter-widgets/controls",
      "model_module_version": "1.5.0",
      "model_name": "DescriptionStyleModel",
      "state": {
       "description_width": ""
      }
     },
     "99d56b0aa9114b629abf53bc80b9abfd": {
      "model_module": "@jupyter-widgets/base",
      "model_module_version": "1.2.0",
      "model_name": "LayoutModel",
      "state": {}
     },
     "9fba6c46273547878c5e1dff57a8ba35": {
      "model_module": "@jupyter-widgets/controls",
      "model_module_version": "1.5.0",
      "model_name": "HTMLModel",
      "state": {
       "layout": "IPY_MODEL_0976de03b59a4c699247adff797d2918",
       "style": "IPY_MODEL_1610e113318749af8bd298e02ec7658e",
       "value": "100%"
      }
     },
     "a4faf92d11a34ce6a51319ebddbdcb61": {
      "model_module": "@jupyter-widgets/controls",
      "model_module_version": "1.5.0",
      "model_name": "ProgressStyleModel",
      "state": {
       "description_width": ""
      }
     },
     "a5b5f19f4fdf4e01afd764f4dd36dc46": {
      "model_module": "@jupyter-widgets/controls",
      "model_module_version": "1.5.0",
      "model_name": "HTMLModel",
      "state": {
       "layout": "IPY_MODEL_0230d7424e504265925ee7195a98b0f0",
       "style": "IPY_MODEL_4ce01bbb9ddb40dd8ce68e103af684ee",
       "value": "  0%"
      }
     },
     "abc191d763ab41eda1684db73b8a143a": {
      "model_module": "@jupyter-widgets/base",
      "model_module_version": "1.2.0",
      "model_name": "LayoutModel",
      "state": {}
     },
     "abe6de8561ce4e9f801fdc4ae5187312": {
      "model_module": "@jupyter-widgets/base",
      "model_module_version": "1.2.0",
      "model_name": "LayoutModel",
      "state": {}
     },
     "ae70c7061d5c463d8c3835e6c0cc4ea6": {
      "model_module": "@jupyter-widgets/base",
      "model_module_version": "1.2.0",
      "model_name": "LayoutModel",
      "state": {}
     },
     "af8fa06b83d24a0b9f1fd319905654aa": {
      "model_module": "@jupyter-widgets/controls",
      "model_module_version": "1.5.0",
      "model_name": "ProgressStyleModel",
      "state": {
       "description_width": ""
      }
     },
     "b4b58f9aa7ce49018aeff14bee02161c": {
      "model_module": "@jupyter-widgets/controls",
      "model_module_version": "1.5.0",
      "model_name": "ProgressStyleModel",
      "state": {
       "description_width": ""
      }
     },
     "b920e019b5a249c9b32f780929183377": {
      "model_module": "@jupyter-widgets/controls",
      "model_module_version": "1.5.0",
      "model_name": "HTMLModel",
      "state": {
       "layout": "IPY_MODEL_0169315186e440b4b71368c2847e7e3c",
       "style": "IPY_MODEL_16111ccce5704e888ec909ed9a598744",
       "value": "  6%"
      }
     },
     "c23f37fa0dc64c8d9f92427fbf7ef8ae": {
      "model_module": "@jupyter-widgets/controls",
      "model_module_version": "1.5.0",
      "model_name": "HBoxModel",
      "state": {
       "children": [
        "IPY_MODEL_9fba6c46273547878c5e1dff57a8ba35",
        "IPY_MODEL_16172826851e43ee850ae8dd6a4b6f9c",
        "IPY_MODEL_44ca5227194e4804a73cf04fe30416c2"
       ],
       "layout": "IPY_MODEL_d6459d3baac34af4924d604245b1de44"
      }
     },
     "c600a66fd58e40e6b0a119021d678ee9": {
      "model_module": "@jupyter-widgets/base",
      "model_module_version": "1.2.0",
      "model_name": "LayoutModel",
      "state": {}
     },
     "c84f3e8d536c453fbafffef9c36f1522": {
      "model_module": "@jupyter-widgets/controls",
      "model_module_version": "1.5.0",
      "model_name": "ProgressStyleModel",
      "state": {
       "description_width": ""
      }
     },
     "c93f6b2c5cd045c5ac075fb05846fa75": {
      "model_module": "@jupyter-widgets/base",
      "model_module_version": "1.2.0",
      "model_name": "LayoutModel",
      "state": {}
     },
     "ce0e6e63f16b4e6191f03d70779ebabc": {
      "model_module": "@jupyter-widgets/base",
      "model_module_version": "1.2.0",
      "model_name": "LayoutModel",
      "state": {}
     },
     "d024b18668d041ba8fb09cede787bc0c": {
      "model_module": "@jupyter-widgets/controls",
      "model_module_version": "1.5.0",
      "model_name": "FloatProgressModel",
      "state": {
       "bar_style": "danger",
       "layout": "IPY_MODEL_0d283e682b7649d0956ef1cebfb521fc",
       "max": 1024,
       "style": "IPY_MODEL_6fef764f82294008adf1feb0e391b28c",
       "value": 64
      }
     },
     "d0b1027552d24b90bc6d21a2ae5367ed": {
      "model_module": "@jupyter-widgets/controls",
      "model_module_version": "1.5.0",
      "model_name": "HBoxModel",
      "state": {
       "children": [
        "IPY_MODEL_b920e019b5a249c9b32f780929183377",
        "IPY_MODEL_d024b18668d041ba8fb09cede787bc0c",
        "IPY_MODEL_fa3f0853778143209c1c178e9aa0da1a"
       ],
       "layout": "IPY_MODEL_619cecb9f8ce4639866e704bd51b9967"
      }
     },
     "d6459d3baac34af4924d604245b1de44": {
      "model_module": "@jupyter-widgets/base",
      "model_module_version": "1.2.0",
      "model_name": "LayoutModel",
      "state": {}
     },
     "d6b276b7537143418b88aaff8135cf03": {
      "model_module": "@jupyter-widgets/controls",
      "model_module_version": "1.5.0",
      "model_name": "HBoxModel",
      "state": {
       "children": [
        "IPY_MODEL_a5b5f19f4fdf4e01afd764f4dd36dc46",
        "IPY_MODEL_16858315fc4a4244b4d34bb4e1b03c25",
        "IPY_MODEL_2f4ef0d9cca940248da5c154ea0afc00"
       ],
       "layout": "IPY_MODEL_210124722219475a859b6823d7e4ec78"
      }
     },
     "d85b976ef4ed4a429e46bdd1f4d8b5e8": {
      "model_module": "@jupyter-widgets/base",
      "model_module_version": "1.2.0",
      "model_name": "LayoutModel",
      "state": {}
     },
     "d86f2c72df4847119d4f3d69cefebf69": {
      "model_module": "@jupyter-widgets/controls",
      "model_module_version": "1.5.0",
      "model_name": "HTMLModel",
      "state": {
       "layout": "IPY_MODEL_5df9c5eb6915415fac00a244587c9b50",
       "style": "IPY_MODEL_ddf2f739540247fdafe960000e58118e",
       "value": "100%"
      }
     },
     "ddf2f739540247fdafe960000e58118e": {
      "model_module": "@jupyter-widgets/controls",
      "model_module_version": "1.5.0",
      "model_name": "DescriptionStyleModel",
      "state": {
       "description_width": ""
      }
     },
     "e51a9bd27bdb40a4b52a8e2124977a5f": {
      "model_module": "@jupyter-widgets/controls",
      "model_module_version": "1.5.0",
      "model_name": "HBoxModel",
      "state": {
       "children": [
        "IPY_MODEL_185015bfd2b2417aa3247c2d5ef83040",
        "IPY_MODEL_812a5c0f18e749da97dca4ab6b3386be",
        "IPY_MODEL_2a58c3efdf1d47d9b524469035e2afbf"
       ],
       "layout": "IPY_MODEL_abc191d763ab41eda1684db73b8a143a"
      }
     },
     "e5b8dfdf2fc94b4d852c8efd15e85701": {
      "model_module": "@jupyter-widgets/controls",
      "model_module_version": "1.5.0",
      "model_name": "HTMLModel",
      "state": {
       "layout": "IPY_MODEL_1f71d7c824f34ea39674ef1ee78ae95e",
       "style": "IPY_MODEL_9640d002dce645c1a7ef95dfbd7a1e70",
       "value": " 1024/1024 [00:03&lt;00:00, 285.97it/s]"
      }
     },
     "ec8669e00bc14b978a57d41be8f93c64": {
      "model_module": "@jupyter-widgets/controls",
      "model_module_version": "1.5.0",
      "model_name": "HTMLModel",
      "state": {
       "layout": "IPY_MODEL_6bc70ba5582a4e98ac5420bdc2905b44",
       "style": "IPY_MODEL_33ed2712b2eb48dda34b369c1996570b",
       "value": "100%"
      }
     },
     "f3a620da121e4b0d84d2576d2f1cce7d": {
      "model_module": "@jupyter-widgets/base",
      "model_module_version": "1.2.0",
      "model_name": "LayoutModel",
      "state": {}
     },
     "f8e56700128a407382a5b493b5e39ee6": {
      "model_module": "@jupyter-widgets/controls",
      "model_module_version": "1.5.0",
      "model_name": "HBoxModel",
      "state": {
       "children": [
        "IPY_MODEL_ec8669e00bc14b978a57d41be8f93c64",
        "IPY_MODEL_f95a655dde3f4373afd33689c2d15aa9",
        "IPY_MODEL_e5b8dfdf2fc94b4d852c8efd15e85701"
       ],
       "layout": "IPY_MODEL_1c5de2bbec694f5b81672947e934ebf5"
      }
     },
     "f95a655dde3f4373afd33689c2d15aa9": {
      "model_module": "@jupyter-widgets/controls",
      "model_module_version": "1.5.0",
      "model_name": "FloatProgressModel",
      "state": {
       "bar_style": "success",
       "layout": "IPY_MODEL_abe6de8561ce4e9f801fdc4ae5187312",
       "max": 1024,
       "style": "IPY_MODEL_c84f3e8d536c453fbafffef9c36f1522",
       "value": 1024
      }
     },
     "fa3f0853778143209c1c178e9aa0da1a": {
      "model_module": "@jupyter-widgets/controls",
      "model_module_version": "1.5.0",
      "model_name": "HTMLModel",
      "state": {
       "layout": "IPY_MODEL_51cccdc3f4df44a49791a030287ae5da",
       "style": "IPY_MODEL_86c49809e23440f6a0e145c6517e6577",
       "value": " 64/1024 [00:00&lt;00:05, 168.49it/s]"
      }
     },
     "fb358d2d7ad34974beb6ab6b1295f403": {
      "model_module": "@jupyter-widgets/controls",
      "model_module_version": "1.5.0",
      "model_name": "ProgressStyleModel",
      "state": {
       "description_width": ""
      }
     }
    },
    "version_major": 2,
    "version_minor": 0
   }
  }
 },
 "nbformat": 4,
 "nbformat_minor": 5
}

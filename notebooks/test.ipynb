{
 "cells": [
  {
   "cell_type": "code",
   "execution_count": 1,
   "id": "f0268913",
   "metadata": {},
   "outputs": [
    {
     "data": {
      "application/javascript": [
       "\n",
       "            setTimeout(function() {\n",
       "                var nbb_cell_id = 1;\n",
       "                var nbb_unformatted_code = \"%load_ext nb_black\";\n",
       "                var nbb_formatted_code = \"%load_ext nb_black\";\n",
       "                var nbb_cells = Jupyter.notebook.get_cells();\n",
       "                for (var i = 0; i < nbb_cells.length; ++i) {\n",
       "                    if (nbb_cells[i].input_prompt_number == nbb_cell_id) {\n",
       "                        if (nbb_cells[i].get_text() == nbb_unformatted_code) {\n",
       "                             nbb_cells[i].set_text(nbb_formatted_code);\n",
       "                        }\n",
       "                        break;\n",
       "                    }\n",
       "                }\n",
       "            }, 500);\n",
       "            "
      ],
      "text/plain": [
       "<IPython.core.display.Javascript object>"
      ]
     },
     "metadata": {},
     "output_type": "display_data"
    }
   ],
   "source": [
    "%load_ext nb_black"
   ]
  },
  {
   "cell_type": "code",
   "execution_count": 2,
   "id": "2342d187",
   "metadata": {},
   "outputs": [
    {
     "data": {
      "application/javascript": [
       "\n",
       "            setTimeout(function() {\n",
       "                var nbb_cell_id = 2;\n",
       "                var nbb_unformatted_code = \"import torch\\nfrom tqdm.notebook import trange\\nfrom tradezoo import (\\n    Account,\\n    Actor,\\n    Agent,\\n    Critic,\\n    Game,\\n    GeometricBrownianMotion,\\n    Market,\\n    MarketMaker,\\n    Trader,\\n    Trainer,\\n)\";\n",
       "                var nbb_formatted_code = \"import torch\\nfrom tqdm.notebook import trange\\nfrom tradezoo import (\\n    Account,\\n    Actor,\\n    Agent,\\n    Critic,\\n    Game,\\n    GeometricBrownianMotion,\\n    Market,\\n    MarketMaker,\\n    Trader,\\n    Trainer,\\n)\";\n",
       "                var nbb_cells = Jupyter.notebook.get_cells();\n",
       "                for (var i = 0; i < nbb_cells.length; ++i) {\n",
       "                    if (nbb_cells[i].input_prompt_number == nbb_cell_id) {\n",
       "                        if (nbb_cells[i].get_text() == nbb_unformatted_code) {\n",
       "                             nbb_cells[i].set_text(nbb_formatted_code);\n",
       "                        }\n",
       "                        break;\n",
       "                    }\n",
       "                }\n",
       "            }, 500);\n",
       "            "
      ],
      "text/plain": [
       "<IPython.core.display.Javascript object>"
      ]
     },
     "metadata": {},
     "output_type": "display_data"
    }
   ],
   "source": [
    "import torch\n",
    "from tqdm.notebook import trange\n",
    "from tradezoo import (\n",
    "    Account,\n",
    "    Actor,\n",
    "    Agent,\n",
    "    Critic,\n",
    "    Game,\n",
    "    GeometricBrownianMotion,\n",
    "    Market,\n",
    "    MarketMaker,\n",
    "    Trader,\n",
    "    Trainer,\n",
    ")"
   ]
  },
  {
   "cell_type": "code",
   "execution_count": 3,
   "id": "cbd4ef27",
   "metadata": {},
   "outputs": [
    {
     "data": {
      "application/javascript": [
       "\n",
       "            setTimeout(function() {\n",
       "                var nbb_cell_id = 3;\n",
       "                var nbb_unformatted_code = \"def make_agent():\\n    actor = Actor()\\n    critic = Critic()\\n    return Agent(\\n        actor=actor,\\n        actor_optimizer=torch.optim.Adam(actor.parameters(), lr=1e-4),\\n        critic=critic,\\n        critic_optimizer=torch.optim.Adam(critic.parameters(), lr=1e-3),\\n        discount_factor=0.99,\\n    )\\n\\n\\nnum_traders = 4\\ntraders = [\\n    Trader(\\n        agent=make_agent(),\\n        account=Account(cash_balance=256, stock_balance=256),\\n        market_maker=MarketMaker.inexhaustible(\\n            ask_process=GeometricBrownianMotion.driftless(\\n                initial_value=2,\\n                underlying_std=0.01,\\n            ),\\n            bid_process=GeometricBrownianMotion.driftless(\\n                initial_value=0.5,\\n                underlying_std=0.01,\\n            ),\\n        ),\\n    )\\n    for _ in range(num_traders)\\n]\\ngame = Game.new(\\n    market=Market.from_accounts([trader.account for trader in traders]),\\n    traders=traders,\\n)\\ntrainer = Trainer.new(game=game, replay_buffer_capacity=64)\";\n",
       "                var nbb_formatted_code = \"def make_agent():\\n    actor = Actor()\\n    critic = Critic()\\n    return Agent(\\n        actor=actor,\\n        actor_optimizer=torch.optim.Adam(actor.parameters(), lr=1e-4),\\n        critic=critic,\\n        critic_optimizer=torch.optim.Adam(critic.parameters(), lr=1e-3),\\n        discount_factor=0.99,\\n    )\\n\\n\\nnum_traders = 4\\ntraders = [\\n    Trader(\\n        agent=make_agent(),\\n        account=Account(cash_balance=256, stock_balance=256),\\n        market_maker=MarketMaker.inexhaustible(\\n            ask_process=GeometricBrownianMotion.driftless(\\n                initial_value=2,\\n                underlying_std=0.01,\\n            ),\\n            bid_process=GeometricBrownianMotion.driftless(\\n                initial_value=0.5,\\n                underlying_std=0.01,\\n            ),\\n        ),\\n    )\\n    for _ in range(num_traders)\\n]\\ngame = Game.new(\\n    market=Market.from_accounts([trader.account for trader in traders]),\\n    traders=traders,\\n)\\ntrainer = Trainer.new(game=game, replay_buffer_capacity=64)\";\n",
       "                var nbb_cells = Jupyter.notebook.get_cells();\n",
       "                for (var i = 0; i < nbb_cells.length; ++i) {\n",
       "                    if (nbb_cells[i].input_prompt_number == nbb_cell_id) {\n",
       "                        if (nbb_cells[i].get_text() == nbb_unformatted_code) {\n",
       "                             nbb_cells[i].set_text(nbb_formatted_code);\n",
       "                        }\n",
       "                        break;\n",
       "                    }\n",
       "                }\n",
       "            }, 500);\n",
       "            "
      ],
      "text/plain": [
       "<IPython.core.display.Javascript object>"
      ]
     },
     "metadata": {},
     "output_type": "display_data"
    }
   ],
   "source": [
    "def make_agent():\n",
    "    actor = Actor()\n",
    "    critic = Critic()\n",
    "    return Agent(\n",
    "        actor=actor,\n",
    "        actor_optimizer=torch.optim.Adam(actor.parameters(), lr=1e-4),\n",
    "        critic=critic,\n",
    "        critic_optimizer=torch.optim.Adam(critic.parameters(), lr=1e-3),\n",
    "        discount_factor=0.99,\n",
    "    )\n",
    "\n",
    "\n",
    "num_traders = 4\n",
    "traders = [\n",
    "    Trader(\n",
    "        agent=make_agent(),\n",
    "        account=Account(cash_balance=256, stock_balance=256),\n",
    "        market_maker=MarketMaker.inexhaustible(\n",
    "            ask_process=GeometricBrownianMotion.driftless(\n",
    "                initial_value=2,\n",
    "                underlying_std=0.01,\n",
    "            ),\n",
    "            bid_process=GeometricBrownianMotion.driftless(\n",
    "                initial_value=0.5,\n",
    "                underlying_std=0.01,\n",
    "            ),\n",
    "        ),\n",
    "    )\n",
    "    for _ in range(num_traders)\n",
    "]\n",
    "game = Game.new(\n",
    "    market=Market.from_accounts([trader.account for trader in traders]),\n",
    "    traders=traders,\n",
    ")\n",
    "trainer = Trainer.new(game=game, replay_buffer_capacity=64)"
   ]
  },
  {
   "cell_type": "code",
   "execution_count": 4,
   "id": "d57cff57",
   "metadata": {},
   "outputs": [
    {
     "data": {
      "application/vnd.jupyter.widget-view+json": {
       "model_id": "8068d2a131a94d1eac836bb897df343c",
       "version_major": 2,
       "version_minor": 0
      },
      "text/plain": [
       "  0%|          | 0/1024 [00:00<?, ?it/s]"
      ]
     },
     "metadata": {},
     "output_type": "display_data"
    },
    {
     "ename": "ZeroDivisionError",
     "evalue": "float division by zero",
     "output_type": "error",
     "traceback": [
      "\u001b[0;31m---------------------------------------------------------------------------\u001b[0m",
      "\u001b[0;31mZeroDivisionError\u001b[0m                         Traceback (most recent call last)",
      "Input \u001b[0;32mIn [4]\u001b[0m, in \u001b[0;36m<module>\u001b[0;34m\u001b[0m\n\u001b[1;32m      1\u001b[0m batch_size \u001b[38;5;241m=\u001b[39m \u001b[38;5;241m16\u001b[39m\n\u001b[1;32m      2\u001b[0m \u001b[38;5;28;01mfor\u001b[39;00m step_id \u001b[38;5;129;01min\u001b[39;00m trange(\u001b[38;5;241m1024\u001b[39m):\n\u001b[0;32m----> 3\u001b[0m     turn_result \u001b[38;5;241m=\u001b[39m \u001b[43mtrainer\u001b[49m\u001b[38;5;241;43m.\u001b[39;49m\u001b[43mturn_\u001b[49m\u001b[43m(\u001b[49m\u001b[43m)\u001b[49m\n\u001b[1;32m      4\u001b[0m     \u001b[38;5;28;01mif\u001b[39;00m \u001b[38;5;28mlen\u001b[39m(trainer\u001b[38;5;241m.\u001b[39mreplay_buffers[turn_result\u001b[38;5;241m.\u001b[39mtrader\u001b[38;5;241m.\u001b[39magent]\u001b[38;5;241m.\u001b[39mexperiences) \u001b[38;5;241m>\u001b[39m\u001b[38;5;241m=\u001b[39m batch_size:\n\u001b[1;32m      5\u001b[0m         trainer\u001b[38;5;241m.\u001b[39mtrain_step_(agent\u001b[38;5;241m=\u001b[39mturn_result\u001b[38;5;241m.\u001b[39mtrader\u001b[38;5;241m.\u001b[39magent, batch_size\u001b[38;5;241m=\u001b[39mbatch_size)\n",
      "File \u001b[0;32m~/org/education/kth/master-thesis/tradezoo/notebooks/tradezoo/trainer/trainer.py:26\u001b[0m, in \u001b[0;36mTrainer.turn_\u001b[0;34m(self)\u001b[0m\n\u001b[1;32m     25\u001b[0m \u001b[38;5;28;01mdef\u001b[39;00m \u001b[38;5;21mturn_\u001b[39m(\u001b[38;5;28mself\u001b[39m) \u001b[38;5;241m-\u001b[39m\u001b[38;5;241m>\u001b[39m TurnResult:\n\u001b[0;32m---> 26\u001b[0m     turn_result \u001b[38;5;241m=\u001b[39m \u001b[38;5;28;43mself\u001b[39;49m\u001b[38;5;241;43m.\u001b[39;49m\u001b[43mgame\u001b[49m\u001b[38;5;241;43m.\u001b[39;49m\u001b[43mturn_\u001b[49m\u001b[43m(\u001b[49m\u001b[43m)\u001b[49m\n\u001b[1;32m     27\u001b[0m     \u001b[38;5;28mself\u001b[39m\u001b[38;5;241m.\u001b[39mreplay_buffers[turn_result\u001b[38;5;241m.\u001b[39mtrader\u001b[38;5;241m.\u001b[39magent]\u001b[38;5;241m.\u001b[39mregister_turn_(turn_result)\n\u001b[1;32m     28\u001b[0m     \u001b[38;5;28;01mreturn\u001b[39;00m turn_result\n",
      "File \u001b[0;32m~/org/education/kth/master-thesis/tradezoo/notebooks/tradezoo/game/game.py:35\u001b[0m, in \u001b[0;36mGame.turn_\u001b[0;34m(self)\u001b[0m\n\u001b[1;32m     31\u001b[0m (action,) \u001b[38;5;241m=\u001b[39m trader\u001b[38;5;241m.\u001b[39magent\u001b[38;5;241m.\u001b[39mdecide(observation\u001b[38;5;241m.\u001b[39mbatch)\u001b[38;5;241m.\u001b[39msample()\n\u001b[1;32m     32\u001b[0m \u001b[38;5;28mself\u001b[39m\u001b[38;5;241m.\u001b[39mmarket\u001b[38;5;241m.\u001b[39msubmit_(\n\u001b[1;32m     33\u001b[0m     BuyOrder(submitted_by\u001b[38;5;241m=\u001b[39mtrader\u001b[38;5;241m.\u001b[39maccount, price\u001b[38;5;241m=\u001b[39maction\u001b[38;5;241m.\u001b[39mbid, volume\u001b[38;5;241m=\u001b[39m\u001b[38;5;241m1\u001b[39m)\n\u001b[1;32m     34\u001b[0m )\n\u001b[0;32m---> 35\u001b[0m \u001b[38;5;28;43mself\u001b[39;49m\u001b[38;5;241;43m.\u001b[39;49m\u001b[43mmarket\u001b[49m\u001b[38;5;241;43m.\u001b[39;49m\u001b[43msubmit_\u001b[49m\u001b[43m(\u001b[49m\n\u001b[1;32m     36\u001b[0m \u001b[43m    \u001b[49m\u001b[43mSellOrder\u001b[49m\u001b[43m(\u001b[49m\u001b[43msubmitted_by\u001b[49m\u001b[38;5;241;43m=\u001b[39;49m\u001b[43mtrader\u001b[49m\u001b[38;5;241;43m.\u001b[39;49m\u001b[43maccount\u001b[49m\u001b[43m,\u001b[49m\u001b[43m \u001b[49m\u001b[43mprice\u001b[49m\u001b[38;5;241;43m=\u001b[39;49m\u001b[43maction\u001b[49m\u001b[38;5;241;43m.\u001b[39;49m\u001b[43mask\u001b[49m\u001b[43m,\u001b[49m\u001b[43m \u001b[49m\u001b[43mvolume\u001b[49m\u001b[38;5;241;43m=\u001b[39;49m\u001b[38;5;241;43m1\u001b[39;49m\u001b[43m)\u001b[49m\n\u001b[1;32m     37\u001b[0m \u001b[43m\u001b[49m\u001b[43m)\u001b[49m\n\u001b[1;32m     38\u001b[0m \u001b[38;5;28;01mfor\u001b[39;00m market_maker_order \u001b[38;5;129;01min\u001b[39;00m \u001b[38;5;28mself\u001b[39m\u001b[38;5;241m.\u001b[39mmarket\u001b[38;5;241m.\u001b[39morders_by(trader\u001b[38;5;241m.\u001b[39mmarket_maker\u001b[38;5;241m.\u001b[39maccount):\n\u001b[1;32m     39\u001b[0m     \u001b[38;5;28mself\u001b[39m\u001b[38;5;241m.\u001b[39mmarket\u001b[38;5;241m.\u001b[39mcancel_(market_maker_order)\n",
      "File \u001b[0;32m~/org/education/kth/master-thesis/tradezoo/notebooks/tradezoo/market/market.py:35\u001b[0m, in \u001b[0;36mMarket.submit_\u001b[0;34m(self, order)\u001b[0m\n\u001b[1;32m     33\u001b[0m trades \u001b[38;5;241m=\u001b[39m []\n\u001b[1;32m     34\u001b[0m \u001b[38;5;28;01mfor\u001b[39;00m match \u001b[38;5;129;01min\u001b[39;00m \u001b[38;5;28msorted\u001b[39m(matches, key\u001b[38;5;241m=\u001b[39m\u001b[38;5;28;01mlambda\u001b[39;00m match: match\u001b[38;5;241m.\u001b[39mpriority, reverse\u001b[38;5;241m=\u001b[39m\u001b[38;5;28;01mTrue\u001b[39;00m):\n\u001b[0;32m---> 35\u001b[0m     trade \u001b[38;5;241m=\u001b[39m \u001b[43mTrade\u001b[49m\u001b[38;5;241;43m.\u001b[39;49m\u001b[43mfrom_orders\u001b[49m\u001b[43m(\u001b[49m\u001b[43mpresent_order\u001b[49m\u001b[38;5;241;43m=\u001b[39;49m\u001b[43mmatch\u001b[49m\u001b[43m,\u001b[49m\u001b[43m \u001b[49m\u001b[43mincoming_order\u001b[49m\u001b[38;5;241;43m=\u001b[39;49m\u001b[43morder\u001b[49m\u001b[43m)\u001b[49m\n\u001b[1;32m     36\u001b[0m     trades\u001b[38;5;241m.\u001b[39mappend(trade)\n\u001b[1;32m     37\u001b[0m     trade\u001b[38;5;241m.\u001b[39mbuyer\u001b[38;5;241m.\u001b[39mcash_balance \u001b[38;5;241m-\u001b[39m\u001b[38;5;241m=\u001b[39m trade\u001b[38;5;241m.\u001b[39mcash_amount\n",
      "File \u001b[0;32m~/org/education/kth/master-thesis/tradezoo/notebooks/tradezoo/market/trade.py:29\u001b[0m, in \u001b[0;36mTrade.from_orders\u001b[0;34m(cls, present_order, incoming_order)\u001b[0m\n\u001b[1;32m     17\u001b[0m \u001b[38;5;28;01massert\u001b[39;00m present_order\u001b[38;5;241m.\u001b[39mmatches(incoming_order)\n\u001b[1;32m     18\u001b[0m buy_order, sell_order \u001b[38;5;241m=\u001b[39m (\n\u001b[1;32m     19\u001b[0m     (present_order, incoming_order)\n\u001b[1;32m     20\u001b[0m     \u001b[38;5;28;01mif\u001b[39;00m \u001b[38;5;28misinstance\u001b[39m(present_order, BuyOrder)\n\u001b[1;32m     21\u001b[0m     \u001b[38;5;28;01melse\u001b[39;00m (incoming_order, present_order)\n\u001b[1;32m     22\u001b[0m )\n\u001b[1;32m     23\u001b[0m \u001b[38;5;28;01mreturn\u001b[39;00m Trade(\n\u001b[1;32m     24\u001b[0m     buyer\u001b[38;5;241m=\u001b[39mbuy_order\u001b[38;5;241m.\u001b[39msubmitted_by,\n\u001b[1;32m     25\u001b[0m     seller\u001b[38;5;241m=\u001b[39msell_order\u001b[38;5;241m.\u001b[39msubmitted_by,\n\u001b[1;32m     26\u001b[0m     price\u001b[38;5;241m=\u001b[39mincoming_order\u001b[38;5;241m.\u001b[39mprice,\n\u001b[1;32m     27\u001b[0m     volume\u001b[38;5;241m=\u001b[39m\u001b[38;5;28mmin\u001b[39m(\n\u001b[1;32m     28\u001b[0m         buy_order\u001b[38;5;241m.\u001b[39mvolume,\n\u001b[0;32m---> 29\u001b[0m         \u001b[43mbuy_order\u001b[49m\u001b[38;5;241;43m.\u001b[39;49m\u001b[43msubmitted_by\u001b[49m\u001b[38;5;241;43m.\u001b[39;49m\u001b[43mcash_balance\u001b[49m\u001b[43m \u001b[49m\u001b[38;5;241;43m/\u001b[39;49m\u001b[43m \u001b[49m\u001b[43mincoming_order\u001b[49m\u001b[38;5;241;43m.\u001b[39;49m\u001b[43mprice\u001b[49m,\n\u001b[1;32m     30\u001b[0m         sell_order\u001b[38;5;241m.\u001b[39mvolume,\n\u001b[1;32m     31\u001b[0m         sell_order\u001b[38;5;241m.\u001b[39msubmitted_by\u001b[38;5;241m.\u001b[39mstock_balance,\n\u001b[1;32m     32\u001b[0m     ),\n\u001b[1;32m     33\u001b[0m )\n",
      "\u001b[0;31mZeroDivisionError\u001b[0m: float division by zero"
     ]
    },
    {
     "data": {
      "application/javascript": [
       "\n",
       "            setTimeout(function() {\n",
       "                var nbb_cell_id = 4;\n",
       "                var nbb_unformatted_code = \"batch_size = 16\\nfor step_id in trange(1024):\\n    turn_result = trainer.turn_()\\n    if len(trainer.replay_buffers[turn_result.trader.agent].experiences) >= batch_size:\\n        trainer.train_step_(agent=turn_result.trader.agent, batch_size=batch_size)\";\n",
       "                var nbb_formatted_code = \"batch_size = 16\\nfor step_id in trange(1024):\\n    turn_result = trainer.turn_()\\n    if len(trainer.replay_buffers[turn_result.trader.agent].experiences) >= batch_size:\\n        trainer.train_step_(agent=turn_result.trader.agent, batch_size=batch_size)\";\n",
       "                var nbb_cells = Jupyter.notebook.get_cells();\n",
       "                for (var i = 0; i < nbb_cells.length; ++i) {\n",
       "                    if (nbb_cells[i].input_prompt_number == nbb_cell_id) {\n",
       "                        if (nbb_cells[i].get_text() == nbb_unformatted_code) {\n",
       "                             nbb_cells[i].set_text(nbb_formatted_code);\n",
       "                        }\n",
       "                        break;\n",
       "                    }\n",
       "                }\n",
       "            }, 500);\n",
       "            "
      ],
      "text/plain": [
       "<IPython.core.display.Javascript object>"
      ]
     },
     "metadata": {},
     "output_type": "display_data"
    }
   ],
   "source": [
    "batch_size = 16\n",
    "for step_id in trange(1024):\n",
    "    turn_result = trainer.turn_()\n",
    "    if len(trainer.replay_buffers[turn_result.trader.agent].experiences) >= batch_size:\n",
    "        trainer.train_step_(agent=turn_result.trader.agent, batch_size=batch_size)"
   ]
  }
 ],
 "metadata": {
  "kernelspec": {
   "display_name": "Python 3 (ipykernel)",
   "language": "python",
   "name": "python3"
  },
  "language_info": {
   "codemirror_mode": {
    "name": "ipython",
    "version": 3
   },
   "file_extension": ".py",
   "mimetype": "text/x-python",
   "name": "python",
   "nbconvert_exporter": "python",
   "pygments_lexer": "ipython3",
   "version": "3.9.0"
  }
 },
 "nbformat": 4,
 "nbformat_minor": 5
}

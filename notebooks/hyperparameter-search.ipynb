{
 "cells": [
  {
   "cell_type": "code",
   "execution_count": 1,
   "metadata": {},
   "outputs": [],
   "source": [
    "import hyperopt\n",
    "import torch\n",
    "from tradezoo.agent import Actor, Agent, Critic\n",
    "from tradezoo.game import Game, Client, SineWave, Trader\n",
    "from tradezoo.market import Account, Market\n",
    "from tradezoo.trainer import Trainer"
   ]
  },
  {
   "cell_type": "code",
   "execution_count": 2,
   "metadata": {},
   "outputs": [
    {
     "data": {
      "text/plain": [
       "-974.2647989444093"
      ]
     },
     "execution_count": 2,
     "metadata": {},
     "output_type": "execute_result"
    }
   ],
   "source": [
    "def minimize_me(hyperparameters):\n",
    "    actor_lr, critic_lr, replay_buffer_capacity = hyperparameters\n",
    "    actor = Actor()\n",
    "    critic = Critic()\n",
    "    agent = Agent(\n",
    "        actor=actor,\n",
    "        actor_optimizer=torch.optim.Adam(actor.parameters(), lr=actor_lr),\n",
    "        critic=critic,\n",
    "        critic_optimizer=torch.optim.Adam(critic.parameters(), lr=critic_lr),\n",
    "        discount_factor=0.99,\n",
    "    )\n",
    "\n",
    "    train_game = make_game(agent)\n",
    "    trainer = Trainer.new(\n",
    "        game=train_game,\n",
    "        replay_buffer_capacity=int(replay_buffer_capacity),\n",
    "        batch_size=16,\n",
    "    )\n",
    "    for train_step in range(1024):\n",
    "        try:\n",
    "            trainer.turn_()\n",
    "        except:\n",
    "            return float(\"inf\")  # we have no use for it if it crashes\n",
    "\n",
    "    test_results = test_agent(agent)\n",
    "    return -(\n",
    "        test_results[-1].observation.cash_balance\n",
    "        + test_results[-1].observation.asset_balance\n",
    "    )\n",
    "\n",
    "\n",
    "def test_agent(agent: Agent):\n",
    "    test_game = make_game(agent)\n",
    "    return [test_game.turn_() for test_step in range(1024)]\n",
    "\n",
    "\n",
    "def make_game(agent: Agent):\n",
    "    trader_account = Account(cash_balance=512, asset_balance=512)\n",
    "    client_account = Account(cash_balance=float(\"inf\"), asset_balance=float(\"inf\"))\n",
    "    price_process = 1 + SineWave(period=64) * 0.2\n",
    "    trader = Trader(\n",
    "        agent=agent,\n",
    "        account=trader_account,\n",
    "        client=Client(\n",
    "            account=client_account,\n",
    "            for_account=trader_account,\n",
    "            ask_process=price_process * 1.1,\n",
    "            bid_process=price_process * 0.9,\n",
    "        ),\n",
    "    )\n",
    "    return Game.new(\n",
    "        market=Market.from_accounts([trader_account, client_account]),\n",
    "        traders=[trader],\n",
    "    )\n",
    "\n",
    "\n",
    "minimize_me((1e-4, 1e-3, 16))\n"
   ]
  },
  {
   "cell_type": "code",
   "execution_count": 3,
   "metadata": {},
   "outputs": [
    {
     "data": {
      "text/plain": [
       "(2.1976344410027015e-05, 0.0011976732118096046, 88.0)"
      ]
     },
     "execution_count": 3,
     "metadata": {},
     "output_type": "execute_result"
    }
   ],
   "source": [
    "hyperspace = [\n",
    "    hyperopt.hp.lognormal(\"actor_lr\", mu=-10, sigma=3),\n",
    "    hyperopt.hp.lognormal(\"critic_lr\", mu=-9, sigma=3),\n",
    "    hyperopt.hp.qloguniform(\"replay_buffer_capacity\", low=3, high=5, q=8),\n",
    "]\n",
    "hyperopt.pyll.stochastic.sample(hyperspace)\n"
   ]
  },
  {
   "cell_type": "code",
   "execution_count": 4,
   "metadata": {},
   "outputs": [
    {
     "name": "stdout",
     "output_type": "stream",
     "text": [
      "100%|██████████| 128/128 [16:01<00:00,  7.51s/trial, best loss: -1026.6935992703238]\n"
     ]
    },
    {
     "data": {
      "text/plain": [
       "{'actor_lr': 0.00015984502023655585,\n",
       " 'critic_lr': 0.01738586299947761,\n",
       " 'replay_buffer_capacity': 40.0}"
      ]
     },
     "execution_count": 4,
     "metadata": {},
     "output_type": "execute_result"
    }
   ],
   "source": [
    "best_hyperparameters = hyperopt.fmin(\n",
    "    fn=minimize_me, space=hyperspace, algo=hyperopt.rand.suggest, max_evals=128\n",
    ")\n",
    "best_hyperparameters\n"
   ]
  }
 ],
 "metadata": {
  "interpreter": {
   "hash": "04bf3e1abc457daf8f034e0c3dbb970887e34b31bd6e2705be32780edbd7a6c0"
  },
  "kernelspec": {
   "display_name": "Python 3.9.0 ('.venv': poetry)",
   "language": "python",
   "name": "python3"
  },
  "language_info": {
   "codemirror_mode": {
    "name": "ipython",
    "version": 3
   },
   "file_extension": ".py",
   "mimetype": "text/x-python",
   "name": "python",
   "nbconvert_exporter": "python",
   "pygments_lexer": "ipython3",
   "version": "3.9.0"
  },
  "orig_nbformat": 4
 },
 "nbformat": 4,
 "nbformat_minor": 2
}

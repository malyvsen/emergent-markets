{
 "cells": [
  {
   "cell_type": "code",
   "execution_count": null,
   "id": "2342d187",
   "metadata": {},
   "outputs": [],
   "source": [
    "import math\n",
    "import numpy as np\n",
    "import torch\n",
    "from tradezoo.agent import Critic\n",
    "from tradezoo.game import Game, Client, SineWave, Trader\n",
    "from tradezoo.market import Account, Market\n",
    "from tradezoo.training import Experiment, LearningAgent, ReplayBuffer"
   ]
  },
  {
   "cell_type": "code",
   "execution_count": null,
   "id": "80311ab1",
   "metadata": {},
   "outputs": [],
   "source": [
    "def make_agent():\n",
    "    critic = Critic()\n",
    "    return LearningAgent(\n",
    "        critic=critic,\n",
    "        horizon=2,\n",
    "        allocation_space=np.linspace(0, 1, num=2),\n",
    "        relative_price_space=1.2 ** np.linspace(-1, 1, num=64),\n",
    "        exploration_schedule=lambda step: 4096 / (step + 4096),\n",
    "        utility_function=math.log,\n",
    "        discount_factor=0.99,\n",
    "        replay_buffer=ReplayBuffer.empty(capacity=64),\n",
    "        batch_size=16,\n",
    "        train_steps_per_turn=64,\n",
    "        optimizer=torch.optim.Adam(critic.parameters(), lr=2e-4),\n",
    "        target=Critic(),\n",
    "        steps_per_target_update=2048,\n",
    "        steps_completed=0,\n",
    "    )\n",
    "\n",
    "\n",
    "trader_account = Account(cash_balance=2048, asset_balance=2048)\n",
    "client_account = Account(cash_balance=float(\"inf\"), asset_balance=float(\"inf\"))\n",
    "price_process = 1 + SineWave(period=16) * 0.2\n",
    "trader = Trader(\n",
    "    agent=make_agent(),\n",
    "    account=trader_account,\n",
    "    client=Client(\n",
    "        account=client_account,\n",
    "        for_account=trader_account,\n",
    "        ask_process=price_process * 1.1,\n",
    "        bid_process=price_process / 1.1,\n",
    "    ),\n",
    ")\n",
    "game = Game.new(\n",
    "    market=Market.from_accounts([trader_account, client_account]),\n",
    "    traders=[trader],\n",
    ")\n",
    "experiment = Experiment.run_(game=game, num_steps=1024)"
   ]
  },
  {
   "cell_type": "code",
   "execution_count": null,
   "id": "137109a1",
   "metadata": {},
   "outputs": [],
   "source": [
    "experiment.training_plot(trader.agent)"
   ]
  },
  {
   "cell_type": "code",
   "execution_count": null,
   "id": "3095a526",
   "metadata": {},
   "outputs": [],
   "source": [
    "experiment.trades_plot(trader)"
   ]
  },
  {
   "cell_type": "code",
   "execution_count": null,
   "id": "db117deb",
   "metadata": {},
   "outputs": [],
   "source": [
    "experiment.balance_plot(trader)"
   ]
  },
  {
   "cell_type": "code",
   "execution_count": null,
   "id": "9240f88e",
   "metadata": {},
   "outputs": [],
   "source": [
    "experiment.reward_plot(trader)"
   ]
  }
 ],
 "metadata": {
  "kernelspec": {
   "display_name": "Python 3 (ipykernel)",
   "language": "python",
   "name": "python3"
  },
  "language_info": {
   "codemirror_mode": {
    "name": "ipython",
    "version": 3
   },
   "file_extension": ".py",
   "mimetype": "text/x-python",
   "name": "python",
   "nbconvert_exporter": "python",
   "pygments_lexer": "ipython3",
   "version": "3.9.10"
  },
  "widgets": {
   "application/vnd.jupyter.widget-state+json": {
    "state": {
     "0169315186e440b4b71368c2847e7e3c": {
      "model_module": "@jupyter-widgets/base",
      "model_module_version": "1.2.0",
      "model_name": "LayoutModel",
      "state": {}
     },
     "01b82a59188a49abad4874ff1ea06eb2": {
      "model_module": "@jupyter-widgets/controls",
      "model_module_version": "1.5.0",
      "model_name": "HTMLModel",
      "state": {
       "layout": "IPY_MODEL_65fbef86008a468a850b52552be2e23d",
       "style": "IPY_MODEL_d7fe376e8d954755af59be1d1b3b28c6",
       "value": " 4096/4096 [00:14&lt;00:00, 292.94it/s]"
      }
     },
     "01db735ca46c4df8865df72e3b050aeb": {
      "model_module": "@jupyter-widgets/base",
      "model_module_version": "1.2.0",
      "model_name": "LayoutModel",
      "state": {}
     },
     "01ddd5f20ebf45d09a548d8d0975f949": {
      "model_module": "@jupyter-widgets/base",
      "model_module_version": "1.2.0",
      "model_name": "LayoutModel",
      "state": {}
     },
     "0212a0a4ac254860998745ba93c39dc4": {
      "model_module": "@jupyter-widgets/controls",
      "model_module_version": "1.5.0",
      "model_name": "DescriptionStyleModel",
      "state": {
       "description_width": ""
      }
     },
     "02290c5279c840b5855a28965a9556b1": {
      "model_module": "@jupyter-widgets/controls",
      "model_module_version": "1.5.0",
      "model_name": "HBoxModel",
      "state": {
       "children": [
        "IPY_MODEL_ac7808b1826545fda3210f40da1de3f3",
        "IPY_MODEL_50f751366b874e88bef3a497e68680a7",
        "IPY_MODEL_63967194c41b41538d75e9b88374f2ee"
       ],
       "layout": "IPY_MODEL_1f906a58d58248c0a2262378418b3201"
      }
     },
     "0230d7424e504265925ee7195a98b0f0": {
      "model_module": "@jupyter-widgets/base",
      "model_module_version": "1.2.0",
      "model_name": "LayoutModel",
      "state": {}
     },
     "0281512cff82487bbc631bf6cbc7c8bc": {
      "model_module": "@jupyter-widgets/base",
      "model_module_version": "1.2.0",
      "model_name": "LayoutModel",
      "state": {}
     },
     "02e44c8ef7fd4d5791e42194e4047120": {
      "model_module": "@jupyter-widgets/controls",
      "model_module_version": "1.5.0",
      "model_name": "ProgressStyleModel",
      "state": {
       "description_width": ""
      }
     },
     "03395d531fca4eb59e4cec833c534ae9": {
      "model_module": "@jupyter-widgets/controls",
      "model_module_version": "1.5.0",
      "model_name": "DescriptionStyleModel",
      "state": {
       "description_width": ""
      }
     },
     "03a762e4e72e4ceea1fb3c4ace0516a0": {
      "model_module": "@jupyter-widgets/controls",
      "model_module_version": "1.5.0",
      "model_name": "FloatProgressModel",
      "state": {
       "bar_style": "success",
       "layout": "IPY_MODEL_0ce17d53c97d47cd9421cf6edd1d6c52",
       "max": 4096,
       "style": "IPY_MODEL_1bfdb1385d6d4a44a89c560a9a6df386",
       "value": 4096
      }
     },
     "03c9e8b9fb8041478e1b3b7f5053647c": {
      "model_module": "@jupyter-widgets/controls",
      "model_module_version": "1.5.0",
      "model_name": "HTMLModel",
      "state": {
       "layout": "IPY_MODEL_831dcb254e5b4ec9bf3a45c178239cf5",
       "style": "IPY_MODEL_ef5f9884abb140b79759c7f13e6291d8",
       "value": " 4096/4096 [00:14&lt;00:00, 287.51it/s]"
      }
     },
     "051a1a6794a44d69988110c43f0e76d1": {
      "model_module": "@jupyter-widgets/controls",
      "model_module_version": "1.5.0",
      "model_name": "DescriptionStyleModel",
      "state": {
       "description_width": ""
      }
     },
     "054034a810bf4fab918b302ea96f5198": {
      "model_module": "@jupyter-widgets/base",
      "model_module_version": "1.2.0",
      "model_name": "LayoutModel",
      "state": {}
     },
     "055501dd154c4974baf6bf7640dafc83": {
      "model_module": "@jupyter-widgets/base",
      "model_module_version": "1.2.0",
      "model_name": "LayoutModel",
      "state": {}
     },
     "055f0d8e5a934b5083abed0c81a7902a": {
      "model_module": "@jupyter-widgets/base",
      "model_module_version": "1.2.0",
      "model_name": "LayoutModel",
      "state": {}
     },
     "05b9519d427c474b9889bcbd1dbd8f15": {
      "model_module": "@jupyter-widgets/controls",
      "model_module_version": "1.5.0",
      "model_name": "ProgressStyleModel",
      "state": {
       "description_width": ""
      }
     },
     "062fb5467c9b467aab610946dddbd415": {
      "model_module": "@jupyter-widgets/controls",
      "model_module_version": "1.5.0",
      "model_name": "DescriptionStyleModel",
      "state": {
       "description_width": ""
      }
     },
     "0682041c421a4a7c90e7735bf0d84ea0": {
      "model_module": "@jupyter-widgets/base",
      "model_module_version": "1.2.0",
      "model_name": "LayoutModel",
      "state": {}
     },
     "06983cf7e73645839cfbf3b3c79132c8": {
      "model_module": "@jupyter-widgets/base",
      "model_module_version": "1.2.0",
      "model_name": "LayoutModel",
      "state": {}
     },
     "06c08d5999644cd39138688faeeb9515": {
      "model_module": "@jupyter-widgets/controls",
      "model_module_version": "1.5.0",
      "model_name": "ProgressStyleModel",
      "state": {
       "description_width": ""
      }
     },
     "0742ed1ca37642f3b79f92a23d3f1e08": {
      "model_module": "@jupyter-widgets/base",
      "model_module_version": "1.2.0",
      "model_name": "LayoutModel",
      "state": {}
     },
     "079dda615d204a84a8c9e6e5cff44f75": {
      "model_module": "@jupyter-widgets/controls",
      "model_module_version": "1.5.0",
      "model_name": "DescriptionStyleModel",
      "state": {
       "description_width": ""
      }
     },
     "07ba629efd674863bb82301d1af501a8": {
      "model_module": "@jupyter-widgets/controls",
      "model_module_version": "1.5.0",
      "model_name": "DescriptionStyleModel",
      "state": {
       "description_width": ""
      }
     },
     "082c03b79bce426ba7610dc72e5b5f0d": {
      "model_module": "@jupyter-widgets/controls",
      "model_module_version": "1.5.0",
      "model_name": "HTMLModel",
      "state": {
       "layout": "IPY_MODEL_6da21bd845484bad9610cad98875c86c",
       "style": "IPY_MODEL_80e73f430c994d00a50f6c7f1c868c4e",
       "value": " 4096/4096 [00:13&lt;00:00, 280.21it/s]"
      }
     },
     "083429a0997746f18be46e6fa090c494": {
      "model_module": "@jupyter-widgets/base",
      "model_module_version": "1.2.0",
      "model_name": "LayoutModel",
      "state": {}
     },
     "087a482f2a0d4158b54a29c55232f65d": {
      "model_module": "@jupyter-widgets/controls",
      "model_module_version": "1.5.0",
      "model_name": "HBoxModel",
      "state": {
       "children": [
        "IPY_MODEL_82cc604a795c4148b89b6d64a8bf031f",
        "IPY_MODEL_990fbad75d2a45dabc10cc74fd77b1d9",
        "IPY_MODEL_d6419af3a1a54399b240fe1f06cc2fca"
       ],
       "layout": "IPY_MODEL_8cb51e53dbf5473bb111a40362947848"
      }
     },
     "087c0324e4f44998ba292ed95f0cedb2": {
      "model_module": "@jupyter-widgets/controls",
      "model_module_version": "1.5.0",
      "model_name": "DescriptionStyleModel",
      "state": {
       "description_width": ""
      }
     },
     "08868f49d4124d818ea6c7207f166460": {
      "model_module": "@jupyter-widgets/controls",
      "model_module_version": "1.5.0",
      "model_name": "DescriptionStyleModel",
      "state": {
       "description_width": ""
      }
     },
     "08b97be9f770448689983df38e0bd076": {
      "model_module": "@jupyter-widgets/controls",
      "model_module_version": "1.5.0",
      "model_name": "DescriptionStyleModel",
      "state": {
       "description_width": ""
      }
     },
     "094eb7aa5b0440f6ad0eeaf9730a0a2a": {
      "model_module": "@jupyter-widgets/controls",
      "model_module_version": "1.5.0",
      "model_name": "DescriptionStyleModel",
      "state": {
       "description_width": ""
      }
     },
     "0976de03b59a4c699247adff797d2918": {
      "model_module": "@jupyter-widgets/base",
      "model_module_version": "1.2.0",
      "model_name": "LayoutModel",
      "state": {}
     },
     "0a0dd4ca5fca40c3ba8509edd32ec060": {
      "model_module": "@jupyter-widgets/base",
      "model_module_version": "1.2.0",
      "model_name": "LayoutModel",
      "state": {}
     },
     "0b0b633cf1834d94bfb98d379d0288eb": {
      "model_module": "@jupyter-widgets/controls",
      "model_module_version": "1.5.0",
      "model_name": "DescriptionStyleModel",
      "state": {
       "description_width": ""
      }
     },
     "0b40b08bc8464cd380abe9997eda4fc2": {
      "model_module": "@jupyter-widgets/base",
      "model_module_version": "1.2.0",
      "model_name": "LayoutModel",
      "state": {}
     },
     "0ba82e2545b54931a5b08e5876ff4d3e": {
      "model_module": "@jupyter-widgets/controls",
      "model_module_version": "1.5.0",
      "model_name": "ProgressStyleModel",
      "state": {
       "description_width": ""
      }
     },
     "0c1bff9325bc425e8a7a5d6755cc75c1": {
      "model_module": "@jupyter-widgets/base",
      "model_module_version": "1.2.0",
      "model_name": "LayoutModel",
      "state": {}
     },
     "0c21f786ace8492a94f01cfddff3a6e0": {
      "model_module": "@jupyter-widgets/controls",
      "model_module_version": "1.5.0",
      "model_name": "HTMLModel",
      "state": {
       "layout": "IPY_MODEL_b62990518916439e9ed7b76c2c3baefd",
       "style": "IPY_MODEL_0b0b633cf1834d94bfb98d379d0288eb",
       "value": " 4096/4096 [00:11&lt;00:00, 343.24it/s]"
      }
     },
     "0ccc6d2e6d154d2989e6bde61dff7081": {
      "model_module": "@jupyter-widgets/controls",
      "model_module_version": "1.5.0",
      "model_name": "DescriptionStyleModel",
      "state": {
       "description_width": ""
      }
     },
     "0ce17d53c97d47cd9421cf6edd1d6c52": {
      "model_module": "@jupyter-widgets/base",
      "model_module_version": "1.2.0",
      "model_name": "LayoutModel",
      "state": {}
     },
     "0d283e682b7649d0956ef1cebfb521fc": {
      "model_module": "@jupyter-widgets/base",
      "model_module_version": "1.2.0",
      "model_name": "LayoutModel",
      "state": {}
     },
     "0d49c8c2ab9745179059d78c26f68abf": {
      "model_module": "@jupyter-widgets/controls",
      "model_module_version": "1.5.0",
      "model_name": "DescriptionStyleModel",
      "state": {
       "description_width": ""
      }
     },
     "0e90840251294a4bb56a056fea717195": {
      "model_module": "@jupyter-widgets/controls",
      "model_module_version": "1.5.0",
      "model_name": "HBoxModel",
      "state": {
       "children": [
        "IPY_MODEL_d37f50464be74bd9ad107081e165d4ef",
        "IPY_MODEL_886de710f51a428090e0995a654c3b95",
        "IPY_MODEL_f6892129b66042559b0eb85b5cab4e8d"
       ],
       "layout": "IPY_MODEL_95ef941a89ab4f5e830c7365ac6e8ccb"
      }
     },
     "0e94558a1ff248608f1b4af31ba865dd": {
      "model_module": "@jupyter-widgets/controls",
      "model_module_version": "1.5.0",
      "model_name": "HTMLModel",
      "state": {
       "layout": "IPY_MODEL_113073c926ea410ebf28c082c3a7cab6",
       "style": "IPY_MODEL_6a6581e90144423a825f30e92210334f",
       "value": " 4096/4096 [00:15&lt;00:00, 269.27it/s]"
      }
     },
     "0f80d4510f7949afa947ff2e29a8cddf": {
      "model_module": "@jupyter-widgets/controls",
      "model_module_version": "1.5.0",
      "model_name": "DescriptionStyleModel",
      "state": {
       "description_width": ""
      }
     },
     "0fb36e5b76d7469c97aac1774eb49c78": {
      "model_module": "@jupyter-widgets/controls",
      "model_module_version": "1.5.0",
      "model_name": "HTMLModel",
      "state": {
       "layout": "IPY_MODEL_ae53bd12cd6d41f9834a824d181d4da4",
       "style": "IPY_MODEL_ec6df3410b7246f0a01ffa28b0ff4f79",
       "value": "  0%"
      }
     },
     "0fdf728a9ccd456bb8eb86e862cdbd76": {
      "model_module": "@jupyter-widgets/base",
      "model_module_version": "1.2.0",
      "model_name": "LayoutModel",
      "state": {}
     },
     "108efe5aad874b1a85ef0eec281b6ad9": {
      "model_module": "@jupyter-widgets/controls",
      "model_module_version": "1.5.0",
      "model_name": "DescriptionStyleModel",
      "state": {
       "description_width": ""
      }
     },
     "1099e1ffba444d8399e7e336927ad7ea": {
      "model_module": "@jupyter-widgets/controls",
      "model_module_version": "1.5.0",
      "model_name": "HTMLModel",
      "state": {
       "layout": "IPY_MODEL_b7841fdbdc214f4f82a78bc68b7b0249",
       "style": "IPY_MODEL_d04e92d100d943dfb65dbcc1f95d5578",
       "value": "100%"
      }
     },
     "1126f85376294fefaa35e375045cb21a": {
      "model_module": "@jupyter-widgets/base",
      "model_module_version": "1.2.0",
      "model_name": "LayoutModel",
      "state": {}
     },
     "113073c926ea410ebf28c082c3a7cab6": {
      "model_module": "@jupyter-widgets/base",
      "model_module_version": "1.2.0",
      "model_name": "LayoutModel",
      "state": {}
     },
     "1177cbbb22cc4e9eaa980b904e18fcc2": {
      "model_module": "@jupyter-widgets/base",
      "model_module_version": "1.2.0",
      "model_name": "LayoutModel",
      "state": {}
     },
     "117b2076d94547f29419f67197c5bd55": {
      "model_module": "@jupyter-widgets/base",
      "model_module_version": "1.2.0",
      "model_name": "LayoutModel",
      "state": {}
     },
     "118e6d5ba0d3485881f3282799e68783": {
      "model_module": "@jupyter-widgets/controls",
      "model_module_version": "1.5.0",
      "model_name": "HTMLModel",
      "state": {
       "layout": "IPY_MODEL_297aa8ecb9404c03b2aec10dad144c5d",
       "style": "IPY_MODEL_dc1a0db5a34941e9ac18dc5d8a53b2d6",
       "value": "100%"
      }
     },
     "11b9c702a04c44d3a80d22d46dfbfb06": {
      "model_module": "@jupyter-widgets/controls",
      "model_module_version": "1.5.0",
      "model_name": "DescriptionStyleModel",
      "state": {
       "description_width": ""
      }
     },
     "12046e73e6b54d7b9fef87e776193efe": {
      "model_module": "@jupyter-widgets/controls",
      "model_module_version": "1.5.0",
      "model_name": "DescriptionStyleModel",
      "state": {
       "description_width": ""
      }
     },
     "12423255e3b6444b865f4f4244e86000": {
      "model_module": "@jupyter-widgets/base",
      "model_module_version": "1.2.0",
      "model_name": "LayoutModel",
      "state": {}
     },
     "1262e8b181514f27b3d1994dd4e9b6eb": {
      "model_module": "@jupyter-widgets/base",
      "model_module_version": "1.2.0",
      "model_name": "LayoutModel",
      "state": {}
     },
     "12bec4c6696548a5b1fdaca957c43b8d": {
      "model_module": "@jupyter-widgets/base",
      "model_module_version": "1.2.0",
      "model_name": "LayoutModel",
      "state": {}
     },
     "13015bbc50df4f8db36fe7b466582ec9": {
      "model_module": "@jupyter-widgets/controls",
      "model_module_version": "1.5.0",
      "model_name": "HTMLModel",
      "state": {
       "layout": "IPY_MODEL_eae7a23e473249b098ff11a01dbd9a57",
       "style": "IPY_MODEL_98da742d856c4b90926787018f31f5c2",
       "value": "100%"
      }
     },
     "13169d5db707447fa27b0357cb855e48": {
      "model_module": "@jupyter-widgets/controls",
      "model_module_version": "1.5.0",
      "model_name": "DescriptionStyleModel",
      "state": {
       "description_width": ""
      }
     },
     "131ab5f0c3ef485ca8a641a037769311": {
      "model_module": "@jupyter-widgets/controls",
      "model_module_version": "1.5.0",
      "model_name": "HBoxModel",
      "state": {
       "children": [
        "IPY_MODEL_c014455bb11e47d5b2d00d5bc0fa5d5c",
        "IPY_MODEL_3e690658713a407e830a9de79f2488c3",
        "IPY_MODEL_3be37ed913574282a935d626836feeb1"
       ],
       "layout": "IPY_MODEL_e9ca6f62e711438b860cc9f6482fade2"
      }
     },
     "1337da10ee4947aabbac3f95e93dbeb3": {
      "model_module": "@jupyter-widgets/base",
      "model_module_version": "1.2.0",
      "model_name": "LayoutModel",
      "state": {}
     },
     "13540adf842b4dd9884f52f80a624604": {
      "model_module": "@jupyter-widgets/base",
      "model_module_version": "1.2.0",
      "model_name": "LayoutModel",
      "state": {}
     },
     "13b5f0259ef5494abbf8f5f12450a0dd": {
      "model_module": "@jupyter-widgets/base",
      "model_module_version": "1.2.0",
      "model_name": "LayoutModel",
      "state": {}
     },
     "13e48c1602d24510bd0244dcf8a3c485": {
      "model_module": "@jupyter-widgets/base",
      "model_module_version": "1.2.0",
      "model_name": "LayoutModel",
      "state": {}
     },
     "141dcd0b603849cfa1bb89a19f22604d": {
      "model_module": "@jupyter-widgets/controls",
      "model_module_version": "1.5.0",
      "model_name": "DescriptionStyleModel",
      "state": {
       "description_width": ""
      }
     },
     "143362208cbd4c64b88b7b1dd8c99e29": {
      "model_module": "@jupyter-widgets/controls",
      "model_module_version": "1.5.0",
      "model_name": "HTMLModel",
      "state": {
       "layout": "IPY_MODEL_a957225a776f442fb06e7d31906bb780",
       "style": "IPY_MODEL_aed674dd5aa641b4bd8c1c6980582880",
       "value": "100%"
      }
     },
     "1507367c6a514273a1a5d25e133351fe": {
      "model_module": "@jupyter-widgets/base",
      "model_module_version": "1.2.0",
      "model_name": "LayoutModel",
      "state": {}
     },
     "1542f8a378454443a83eb2fbf92d04ad": {
      "model_module": "@jupyter-widgets/controls",
      "model_module_version": "1.5.0",
      "model_name": "HBoxModel",
      "state": {
       "children": [
        "IPY_MODEL_d86f2c72df4847119d4f3d69cefebf69",
        "IPY_MODEL_5260a11de3404fa9b01331d535a919f7",
        "IPY_MODEL_577d80e2d1e34c219eb7017288792857"
       ],
       "layout": "IPY_MODEL_c93f6b2c5cd045c5ac075fb05846fa75"
      }
     },
     "158ea97413664821b3dd65b10921873c": {
      "model_module": "@jupyter-widgets/controls",
      "model_module_version": "1.5.0",
      "model_name": "FloatProgressModel",
      "state": {
       "bar_style": "success",
       "layout": "IPY_MODEL_1f9b1e18e63e4fad8fec07d42475c2a3",
       "max": 4096,
       "style": "IPY_MODEL_a9e5693e4002428792761cb47eff9fda",
       "value": 4096
      }
     },
     "160c64fd16ad47d7a4fff8b39fe48eb6": {
      "model_module": "@jupyter-widgets/controls",
      "model_module_version": "1.5.0",
      "model_name": "DescriptionStyleModel",
      "state": {
       "description_width": ""
      }
     },
     "1610e113318749af8bd298e02ec7658e": {
      "model_module": "@jupyter-widgets/controls",
      "model_module_version": "1.5.0",
      "model_name": "DescriptionStyleModel",
      "state": {
       "description_width": ""
      }
     },
     "16111ccce5704e888ec909ed9a598744": {
      "model_module": "@jupyter-widgets/controls",
      "model_module_version": "1.5.0",
      "model_name": "DescriptionStyleModel",
      "state": {
       "description_width": ""
      }
     },
     "16172826851e43ee850ae8dd6a4b6f9c": {
      "model_module": "@jupyter-widgets/controls",
      "model_module_version": "1.5.0",
      "model_name": "FloatProgressModel",
      "state": {
       "bar_style": "success",
       "layout": "IPY_MODEL_49ef5991eebe4748ac0e42cfb716241e",
       "max": 1024,
       "style": "IPY_MODEL_b4b58f9aa7ce49018aeff14bee02161c",
       "value": 1024
      }
     },
     "16664f1cde7744bf85571186ec95ef92": {
      "model_module": "@jupyter-widgets/controls",
      "model_module_version": "1.5.0",
      "model_name": "FloatProgressModel",
      "state": {
       "bar_style": "success",
       "layout": "IPY_MODEL_39be7992c0e24a44b757737577aebbf5",
       "max": 4096,
       "style": "IPY_MODEL_43d9540bd2774d67808d4b6223d43c74",
       "value": 4096
      }
     },
     "1679bd446a8143b2b4a9b1004de401c8": {
      "model_module": "@jupyter-widgets/controls",
      "model_module_version": "1.5.0",
      "model_name": "DescriptionStyleModel",
      "state": {
       "description_width": ""
      }
     },
     "16858315fc4a4244b4d34bb4e1b03c25": {
      "model_module": "@jupyter-widgets/controls",
      "model_module_version": "1.5.0",
      "model_name": "FloatProgressModel",
      "state": {
       "bar_style": "danger",
       "layout": "IPY_MODEL_37a90f7e90364b1db32a502058abf6bf",
       "max": 1024,
       "style": "IPY_MODEL_af8fa06b83d24a0b9f1fd319905654aa"
      }
     },
     "16a595b69120402aae5aebc9be2b85ee": {
      "model_module": "@jupyter-widgets/base",
      "model_module_version": "1.2.0",
      "model_name": "LayoutModel",
      "state": {}
     },
     "177657bb35b8431a87ef7c9786856f94": {
      "model_module": "@jupyter-widgets/controls",
      "model_module_version": "1.5.0",
      "model_name": "DescriptionStyleModel",
      "state": {
       "description_width": ""
      }
     },
     "178e89908ffe485fad14b1ba204159be": {
      "model_module": "@jupyter-widgets/controls",
      "model_module_version": "1.5.0",
      "model_name": "HTMLModel",
      "state": {
       "layout": "IPY_MODEL_82c932adf27d458c8f106a2787f085df",
       "style": "IPY_MODEL_8dfa993739b4440da761e579f8c2c919",
       "value": " 1496/4096 [00:05&lt;00:09, 287.68it/s]"
      }
     },
     "17fd344824f540289fe56dfe5740b1a8": {
      "model_module": "@jupyter-widgets/controls",
      "model_module_version": "1.5.0",
      "model_name": "ProgressStyleModel",
      "state": {
       "description_width": ""
      }
     },
     "18336479270143b289f4abccc904d9b2": {
      "model_module": "@jupyter-widgets/controls",
      "model_module_version": "1.5.0",
      "model_name": "DescriptionStyleModel",
      "state": {
       "description_width": ""
      }
     },
     "1837a438f02b491593eab57427cdfefe": {
      "model_module": "@jupyter-widgets/controls",
      "model_module_version": "1.5.0",
      "model_name": "DescriptionStyleModel",
      "state": {
       "description_width": ""
      }
     },
     "185015bfd2b2417aa3247c2d5ef83040": {
      "model_module": "@jupyter-widgets/controls",
      "model_module_version": "1.5.0",
      "model_name": "HTMLModel",
      "state": {
       "layout": "IPY_MODEL_99d56b0aa9114b629abf53bc80b9abfd",
       "style": "IPY_MODEL_64194c06b5e1439aaf4c45cb811cd38e",
       "value": "100%"
      }
     },
     "18fea7156bb04156a0897e9f81e12def": {
      "model_module": "@jupyter-widgets/base",
      "model_module_version": "1.2.0",
      "model_name": "LayoutModel",
      "state": {}
     },
     "1997aa1e9520418f803a1ac185734102": {
      "model_module": "@jupyter-widgets/controls",
      "model_module_version": "1.5.0",
      "model_name": "HBoxModel",
      "state": {
       "children": [
        "IPY_MODEL_bdfe6b6a9903498aa24d2ca343e287f6",
        "IPY_MODEL_b9e8defe805e4af18f5e2b9d0bd48f92",
        "IPY_MODEL_93c3b61712194c318f118dc395716423"
       ],
       "layout": "IPY_MODEL_302c08724f3f4c1f92595186a1d48d23"
      }
     },
     "19bc0e374d9641debbf0bf9f8a1df0f3": {
      "model_module": "@jupyter-widgets/controls",
      "model_module_version": "1.5.0",
      "model_name": "HBoxModel",
      "state": {
       "children": [
        "IPY_MODEL_e42b2bc177dc40c6aec829b1a539e87f",
        "IPY_MODEL_3cfb1b683fc54f65b7b26035fc63e6f2",
        "IPY_MODEL_0c21f786ace8492a94f01cfddff3a6e0"
       ],
       "layout": "IPY_MODEL_5b929e21a06f4e2486c3c2e8b44885eb"
      }
     },
     "1a68bbd99ffe401580a02cc52774272a": {
      "model_module": "@jupyter-widgets/base",
      "model_module_version": "1.2.0",
      "model_name": "LayoutModel",
      "state": {}
     },
     "1a7ccdeeb476461e8460d0137df1196a": {
      "model_module": "@jupyter-widgets/controls",
      "model_module_version": "1.5.0",
      "model_name": "HTMLModel",
      "state": {
       "layout": "IPY_MODEL_f923e6a343234b31ad79e7d18b283ab4",
       "style": "IPY_MODEL_69ddc38e21a04da98312f0a32e1d1820",
       "value": " 4096/4096 [00:10&lt;00:00, 401.23it/s]"
      }
     },
     "1bfdb1385d6d4a44a89c560a9a6df386": {
      "model_module": "@jupyter-widgets/controls",
      "model_module_version": "1.5.0",
      "model_name": "ProgressStyleModel",
      "state": {
       "description_width": ""
      }
     },
     "1c5de2bbec694f5b81672947e934ebf5": {
      "model_module": "@jupyter-widgets/base",
      "model_module_version": "1.2.0",
      "model_name": "LayoutModel",
      "state": {}
     },
     "1c8d9e19f5e64bd0a2b81219e9a14892": {
      "model_module": "@jupyter-widgets/controls",
      "model_module_version": "1.5.0",
      "model_name": "DescriptionStyleModel",
      "state": {
       "description_width": ""
      }
     },
     "1cd2ab836a044609b601446554522ae0": {
      "model_module": "@jupyter-widgets/controls",
      "model_module_version": "1.5.0",
      "model_name": "HBoxModel",
      "state": {
       "children": [
        "IPY_MODEL_3611fb4e9baa49eba55d2ed18e3caa91",
        "IPY_MODEL_922c1c1e14b84003aab7c0df3701be1e",
        "IPY_MODEL_5d87a1befda244b586103590aa8037e8"
       ],
       "layout": "IPY_MODEL_f6c51262664247eab3ddb9c275fa0727"
      }
     },
     "1e218109f9b34a6b9b917d53bc9147ca": {
      "model_module": "@jupyter-widgets/base",
      "model_module_version": "1.2.0",
      "model_name": "LayoutModel",
      "state": {}
     },
     "1e2ed75a2bbf4ed59c2e9f939f0ce994": {
      "model_module": "@jupyter-widgets/controls",
      "model_module_version": "1.5.0",
      "model_name": "HTMLModel",
      "state": {
       "layout": "IPY_MODEL_9d5d0771d7204eec824c7eb1e764f8b6",
       "style": "IPY_MODEL_e54b5c87764c488092467e99032de622",
       "value": "100%"
      }
     },
     "1ec9a2bd76fa4f328488167763b69220": {
      "model_module": "@jupyter-widgets/controls",
      "model_module_version": "1.5.0",
      "model_name": "HTMLModel",
      "state": {
       "layout": "IPY_MODEL_c958bdd4a8014a298a4f3f5638be9b79",
       "style": "IPY_MODEL_bd6288d91ca841a2a2a15e410b9e75d6",
       "value": "100%"
      }
     },
     "1f556c940fc94411a170ee55fd8447ad": {
      "model_module": "@jupyter-widgets/base",
      "model_module_version": "1.2.0",
      "model_name": "LayoutModel",
      "state": {}
     },
     "1f71d7c824f34ea39674ef1ee78ae95e": {
      "model_module": "@jupyter-widgets/base",
      "model_module_version": "1.2.0",
      "model_name": "LayoutModel",
      "state": {}
     },
     "1f906a58d58248c0a2262378418b3201": {
      "model_module": "@jupyter-widgets/base",
      "model_module_version": "1.2.0",
      "model_name": "LayoutModel",
      "state": {}
     },
     "1f9a08ec358f462dbc5056075edb4396": {
      "model_module": "@jupyter-widgets/base",
      "model_module_version": "1.2.0",
      "model_name": "LayoutModel",
      "state": {}
     },
     "1f9b1e18e63e4fad8fec07d42475c2a3": {
      "model_module": "@jupyter-widgets/base",
      "model_module_version": "1.2.0",
      "model_name": "LayoutModel",
      "state": {}
     },
     "1faf187606204d48b9847e53e08792d9": {
      "model_module": "@jupyter-widgets/base",
      "model_module_version": "1.2.0",
      "model_name": "LayoutModel",
      "state": {}
     },
     "20753f06a2d54e5cb32a82ce9293011c": {
      "model_module": "@jupyter-widgets/controls",
      "model_module_version": "1.5.0",
      "model_name": "DescriptionStyleModel",
      "state": {
       "description_width": ""
      }
     },
     "207b891204884838b9da854bf9892d65": {
      "model_module": "@jupyter-widgets/controls",
      "model_module_version": "1.5.0",
      "model_name": "ProgressStyleModel",
      "state": {
       "description_width": ""
      }
     },
     "210124722219475a859b6823d7e4ec78": {
      "model_module": "@jupyter-widgets/base",
      "model_module_version": "1.2.0",
      "model_name": "LayoutModel",
      "state": {}
     },
     "21235d0a72774041b6a9c3bd2002aff7": {
      "model_module": "@jupyter-widgets/controls",
      "model_module_version": "1.5.0",
      "model_name": "HBoxModel",
      "state": {
       "children": [
        "IPY_MODEL_ca8152fa0ef643bbab2c4c5a2c6cfb9c",
        "IPY_MODEL_eb0bd214de7c42168a19650c6abdc0ac",
        "IPY_MODEL_a2b728f316c24d31b10e2b5b71511195"
       ],
       "layout": "IPY_MODEL_01db735ca46c4df8865df72e3b050aeb"
      }
     },
     "2137aad8cabc4130943ec7dc3fb1dd67": {
      "model_module": "@jupyter-widgets/controls",
      "model_module_version": "1.5.0",
      "model_name": "HTMLModel",
      "state": {
       "layout": "IPY_MODEL_f07bf9d843324445b93b27b5498bf491",
       "style": "IPY_MODEL_270a1fcc43324933b1533261756f6dde",
       "value": " 4096/4096 [00:16&lt;00:00, 262.39it/s]"
      }
     },
     "21ccf794a3c443daad9f9fe1db576cef": {
      "model_module": "@jupyter-widgets/controls",
      "model_module_version": "1.5.0",
      "model_name": "HTMLModel",
      "state": {
       "layout": "IPY_MODEL_1f9a08ec358f462dbc5056075edb4396",
       "style": "IPY_MODEL_e5b65385da3748d592216d743babaafa",
       "value": "100%"
      }
     },
     "221dd897db0946fd8d6040559fcc16be": {
      "model_module": "@jupyter-widgets/controls",
      "model_module_version": "1.5.0",
      "model_name": "FloatProgressModel",
      "state": {
       "bar_style": "success",
       "layout": "IPY_MODEL_0c1bff9325bc425e8a7a5d6755cc75c1",
       "max": 4096,
       "style": "IPY_MODEL_664a20995e0f48568ee7e6ac41d51186",
       "value": 4096
      }
     },
     "22a9faf4e0a149509e0e443b0fd66df2": {
      "model_module": "@jupyter-widgets/controls",
      "model_module_version": "1.5.0",
      "model_name": "FloatProgressModel",
      "state": {
       "bar_style": "success",
       "layout": "IPY_MODEL_bfdae7fea2e447fbb1351a6d153d4968",
       "max": 4096,
       "style": "IPY_MODEL_fbce3e76d7ca44f9b395a7dc035600d6",
       "value": 4096
      }
     },
     "22eafd73ef184719a28b45b4961546ba": {
      "model_module": "@jupyter-widgets/controls",
      "model_module_version": "1.5.0",
      "model_name": "DescriptionStyleModel",
      "state": {
       "description_width": ""
      }
     },
     "237b738c6ae44446bb64e64dab8d7b3f": {
      "model_module": "@jupyter-widgets/controls",
      "model_module_version": "1.5.0",
      "model_name": "HTMLModel",
      "state": {
       "layout": "IPY_MODEL_656b734c291244b09f2e7e06798b03fc",
       "style": "IPY_MODEL_283d822cc51346408bb0da29cca00524",
       "value": " 4096/4096 [00:14&lt;00:00, 280.91it/s]"
      }
     },
     "241a4acdb8d648f5b13d23d63a3a4ccc": {
      "model_module": "@jupyter-widgets/base",
      "model_module_version": "1.2.0",
      "model_name": "LayoutModel",
      "state": {}
     },
     "253abbb822c0430eba00ab64b046201f": {
      "model_module": "@jupyter-widgets/controls",
      "model_module_version": "1.5.0",
      "model_name": "DescriptionStyleModel",
      "state": {
       "description_width": ""
      }
     },
     "26796be1ed3640249b0f7b56e9e0aa26": {
      "model_module": "@jupyter-widgets/base",
      "model_module_version": "1.2.0",
      "model_name": "LayoutModel",
      "state": {}
     },
     "268b42a9e5b344ebad068f741667d50d": {
      "model_module": "@jupyter-widgets/base",
      "model_module_version": "1.2.0",
      "model_name": "LayoutModel",
      "state": {}
     },
     "270a1fcc43324933b1533261756f6dde": {
      "model_module": "@jupyter-widgets/controls",
      "model_module_version": "1.5.0",
      "model_name": "DescriptionStyleModel",
      "state": {
       "description_width": ""
      }
     },
     "2712dcf949dd4181a0da7814060cc8a3": {
      "model_module": "@jupyter-widgets/controls",
      "model_module_version": "1.5.0",
      "model_name": "ProgressStyleModel",
      "state": {
       "description_width": ""
      }
     },
     "273bb05bd17c4505b8a2dca43d6d94a5": {
      "model_module": "@jupyter-widgets/controls",
      "model_module_version": "1.5.0",
      "model_name": "HBoxModel",
      "state": {
       "children": [
        "IPY_MODEL_e3cb1c339fec4dbda9104ac723da0b67",
        "IPY_MODEL_cb18c19675f24394a811b177bf65256e",
        "IPY_MODEL_32ffd5d33c9b4ced921981eb1029c60e"
       ],
       "layout": "IPY_MODEL_1337da10ee4947aabbac3f95e93dbeb3"
      }
     },
     "276a87509a1a4afcb8ba68395a1c9a62": {
      "model_module": "@jupyter-widgets/base",
      "model_module_version": "1.2.0",
      "model_name": "LayoutModel",
      "state": {}
     },
     "2772e353b7bb42d98c79566de2ef4047": {
      "model_module": "@jupyter-widgets/base",
      "model_module_version": "1.2.0",
      "model_name": "LayoutModel",
      "state": {}
     },
     "283d822cc51346408bb0da29cca00524": {
      "model_module": "@jupyter-widgets/controls",
      "model_module_version": "1.5.0",
      "model_name": "DescriptionStyleModel",
      "state": {
       "description_width": ""
      }
     },
     "28c57fedd58f4e45b987dc9a72a8aa89": {
      "model_module": "@jupyter-widgets/controls",
      "model_module_version": "1.5.0",
      "model_name": "HTMLModel",
      "state": {
       "layout": "IPY_MODEL_b4f95e0710be44b6a083a8f11b672f61",
       "style": "IPY_MODEL_df2c5fc40fe04167b3bba1781b4b03b0",
       "value": "100%"
      }
     },
     "296158fbd2be4180a8834f15f94ab0ac": {
      "model_module": "@jupyter-widgets/base",
      "model_module_version": "1.2.0",
      "model_name": "LayoutModel",
      "state": {}
     },
     "297aa8ecb9404c03b2aec10dad144c5d": {
      "model_module": "@jupyter-widgets/base",
      "model_module_version": "1.2.0",
      "model_name": "LayoutModel",
      "state": {}
     },
     "299d08e5e71a4f6684d13375c0c33c16": {
      "model_module": "@jupyter-widgets/controls",
      "model_module_version": "1.5.0",
      "model_name": "DescriptionStyleModel",
      "state": {
       "description_width": ""
      }
     },
     "2a58c3efdf1d47d9b524469035e2afbf": {
      "model_module": "@jupyter-widgets/controls",
      "model_module_version": "1.5.0",
      "model_name": "HTMLModel",
      "state": {
       "layout": "IPY_MODEL_d85b976ef4ed4a429e46bdd1f4d8b5e8",
       "style": "IPY_MODEL_85c456749b8044058452293b09ab9baf",
       "value": " 4096/4096 [00:14&lt;00:00, 288.88it/s]"
      }
     },
     "2a59c08093724f3c9ee59d04ad231273": {
      "model_module": "@jupyter-widgets/controls",
      "model_module_version": "1.5.0",
      "model_name": "HTMLModel",
      "state": {
       "layout": "IPY_MODEL_7093ea4cf93f43bca8a6d9ceda6174d6",
       "style": "IPY_MODEL_1c8d9e19f5e64bd0a2b81219e9a14892",
       "value": " 37%"
      }
     },
     "2a9640a3fac9482b97551db724fd339e": {
      "model_module": "@jupyter-widgets/base",
      "model_module_version": "1.2.0",
      "model_name": "LayoutModel",
      "state": {}
     },
     "2b38893233bb47ab8189aafdbbf49f2f": {
      "model_module": "@jupyter-widgets/controls",
      "model_module_version": "1.5.0",
      "model_name": "ProgressStyleModel",
      "state": {
       "description_width": ""
      }
     },
     "2be29b60d76f4dbc906a66ebce44d453": {
      "model_module": "@jupyter-widgets/controls",
      "model_module_version": "1.5.0",
      "model_name": "HTMLModel",
      "state": {
       "layout": "IPY_MODEL_aa8a5b6a138d4aedb1bd3ea0b53d2584",
       "style": "IPY_MODEL_801493b733e34566b31be6b49c96ffe8",
       "value": " 2725/4096 [00:09&lt;00:04, 284.44it/s]"
      }
     },
     "2bfd4fc2e3a6426196fe4aabe7db41a0": {
      "model_module": "@jupyter-widgets/base",
      "model_module_version": "1.2.0",
      "model_name": "LayoutModel",
      "state": {}
     },
     "2c5383533f494b4f9e892b952c0fd454": {
      "model_module": "@jupyter-widgets/controls",
      "model_module_version": "1.5.0",
      "model_name": "HTMLModel",
      "state": {
       "layout": "IPY_MODEL_84ce804e57a947cc83a4ff012cbf09e7",
       "style": "IPY_MODEL_aab3ba3da2434956b6cd87f911d37472",
       "value": " 2048/2048 [00:07&lt;00:00, 295.78it/s]"
      }
     },
     "2c8605c7135040d199f545aa86dbac07": {
      "model_module": "@jupyter-widgets/base",
      "model_module_version": "1.2.0",
      "model_name": "LayoutModel",
      "state": {}
     },
     "2cb4802aee64464aa897ca9394b154bb": {
      "model_module": "@jupyter-widgets/controls",
      "model_module_version": "1.5.0",
      "model_name": "FloatProgressModel",
      "state": {
       "bar_style": "success",
       "layout": "IPY_MODEL_49882f9da8ae4a15b1d7b2f8be7174ea",
       "max": 4096,
       "style": "IPY_MODEL_a81e9bedda8b43faa57ca56f6a3fba2e",
       "value": 4096
      }
     },
     "2cd18ca012a0491f85ed4fbdcbd26c30": {
      "model_module": "@jupyter-widgets/controls",
      "model_module_version": "1.5.0",
      "model_name": "ProgressStyleModel",
      "state": {
       "description_width": ""
      }
     },
     "2da5da1deea54816b37fafa929b1944e": {
      "model_module": "@jupyter-widgets/controls",
      "model_module_version": "1.5.0",
      "model_name": "FloatProgressModel",
      "state": {
       "bar_style": "success",
       "layout": "IPY_MODEL_ca24ad5781f04580bbbd3f9510f29abf",
       "max": 4096,
       "style": "IPY_MODEL_fb3d582416534c31b77b467e1f1d3c6c",
       "value": 4096
      }
     },
     "2db4d64d32c04459a624504e70e8503f": {
      "model_module": "@jupyter-widgets/controls",
      "model_module_version": "1.5.0",
      "model_name": "FloatProgressModel",
      "state": {
       "bar_style": "success",
       "layout": "IPY_MODEL_a5c170fbf28e429f86a6e2dd4517897f",
       "max": 4096,
       "style": "IPY_MODEL_56b8679c1a5340eea5c0bbfd03fb1da3",
       "value": 4096
      }
     },
     "2e6c0185a0a544199b897464c80dd84a": {
      "model_module": "@jupyter-widgets/controls",
      "model_module_version": "1.5.0",
      "model_name": "HTMLModel",
      "state": {
       "layout": "IPY_MODEL_557b13ffbcad4ac2b99b97f27fa8b209",
       "style": "IPY_MODEL_8252e48eada64331a69ce4cf2167dc38",
       "value": "100%"
      }
     },
     "2e7fdac86b714d07b0e7c70a0e172e71": {
      "model_module": "@jupyter-widgets/controls",
      "model_module_version": "1.5.0",
      "model_name": "HBoxModel",
      "state": {
       "children": [
        "IPY_MODEL_9aba7a6b2b684b15a9ce20663cee510e",
        "IPY_MODEL_35179bf4bbb44519acf81be10b3b7ff9",
        "IPY_MODEL_1a7ccdeeb476461e8460d0137df1196a"
       ],
       "layout": "IPY_MODEL_12bec4c6696548a5b1fdaca957c43b8d"
      }
     },
     "2f0a454bbf634c25a19b0db9d04edfe8": {
      "model_module": "@jupyter-widgets/controls",
      "model_module_version": "1.5.0",
      "model_name": "DescriptionStyleModel",
      "state": {
       "description_width": ""
      }
     },
     "2f4ef0d9cca940248da5c154ea0afc00": {
      "model_module": "@jupyter-widgets/controls",
      "model_module_version": "1.5.0",
      "model_name": "HTMLModel",
      "state": {
       "layout": "IPY_MODEL_ce0e6e63f16b4e6191f03d70779ebabc",
       "style": "IPY_MODEL_880ae500c4044443a13ce4511ccfef3b",
       "value": " 0/1024 [00:00&lt;?, ?it/s]"
      }
     },
     "2fd3c830b2184effa6ddd2b7ad3322e7": {
      "model_module": "@jupyter-widgets/base",
      "model_module_version": "1.2.0",
      "model_name": "LayoutModel",
      "state": {}
     },
     "2fe407ceff024d0ea14e90fdfa5e38f8": {
      "model_module": "@jupyter-widgets/controls",
      "model_module_version": "1.5.0",
      "model_name": "HTMLModel",
      "state": {
       "layout": "IPY_MODEL_8c243e778f8d4f9dbb8a7679380fc027",
       "style": "IPY_MODEL_22eafd73ef184719a28b45b4961546ba",
       "value": "100%"
      }
     },
     "30112fb3321e4df38ee3f9f2454d7d1a": {
      "model_module": "@jupyter-widgets/base",
      "model_module_version": "1.2.0",
      "model_name": "LayoutModel",
      "state": {}
     },
     "3026ea4b73b04a1880e80c7a87771ace": {
      "model_module": "@jupyter-widgets/controls",
      "model_module_version": "1.5.0",
      "model_name": "ProgressStyleModel",
      "state": {
       "description_width": ""
      }
     },
     "302c08724f3f4c1f92595186a1d48d23": {
      "model_module": "@jupyter-widgets/base",
      "model_module_version": "1.2.0",
      "model_name": "LayoutModel",
      "state": {}
     },
     "307b094f95ab49b1aefa582c549580ab": {
      "model_module": "@jupyter-widgets/controls",
      "model_module_version": "1.5.0",
      "model_name": "HTMLModel",
      "state": {
       "layout": "IPY_MODEL_054034a810bf4fab918b302ea96f5198",
       "style": "IPY_MODEL_11b9c702a04c44d3a80d22d46dfbfb06",
       "value": "100%"
      }
     },
     "30c0ab2ff28340339cd0ced19c868219": {
      "model_module": "@jupyter-widgets/base",
      "model_module_version": "1.2.0",
      "model_name": "LayoutModel",
      "state": {}
     },
     "30f1ac5b84cb49cd8a2993ff218c332e": {
      "model_module": "@jupyter-widgets/controls",
      "model_module_version": "1.5.0",
      "model_name": "DescriptionStyleModel",
      "state": {
       "description_width": ""
      }
     },
     "317c468f97af4ff6a64cf0d29592da56": {
      "model_module": "@jupyter-widgets/base",
      "model_module_version": "1.2.0",
      "model_name": "LayoutModel",
      "state": {}
     },
     "317d8842269c40bb9dbeed5996d438ef": {
      "model_module": "@jupyter-widgets/base",
      "model_module_version": "1.2.0",
      "model_name": "LayoutModel",
      "state": {}
     },
     "329e2539a7844da19170c90a83adf264": {
      "model_module": "@jupyter-widgets/controls",
      "model_module_version": "1.5.0",
      "model_name": "DescriptionStyleModel",
      "state": {
       "description_width": ""
      }
     },
     "32e8d6ccfab74e689c1f9f269d478f7e": {
      "model_module": "@jupyter-widgets/controls",
      "model_module_version": "1.5.0",
      "model_name": "ProgressStyleModel",
      "state": {
       "description_width": ""
      }
     },
     "32ea338e69b540cebddc5ea9d12f8d09": {
      "model_module": "@jupyter-widgets/controls",
      "model_module_version": "1.5.0",
      "model_name": "ProgressStyleModel",
      "state": {
       "description_width": ""
      }
     },
     "32f25076b4214947bde35d9701f66533": {
      "model_module": "@jupyter-widgets/controls",
      "model_module_version": "1.5.0",
      "model_name": "DescriptionStyleModel",
      "state": {
       "description_width": ""
      }
     },
     "32ffd5d33c9b4ced921981eb1029c60e": {
      "model_module": "@jupyter-widgets/controls",
      "model_module_version": "1.5.0",
      "model_name": "HTMLModel",
      "state": {
       "layout": "IPY_MODEL_879a3b0ebd6c4fa2adf0c229a143e956",
       "style": "IPY_MODEL_a8469e50fa0148a7a5106ba33fb41fde",
       "value": " 0/4096 [00:00&lt;?, ?it/s]"
      }
     },
     "335869ee7e8448b5a164d5a4cd1edb64": {
      "model_module": "@jupyter-widgets/controls",
      "model_module_version": "1.5.0",
      "model_name": "HBoxModel",
      "state": {
       "children": [
        "IPY_MODEL_601ed1dbf0dc4171aa52b7c8d2d7d4a8",
        "IPY_MODEL_53bc32073a4c455084eaadd78ef75425",
        "IPY_MODEL_61fce6cccadf415c9dd2d73ae2f2c7cc"
       ],
       "layout": "IPY_MODEL_f0118164b53e40808c4b1bb73474736c"
      }
     },
     "3361ef4c629649749c86a367b83d6c32": {
      "model_module": "@jupyter-widgets/base",
      "model_module_version": "1.2.0",
      "model_name": "LayoutModel",
      "state": {}
     },
     "33ed2712b2eb48dda34b369c1996570b": {
      "model_module": "@jupyter-widgets/controls",
      "model_module_version": "1.5.0",
      "model_name": "DescriptionStyleModel",
      "state": {
       "description_width": ""
      }
     },
     "34ada77ddae4470d945d22f3fbe284f9": {
      "model_module": "@jupyter-widgets/base",
      "model_module_version": "1.2.0",
      "model_name": "LayoutModel",
      "state": {}
     },
     "35179bf4bbb44519acf81be10b3b7ff9": {
      "model_module": "@jupyter-widgets/controls",
      "model_module_version": "1.5.0",
      "model_name": "FloatProgressModel",
      "state": {
       "bar_style": "success",
       "layout": "IPY_MODEL_1507367c6a514273a1a5d25e133351fe",
       "max": 4096,
       "style": "IPY_MODEL_7a146727a5684af6a99762206216742f",
       "value": 4096
      }
     },
     "35876e78ad4745d886eecc6d6a722156": {
      "model_module": "@jupyter-widgets/controls",
      "model_module_version": "1.5.0",
      "model_name": "DescriptionStyleModel",
      "state": {
       "description_width": ""
      }
     },
     "35b784a9cc3943ed811bb2053a9f1c81": {
      "model_module": "@jupyter-widgets/controls",
      "model_module_version": "1.5.0",
      "model_name": "HTMLModel",
      "state": {
       "layout": "IPY_MODEL_8d2900446b7d4eb99ebf9b01516a0127",
       "style": "IPY_MODEL_8853148d8deb4ab5bdc8818a3a546067",
       "value": "100%"
      }
     },
     "35f1585bcfbf468a985c6eb349a624e4": {
      "model_module": "@jupyter-widgets/controls",
      "model_module_version": "1.5.0",
      "model_name": "HTMLModel",
      "state": {
       "layout": "IPY_MODEL_a4797bb10bc44fb7a54a37dd6c0a940b",
       "style": "IPY_MODEL_6db176b88c124a8e8d4c2232ebc221cb",
       "value": "100%"
      }
     },
     "3611fb4e9baa49eba55d2ed18e3caa91": {
      "model_module": "@jupyter-widgets/controls",
      "model_module_version": "1.5.0",
      "model_name": "HTMLModel",
      "state": {
       "layout": "IPY_MODEL_2fd3c830b2184effa6ddd2b7ad3322e7",
       "style": "IPY_MODEL_177657bb35b8431a87ef7c9786856f94",
       "value": "100%"
      }
     },
     "36816cb29722488db581da862c99237a": {
      "model_module": "@jupyter-widgets/controls",
      "model_module_version": "1.5.0",
      "model_name": "ProgressStyleModel",
      "state": {
       "description_width": ""
      }
     },
     "3684dfaccc214aed9113854806596799": {
      "model_module": "@jupyter-widgets/controls",
      "model_module_version": "1.5.0",
      "model_name": "HTMLModel",
      "state": {
       "layout": "IPY_MODEL_c8026e3390e047689568e2714fc8c1bc",
       "style": "IPY_MODEL_1837a438f02b491593eab57427cdfefe",
       "value": " 27%"
      }
     },
     "36e1fb6b87214889a309d571c4462dbb": {
      "model_module": "@jupyter-widgets/base",
      "model_module_version": "1.2.0",
      "model_name": "LayoutModel",
      "state": {}
     },
     "37734472a39d43f28368cd4ef63b7c2a": {
      "model_module": "@jupyter-widgets/base",
      "model_module_version": "1.2.0",
      "model_name": "LayoutModel",
      "state": {}
     },
     "37a90f7e90364b1db32a502058abf6bf": {
      "model_module": "@jupyter-widgets/base",
      "model_module_version": "1.2.0",
      "model_name": "LayoutModel",
      "state": {}
     },
     "37e72199e6b14f638bfb74a9bdaa046a": {
      "model_module": "@jupyter-widgets/base",
      "model_module_version": "1.2.0",
      "model_name": "LayoutModel",
      "state": {}
     },
     "386e633c4b4c4461b9ccbb29ab8a7a7f": {
      "model_module": "@jupyter-widgets/controls",
      "model_module_version": "1.5.0",
      "model_name": "ProgressStyleModel",
      "state": {
       "description_width": ""
      }
     },
     "38b0530abf5f4819bef2b568e27aa623": {
      "model_module": "@jupyter-widgets/controls",
      "model_module_version": "1.5.0",
      "model_name": "DescriptionStyleModel",
      "state": {
       "description_width": ""
      }
     },
     "3950450da70a46f18b99484605100753": {
      "model_module": "@jupyter-widgets/controls",
      "model_module_version": "1.5.0",
      "model_name": "DescriptionStyleModel",
      "state": {
       "description_width": ""
      }
     },
     "399c1cb7b5834aa1a539d50591a0fb9c": {
      "model_module": "@jupyter-widgets/controls",
      "model_module_version": "1.5.0",
      "model_name": "FloatProgressModel",
      "state": {
       "bar_style": "success",
       "layout": "IPY_MODEL_da21b3a5459946019deae5b8472e956c",
       "max": 4096,
       "style": "IPY_MODEL_3a578d5a1e20454f9e9259a10f123848",
       "value": 4096
      }
     },
     "39be7992c0e24a44b757737577aebbf5": {
      "model_module": "@jupyter-widgets/base",
      "model_module_version": "1.2.0",
      "model_name": "LayoutModel",
      "state": {}
     },
     "3a0d2864d528484b8610a43baa92ec97": {
      "model_module": "@jupyter-widgets/controls",
      "model_module_version": "1.5.0",
      "model_name": "HBoxModel",
      "state": {
       "children": [
        "IPY_MODEL_bf1dd515e0764de1b6b24440ddc810cf",
        "IPY_MODEL_61f3c83552364b3b985f4b23229917a9",
        "IPY_MODEL_924c701874da4014ac19b325e419d530"
       ],
       "layout": "IPY_MODEL_4991d2af479e4ba79c6496e2d16ae7c2"
      }
     },
     "3a578d5a1e20454f9e9259a10f123848": {
      "model_module": "@jupyter-widgets/controls",
      "model_module_version": "1.5.0",
      "model_name": "ProgressStyleModel",
      "state": {
       "description_width": ""
      }
     },
     "3a8a1c03739f40c799a68301d5b20d3f": {
      "model_module": "@jupyter-widgets/controls",
      "model_module_version": "1.5.0",
      "model_name": "HTMLModel",
      "state": {
       "layout": "IPY_MODEL_13e48c1602d24510bd0244dcf8a3c485",
       "style": "IPY_MODEL_b58f22180692445398365e4688a138c2",
       "value": " 4096/4096 [00:17&lt;00:00, 251.96it/s]"
      }
     },
     "3ae141f176204b028853ce5da5ffc7cb": {
      "model_module": "@jupyter-widgets/base",
      "model_module_version": "1.2.0",
      "model_name": "LayoutModel",
      "state": {}
     },
     "3b680dfcefd9480eb449dbf8a4d4dd18": {
      "model_module": "@jupyter-widgets/base",
      "model_module_version": "1.2.0",
      "model_name": "LayoutModel",
      "state": {}
     },
     "3b8bb54372f34ed88c1c96e1dbc859f7": {
      "model_module": "@jupyter-widgets/base",
      "model_module_version": "1.2.0",
      "model_name": "LayoutModel",
      "state": {}
     },
     "3be37ed913574282a935d626836feeb1": {
      "model_module": "@jupyter-widgets/controls",
      "model_module_version": "1.5.0",
      "model_name": "HTMLModel",
      "state": {
       "layout": "IPY_MODEL_ff3715a9834a403889e2e66f98510fc2",
       "style": "IPY_MODEL_f1ce39e453fb43d0992cee51d3763ca0",
       "value": " 0/4096 [00:00&lt;?, ?it/s]"
      }
     },
     "3c58c133c7c049dd808d26f3bfaa3136": {
      "model_module": "@jupyter-widgets/base",
      "model_module_version": "1.2.0",
      "model_name": "LayoutModel",
      "state": {}
     },
     "3cfb1b683fc54f65b7b26035fc63e6f2": {
      "model_module": "@jupyter-widgets/controls",
      "model_module_version": "1.5.0",
      "model_name": "FloatProgressModel",
      "state": {
       "bar_style": "success",
       "layout": "IPY_MODEL_cc043e89191d44038e1d678137a6fd17",
       "max": 4096,
       "style": "IPY_MODEL_02e44c8ef7fd4d5791e42194e4047120",
       "value": 4096
      }
     },
     "3d2d3ea1d8a448ca85b11e8471ac4efb": {
      "model_module": "@jupyter-widgets/base",
      "model_module_version": "1.2.0",
      "model_name": "LayoutModel",
      "state": {}
     },
     "3d793fdcdab4451b816bfd20f064e3d0": {
      "model_module": "@jupyter-widgets/controls",
      "model_module_version": "1.5.0",
      "model_name": "FloatProgressModel",
      "state": {
       "bar_style": "success",
       "layout": "IPY_MODEL_8835a98153dc4da2b8a25636fa01a433",
       "max": 4096,
       "style": "IPY_MODEL_17fd344824f540289fe56dfe5740b1a8",
       "value": 4096
      }
     },
     "3db0f1ec75cb4255bacccddfb61ef573": {
      "model_module": "@jupyter-widgets/controls",
      "model_module_version": "1.5.0",
      "model_name": "ProgressStyleModel",
      "state": {
       "description_width": ""
      }
     },
     "3de0be449a694ece8a645e71f5ddd804": {
      "model_module": "@jupyter-widgets/controls",
      "model_module_version": "1.5.0",
      "model_name": "HTMLModel",
      "state": {
       "layout": "IPY_MODEL_9829a225928f4ba188fda4b54a70a34c",
       "style": "IPY_MODEL_f9bb2e0b142d452eb6633f0ada6b4a2d",
       "value": " 4096/4096 [00:13&lt;00:00, 298.83it/s]"
      }
     },
     "3e690658713a407e830a9de79f2488c3": {
      "model_module": "@jupyter-widgets/controls",
      "model_module_version": "1.5.0",
      "model_name": "FloatProgressModel",
      "state": {
       "bar_style": "danger",
       "layout": "IPY_MODEL_12423255e3b6444b865f4f4244e86000",
       "max": 4096,
       "style": "IPY_MODEL_2b38893233bb47ab8189aafdbbf49f2f"
      }
     },
     "3e7c60f320c94cb2889f244c3fe9fbc7": {
      "model_module": "@jupyter-widgets/base",
      "model_module_version": "1.2.0",
      "model_name": "LayoutModel",
      "state": {}
     },
     "3ff61a7c94024ddc971f0eac670082f1": {
      "model_module": "@jupyter-widgets/base",
      "model_module_version": "1.2.0",
      "model_name": "LayoutModel",
      "state": {}
     },
     "40ac65ffd08f431baafbb3d80d1fe7ab": {
      "model_module": "@jupyter-widgets/base",
      "model_module_version": "1.2.0",
      "model_name": "LayoutModel",
      "state": {}
     },
     "41961df0f6c74156ba46f4fdcd910bc4": {
      "model_module": "@jupyter-widgets/controls",
      "model_module_version": "1.5.0",
      "model_name": "FloatProgressModel",
      "state": {
       "bar_style": "success",
       "layout": "IPY_MODEL_9486d386f4114881a45defc334ac47df",
       "max": 4096,
       "style": "IPY_MODEL_2712dcf949dd4181a0da7814060cc8a3",
       "value": 4096
      }
     },
     "42607c058dce4afd91a3fd5539feefa2": {
      "model_module": "@jupyter-widgets/controls",
      "model_module_version": "1.5.0",
      "model_name": "ProgressStyleModel",
      "state": {
       "description_width": ""
      }
     },
     "42ac200c6df14c10816c355299ef481c": {
      "model_module": "@jupyter-widgets/controls",
      "model_module_version": "1.5.0",
      "model_name": "DescriptionStyleModel",
      "state": {
       "description_width": ""
      }
     },
     "42c3f8c7c6d8431e96a6055bf9772457": {
      "model_module": "@jupyter-widgets/base",
      "model_module_version": "1.2.0",
      "model_name": "LayoutModel",
      "state": {}
     },
     "42cc0c5be95645a184ecadeead6a3c1e": {
      "model_module": "@jupyter-widgets/controls",
      "model_module_version": "1.5.0",
      "model_name": "HTMLModel",
      "state": {
       "layout": "IPY_MODEL_0a0dd4ca5fca40c3ba8509edd32ec060",
       "style": "IPY_MODEL_13169d5db707447fa27b0357cb855e48",
       "value": "100%"
      }
     },
     "438a73e86d73446f98bc14b95b5b3073": {
      "model_module": "@jupyter-widgets/base",
      "model_module_version": "1.2.0",
      "model_name": "LayoutModel",
      "state": {}
     },
     "43d9540bd2774d67808d4b6223d43c74": {
      "model_module": "@jupyter-widgets/controls",
      "model_module_version": "1.5.0",
      "model_name": "ProgressStyleModel",
      "state": {
       "description_width": ""
      }
     },
     "44b43b63132c47a08b21b5cb0a8aa53d": {
      "model_module": "@jupyter-widgets/controls",
      "model_module_version": "1.5.0",
      "model_name": "HTMLModel",
      "state": {
       "layout": "IPY_MODEL_4534b7b808d2413e85dfb946fa56ba8c",
       "style": "IPY_MODEL_f19dde3ac486465ab720274dac2f65e8",
       "value": " 4096/4096 [00:14&lt;00:00, 236.82it/s]"
      }
     },
     "44ca5227194e4804a73cf04fe30416c2": {
      "model_module": "@jupyter-widgets/controls",
      "model_module_version": "1.5.0",
      "model_name": "HTMLModel",
      "state": {
       "layout": "IPY_MODEL_ae70c7061d5c463d8c3835e6c0cc4ea6",
       "style": "IPY_MODEL_079dda615d204a84a8c9e6e5cff44f75",
       "value": " 1024/1024 [00:03&lt;00:00, 296.73it/s]"
      }
     },
     "44e5fc955e9c4af2a529490de87eae60": {
      "model_module": "@jupyter-widgets/controls",
      "model_module_version": "1.5.0",
      "model_name": "DescriptionStyleModel",
      "state": {
       "description_width": ""
      }
     },
     "44f934ad7a5b4c3aaee824ac2b152a68": {
      "model_module": "@jupyter-widgets/base",
      "model_module_version": "1.2.0",
      "model_name": "LayoutModel",
      "state": {}
     },
     "4508e793600140a1944d99c4d601d7d1": {
      "model_module": "@jupyter-widgets/controls",
      "model_module_version": "1.5.0",
      "model_name": "ProgressStyleModel",
      "state": {
       "description_width": ""
      }
     },
     "4533641286854f0a8986b3914c2b8a44": {
      "model_module": "@jupyter-widgets/controls",
      "model_module_version": "1.5.0",
      "model_name": "HTMLModel",
      "state": {
       "layout": "IPY_MODEL_f7d6868497484e089167b3c08092b00d",
       "style": "IPY_MODEL_dbcc95f0d1724d82a4da0a8b378c9fd9",
       "value": " 4096/4096 [00:14&lt;00:00, 293.45it/s]"
      }
     },
     "4534b7b808d2413e85dfb946fa56ba8c": {
      "model_module": "@jupyter-widgets/base",
      "model_module_version": "1.2.0",
      "model_name": "LayoutModel",
      "state": {}
     },
     "457dbe4df7194b25b2dbf65b4c6019eb": {
      "model_module": "@jupyter-widgets/controls",
      "model_module_version": "1.5.0",
      "model_name": "HTMLModel",
      "state": {
       "layout": "IPY_MODEL_1177cbbb22cc4e9eaa980b904e18fcc2",
       "style": "IPY_MODEL_18336479270143b289f4abccc904d9b2",
       "value": "100%"
      }
     },
     "459dc4b82bd7450e8b790146d91e3df6": {
      "model_module": "@jupyter-widgets/controls",
      "model_module_version": "1.5.0",
      "model_name": "ProgressStyleModel",
      "state": {
       "description_width": ""
      }
     },
     "46d5c976fa414dd7b463792567064948": {
      "model_module": "@jupyter-widgets/controls",
      "model_module_version": "1.5.0",
      "model_name": "HBoxModel",
      "state": {
       "children": [
        "IPY_MODEL_dfcc32b1e58541ee8fa02b34bcdb5461",
        "IPY_MODEL_d071d140688c4d39b229f64cc281933d",
        "IPY_MODEL_ef13c670c07d4c1a90deba260e609aa4"
       ],
       "layout": "IPY_MODEL_b4c4cb088ed54958a1bbcba8abc96f76"
      }
     },
     "4730b56bd531483cb7ad1bc44288e3fc": {
      "model_module": "@jupyter-widgets/base",
      "model_module_version": "1.2.0",
      "model_name": "LayoutModel",
      "state": {}
     },
     "479fbebebc4e4a93b57611882e80f35c": {
      "model_module": "@jupyter-widgets/controls",
      "model_module_version": "1.5.0",
      "model_name": "HTMLModel",
      "state": {
       "layout": "IPY_MODEL_e617fffc1aa34aae9b5a817a7f5d5104",
       "style": "IPY_MODEL_12046e73e6b54d7b9fef87e776193efe",
       "value": "100%"
      }
     },
     "47baf49955c8407597b15a9267492b8d": {
      "model_module": "@jupyter-widgets/base",
      "model_module_version": "1.2.0",
      "model_name": "LayoutModel",
      "state": {}
     },
     "47cd019e796c42fdb8573520e2bd382e": {
      "model_module": "@jupyter-widgets/base",
      "model_module_version": "1.2.0",
      "model_name": "LayoutModel",
      "state": {}
     },
     "482dbb8ea0d14b14b2d410b8da89e4a5": {
      "model_module": "@jupyter-widgets/controls",
      "model_module_version": "1.5.0",
      "model_name": "HTMLModel",
      "state": {
       "layout": "IPY_MODEL_85206c6a95ab4926843c2562891984ab",
       "style": "IPY_MODEL_160c64fd16ad47d7a4fff8b39fe48eb6",
       "value": "100%"
      }
     },
     "4872e89498854040b82d322f23d8ed27": {
      "model_module": "@jupyter-widgets/controls",
      "model_module_version": "1.5.0",
      "model_name": "ProgressStyleModel",
      "state": {
       "description_width": ""
      }
     },
     "48f7e53c14c2462ebf12d08dff495aa7": {
      "model_module": "@jupyter-widgets/base",
      "model_module_version": "1.2.0",
      "model_name": "LayoutModel",
      "state": {}
     },
     "49882f9da8ae4a15b1d7b2f8be7174ea": {
      "model_module": "@jupyter-widgets/base",
      "model_module_version": "1.2.0",
      "model_name": "LayoutModel",
      "state": {}
     },
     "4991d2af479e4ba79c6496e2d16ae7c2": {
      "model_module": "@jupyter-widgets/base",
      "model_module_version": "1.2.0",
      "model_name": "LayoutModel",
      "state": {}
     },
     "49ef5991eebe4748ac0e42cfb716241e": {
      "model_module": "@jupyter-widgets/base",
      "model_module_version": "1.2.0",
      "model_name": "LayoutModel",
      "state": {}
     },
     "4a39e6fd2cbc466397167cfca1fd611b": {
      "model_module": "@jupyter-widgets/controls",
      "model_module_version": "1.5.0",
      "model_name": "DescriptionStyleModel",
      "state": {
       "description_width": ""
      }
     },
     "4a5c61665d874dfe9993ad537d36eb54": {
      "model_module": "@jupyter-widgets/controls",
      "model_module_version": "1.5.0",
      "model_name": "FloatProgressModel",
      "state": {
       "bar_style": "danger",
       "layout": "IPY_MODEL_8fd7d6e8b1c34a5b9e36f88882a2abeb",
       "max": 20000,
       "style": "IPY_MODEL_05b9519d427c474b9889bcbd1dbd8f15",
       "value": 2091
      }
     },
     "4a93a8f3d764459b9a59020539fd45b5": {
      "model_module": "@jupyter-widgets/controls",
      "model_module_version": "1.5.0",
      "model_name": "DescriptionStyleModel",
      "state": {
       "description_width": ""
      }
     },
     "4a9566ad31c041f6be398d29e4785a66": {
      "model_module": "@jupyter-widgets/base",
      "model_module_version": "1.2.0",
      "model_name": "LayoutModel",
      "state": {}
     },
     "4ab05437d819494ca1c2d7d8f0ad224d": {
      "model_module": "@jupyter-widgets/base",
      "model_module_version": "1.2.0",
      "model_name": "LayoutModel",
      "state": {}
     },
     "4c9c97219d614af991342c9ed62f885a": {
      "model_module": "@jupyter-widgets/controls",
      "model_module_version": "1.5.0",
      "model_name": "DescriptionStyleModel",
      "state": {
       "description_width": ""
      }
     },
     "4cd6c6e81c1747379a9de1b22ac95488": {
      "model_module": "@jupyter-widgets/controls",
      "model_module_version": "1.5.0",
      "model_name": "HTMLModel",
      "state": {
       "layout": "IPY_MODEL_f3a620da121e4b0d84d2576d2f1cce7d",
       "style": "IPY_MODEL_329e2539a7844da19170c90a83adf264",
       "value": " 4096/4096 [00:14&lt;00:00, 279.36it/s]"
      }
     },
     "4ce01bbb9ddb40dd8ce68e103af684ee": {
      "model_module": "@jupyter-widgets/controls",
      "model_module_version": "1.5.0",
      "model_name": "DescriptionStyleModel",
      "state": {
       "description_width": ""
      }
     },
     "4e195ac564194ea8aade253080f9975e": {
      "model_module": "@jupyter-widgets/controls",
      "model_module_version": "1.5.0",
      "model_name": "HBoxModel",
      "state": {
       "children": [
        "IPY_MODEL_f3613c1991494d1b8b72f50e4c9a38ab",
        "IPY_MODEL_5b7ee6983b9f43aa923a80fc75fdf9fe",
        "IPY_MODEL_5f8b9410da6d41ab9164abba8264b64f"
       ],
       "layout": "IPY_MODEL_fef756510b984db180833bf2dd079ccc"
      }
     },
     "4ed09cd5addd431eb10685a6879aef15": {
      "model_module": "@jupyter-widgets/controls",
      "model_module_version": "1.5.0",
      "model_name": "FloatProgressModel",
      "state": {
       "bar_style": "success",
       "layout": "IPY_MODEL_30112fb3321e4df38ee3f9f2454d7d1a",
       "max": 4096,
       "style": "IPY_MODEL_36816cb29722488db581da862c99237a",
       "value": 4096
      }
     },
     "4f360a90f7fe4232853426dfbb85b72f": {
      "model_module": "@jupyter-widgets/controls",
      "model_module_version": "1.5.0",
      "model_name": "HBoxModel",
      "state": {
       "children": [
        "IPY_MODEL_f38229a27d62480783aff8c94b955ee8",
        "IPY_MODEL_d2dd6881b540416fa88a0770d0e3acbd",
        "IPY_MODEL_4533641286854f0a8986b3914c2b8a44"
       ],
       "layout": "IPY_MODEL_4ab05437d819494ca1c2d7d8f0ad224d"
      }
     },
     "50224bad28134aa5a2093f89696103ba": {
      "model_module": "@jupyter-widgets/base",
      "model_module_version": "1.2.0",
      "model_name": "LayoutModel",
      "state": {}
     },
     "50463a233d05487cb444bde087fee54c": {
      "model_module": "@jupyter-widgets/controls",
      "model_module_version": "1.5.0",
      "model_name": "DescriptionStyleModel",
      "state": {
       "description_width": ""
      }
     },
     "509bc9f846134e6e95abf8a3a7f21d85": {
      "model_module": "@jupyter-widgets/controls",
      "model_module_version": "1.5.0",
      "model_name": "HTMLModel",
      "state": {
       "layout": "IPY_MODEL_a90ab7e21f2a4ecf91a094899d86e949",
       "style": "IPY_MODEL_f24dcd53db824b4fa0f3be82252ee6b0",
       "value": " 4096/4096 [00:15&lt;00:00, 282.17it/s]"
      }
     },
     "50edb3ae3d434f5da7a671984da7fc02": {
      "model_module": "@jupyter-widgets/controls",
      "model_module_version": "1.5.0",
      "model_name": "HBoxModel",
      "state": {
       "children": [
        "IPY_MODEL_f1907a65bad24b0daee33bf29d8d054a",
        "IPY_MODEL_fedc676deeea4bb18b618320cd556c0a",
        "IPY_MODEL_3a8a1c03739f40c799a68301d5b20d3f"
       ],
       "layout": "IPY_MODEL_6611cc342ed24a4fa31e9e201d1fe94b"
      }
     },
     "50f751366b874e88bef3a497e68680a7": {
      "model_module": "@jupyter-widgets/controls",
      "model_module_version": "1.5.0",
      "model_name": "FloatProgressModel",
      "state": {
       "bar_style": "danger",
       "layout": "IPY_MODEL_6f73fa5c70b94c58bec005b6e1812909",
       "max": 4096,
       "style": "IPY_MODEL_a63493e2668449b7ad182d30cb95bc6d",
       "value": 252
      }
     },
     "51cccdc3f4df44a49791a030287ae5da": {
      "model_module": "@jupyter-widgets/base",
      "model_module_version": "1.2.0",
      "model_name": "LayoutModel",
      "state": {}
     },
     "51f04e48ee1e477aacc694722f57fb1d": {
      "model_module": "@jupyter-widgets/base",
      "model_module_version": "1.2.0",
      "model_name": "LayoutModel",
      "state": {}
     },
     "523474dbc0e3455f838776a21fc5da6e": {
      "model_module": "@jupyter-widgets/controls",
      "model_module_version": "1.5.0",
      "model_name": "HBoxModel",
      "state": {
       "children": [
        "IPY_MODEL_8fce3b6589894047bd802972f2414de6",
        "IPY_MODEL_ad5694fbc3ed456fb82eae982563c924",
        "IPY_MODEL_b36b346633474866b3ff0182e4cb31c9"
       ],
       "layout": "IPY_MODEL_06983cf7e73645839cfbf3b3c79132c8"
      }
     },
     "5260a11de3404fa9b01331d535a919f7": {
      "model_module": "@jupyter-widgets/controls",
      "model_module_version": "1.5.0",
      "model_name": "FloatProgressModel",
      "state": {
       "bar_style": "success",
       "layout": "IPY_MODEL_51f04e48ee1e477aacc694722f57fb1d",
       "max": 1024,
       "style": "IPY_MODEL_fb358d2d7ad34974beb6ab6b1295f403",
       "value": 1024
      }
     },
     "5381ec1ae8dd482a910eb80dab3b1d4b": {
      "model_module": "@jupyter-widgets/controls",
      "model_module_version": "1.5.0",
      "model_name": "ProgressStyleModel",
      "state": {
       "description_width": ""
      }
     },
     "53bc32073a4c455084eaadd78ef75425": {
      "model_module": "@jupyter-widgets/controls",
      "model_module_version": "1.5.0",
      "model_name": "FloatProgressModel",
      "state": {
       "bar_style": "success",
       "layout": "IPY_MODEL_c37c00c34fce441ab529340009007a69",
       "max": 4096,
       "style": "IPY_MODEL_2cd18ca012a0491f85ed4fbdcbd26c30",
       "value": 4096
      }
     },
     "540db4a363cd4c5fa976e418553ecc64": {
      "model_module": "@jupyter-widgets/base",
      "model_module_version": "1.2.0",
      "model_name": "LayoutModel",
      "state": {}
     },
     "546d22df46484926ac6b65b485da5c3b": {
      "model_module": "@jupyter-widgets/controls",
      "model_module_version": "1.5.0",
      "model_name": "HBoxModel",
      "state": {
       "children": [
        "IPY_MODEL_2a59c08093724f3c9ee59d04ad231273",
        "IPY_MODEL_feda8f833d954eba937ebe21b4cef5db",
        "IPY_MODEL_178e89908ffe485fad14b1ba204159be"
       ],
       "layout": "IPY_MODEL_7ca81a692b1647cb8c134986662401c1"
      }
     },
     "54747c6346284ab18b66c409d53048a9": {
      "model_module": "@jupyter-widgets/controls",
      "model_module_version": "1.5.0",
      "model_name": "HBoxModel",
      "state": {
       "children": [
        "IPY_MODEL_cb20d517c1ee4a16a7dcea03ee57ec86",
        "IPY_MODEL_5e218ec4ac454efeb1fd95f67e76e2dd",
        "IPY_MODEL_a000efb2bc0144aaa340d40f131451ff"
       ],
       "layout": "IPY_MODEL_055501dd154c4974baf6bf7640dafc83"
      }
     },
     "557b13ffbcad4ac2b99b97f27fa8b209": {
      "model_module": "@jupyter-widgets/base",
      "model_module_version": "1.2.0",
      "model_name": "LayoutModel",
      "state": {}
     },
     "55e48d42f0c442b8b041a8ea64200d5f": {
      "model_module": "@jupyter-widgets/controls",
      "model_module_version": "1.5.0",
      "model_name": "HBoxModel",
      "state": {
       "children": [
        "IPY_MODEL_35b784a9cc3943ed811bb2053a9f1c81",
        "IPY_MODEL_fafa6e16059148aab7e34aa58808d814",
        "IPY_MODEL_564e31d9f0bf4dcaa87e962272942b19"
       ],
       "layout": "IPY_MODEL_3e7c60f320c94cb2889f244c3fe9fbc7"
      }
     },
     "564e31d9f0bf4dcaa87e962272942b19": {
      "model_module": "@jupyter-widgets/controls",
      "model_module_version": "1.5.0",
      "model_name": "HTMLModel",
      "state": {
       "layout": "IPY_MODEL_a5690bb1702248ed887e37fb048fae1c",
       "style": "IPY_MODEL_4c9c97219d614af991342c9ed62f885a",
       "value": " 4096/4096 [00:14&lt;00:00, 274.40it/s]"
      }
     },
     "5671d445a82547d0b56710fbf88b7c39": {
      "model_module": "@jupyter-widgets/controls",
      "model_module_version": "1.5.0",
      "model_name": "DescriptionStyleModel",
      "state": {
       "description_width": ""
      }
     },
     "56b8679c1a5340eea5c0bbfd03fb1da3": {
      "model_module": "@jupyter-widgets/controls",
      "model_module_version": "1.5.0",
      "model_name": "ProgressStyleModel",
      "state": {
       "description_width": ""
      }
     },
     "573680d703e24c0e8f3740aaea3f40a7": {
      "model_module": "@jupyter-widgets/controls",
      "model_module_version": "1.5.0",
      "model_name": "HBoxModel",
      "state": {
       "children": [
        "IPY_MODEL_28c57fedd58f4e45b987dc9a72a8aa89",
        "IPY_MODEL_2cb4802aee64464aa897ca9394b154bb",
        "IPY_MODEL_864641489dc14fa0b54b26f2f488ff2d"
       ],
       "layout": "IPY_MODEL_0682041c421a4a7c90e7735bf0d84ea0"
      }
     },
     "577d80e2d1e34c219eb7017288792857": {
      "model_module": "@jupyter-widgets/controls",
      "model_module_version": "1.5.0",
      "model_name": "HTMLModel",
      "state": {
       "layout": "IPY_MODEL_276a87509a1a4afcb8ba68395a1c9a62",
       "style": "IPY_MODEL_59b3e4cf735c4b14be9df0e6d2291e06",
       "value": " 1024/1024 [00:03&lt;00:00, 301.54it/s]"
      }
     },
     "57e80893dc614820bbfe402c7a4c26c7": {
      "model_module": "@jupyter-widgets/controls",
      "model_module_version": "1.5.0",
      "model_name": "ProgressStyleModel",
      "state": {
       "description_width": ""
      }
     },
     "5871455be3c74e8cab3a3fdaa5697cf6": {
      "model_module": "@jupyter-widgets/base",
      "model_module_version": "1.2.0",
      "model_name": "LayoutModel",
      "state": {}
     },
     "5900eb0f07f44222a5ddb9252590e916": {
      "model_module": "@jupyter-widgets/controls",
      "model_module_version": "1.5.0",
      "model_name": "HTMLModel",
      "state": {
       "layout": "IPY_MODEL_939495e040c540b698594b1e68f24b78",
       "style": "IPY_MODEL_aa5af4577025495b980b3956d7d3a94d",
       "value": "100%"
      }
     },
     "5973cb7a227c4d07ad41af78f9ee220d": {
      "model_module": "@jupyter-widgets/base",
      "model_module_version": "1.2.0",
      "model_name": "LayoutModel",
      "state": {}
     },
     "5993c09dbf274d248c973905469adab9": {
      "model_module": "@jupyter-widgets/controls",
      "model_module_version": "1.5.0",
      "model_name": "FloatProgressModel",
      "state": {
       "bar_style": "success",
       "layout": "IPY_MODEL_fa6114449a3740bea17d1dd196c20e90",
       "max": 4096,
       "style": "IPY_MODEL_6b9328aa3db843f188397748e601f57b",
       "value": 4096
      }
     },
     "59b3e4cf735c4b14be9df0e6d2291e06": {
      "model_module": "@jupyter-widgets/controls",
      "model_module_version": "1.5.0",
      "model_name": "DescriptionStyleModel",
      "state": {
       "description_width": ""
      }
     },
     "5a642ba844294adca715cbf84153ba26": {
      "model_module": "@jupyter-widgets/controls",
      "model_module_version": "1.5.0",
      "model_name": "DescriptionStyleModel",
      "state": {
       "description_width": ""
      }
     },
     "5ab106e8805444619e34d4483dc7678d": {
      "model_module": "@jupyter-widgets/controls",
      "model_module_version": "1.5.0",
      "model_name": "HBoxModel",
      "state": {
       "children": [
        "IPY_MODEL_21ccf794a3c443daad9f9fe1db576cef",
        "IPY_MODEL_f7e737fee99446ec850d86ef23adf3ac",
        "IPY_MODEL_2137aad8cabc4130943ec7dc3fb1dd67"
       ],
       "layout": "IPY_MODEL_5973cb7a227c4d07ad41af78f9ee220d"
      }
     },
     "5ad8b5d45d4745d4a4e027cc51f717eb": {
      "model_module": "@jupyter-widgets/base",
      "model_module_version": "1.2.0",
      "model_name": "LayoutModel",
      "state": {}
     },
     "5b596b502656435baa974d3b0b269ff5": {
      "model_module": "@jupyter-widgets/controls",
      "model_module_version": "1.5.0",
      "model_name": "HTMLModel",
      "state": {
       "layout": "IPY_MODEL_e2dcb1253389488bb42c0ed0423b96c5",
       "style": "IPY_MODEL_0212a0a4ac254860998745ba93c39dc4",
       "value": "100%"
      }
     },
     "5b7ee6983b9f43aa923a80fc75fdf9fe": {
      "model_module": "@jupyter-widgets/controls",
      "model_module_version": "1.5.0",
      "model_name": "FloatProgressModel",
      "state": {
       "bar_style": "success",
       "layout": "IPY_MODEL_937b3ad3c96c4e3395f52c4951a0e4fb",
       "max": 20000,
       "style": "IPY_MODEL_af644b24c55b42ae8757c28098147be8",
       "value": 20000
      }
     },
     "5b929e21a06f4e2486c3c2e8b44885eb": {
      "model_module": "@jupyter-widgets/base",
      "model_module_version": "1.2.0",
      "model_name": "LayoutModel",
      "state": {}
     },
     "5c012b17ebad4146aa393e257688f974": {
      "model_module": "@jupyter-widgets/controls",
      "model_module_version": "1.5.0",
      "model_name": "DescriptionStyleModel",
      "state": {
       "description_width": ""
      }
     },
     "5c89f32a62e548f392a979e75052884c": {
      "model_module": "@jupyter-widgets/controls",
      "model_module_version": "1.5.0",
      "model_name": "DescriptionStyleModel",
      "state": {
       "description_width": ""
      }
     },
     "5c9fba57d8404362856f72194374a0af": {
      "model_module": "@jupyter-widgets/controls",
      "model_module_version": "1.5.0",
      "model_name": "DescriptionStyleModel",
      "state": {
       "description_width": ""
      }
     },
     "5d87a1befda244b586103590aa8037e8": {
      "model_module": "@jupyter-widgets/controls",
      "model_module_version": "1.5.0",
      "model_name": "HTMLModel",
      "state": {
       "layout": "IPY_MODEL_b393c58021a64cfaafdb04d947b2015c",
       "style": "IPY_MODEL_5a642ba844294adca715cbf84153ba26",
       "value": " 8192/8192 [00:30&lt;00:00, 235.94it/s]"
      }
     },
     "5df9c5eb6915415fac00a244587c9b50": {
      "model_module": "@jupyter-widgets/base",
      "model_module_version": "1.2.0",
      "model_name": "LayoutModel",
      "state": {}
     },
     "5e218ec4ac454efeb1fd95f67e76e2dd": {
      "model_module": "@jupyter-widgets/controls",
      "model_module_version": "1.5.0",
      "model_name": "FloatProgressModel",
      "state": {
       "bar_style": "success",
       "layout": "IPY_MODEL_980c13f944cf4f83ba6dfd0050ef61bc",
       "max": 4096,
       "style": "IPY_MODEL_32e8d6ccfab74e689c1f9f269d478f7e",
       "value": 4096
      }
     },
     "5e587a72ad5f442994c878be0c3c791c": {
      "model_module": "@jupyter-widgets/base",
      "model_module_version": "1.2.0",
      "model_name": "LayoutModel",
      "state": {}
     },
     "5ef8d2902f4242deb120a40ba669437a": {
      "model_module": "@jupyter-widgets/base",
      "model_module_version": "1.2.0",
      "model_name": "LayoutModel",
      "state": {}
     },
     "5f8b9410da6d41ab9164abba8264b64f": {
      "model_module": "@jupyter-widgets/controls",
      "model_module_version": "1.5.0",
      "model_name": "HTMLModel",
      "state": {
       "layout": "IPY_MODEL_a6c90ff9079647f0b97e818c26b84125",
       "style": "IPY_MODEL_fedbb5761ea044d39bd46f6dc5604d53",
       "value": " 20000/20000 [01:23&lt;00:00, 237.53it/s]"
      }
     },
     "601ed1dbf0dc4171aa52b7c8d2d7d4a8": {
      "model_module": "@jupyter-widgets/controls",
      "model_module_version": "1.5.0",
      "model_name": "HTMLModel",
      "state": {
       "layout": "IPY_MODEL_37734472a39d43f28368cd4ef63b7c2a",
       "style": "IPY_MODEL_ec39b78f11d346e0b33c8b072d7a54eb",
       "value": "100%"
      }
     },
     "602893d74e024ef4a3e8bc2cb399fd58": {
      "model_module": "@jupyter-widgets/controls",
      "model_module_version": "1.5.0",
      "model_name": "FloatProgressModel",
      "state": {
       "bar_style": "success",
       "layout": "IPY_MODEL_18fea7156bb04156a0897e9f81e12def",
       "max": 4096,
       "style": "IPY_MODEL_7221e13facd24a35813e7721d9082712",
       "value": 4096
      }
     },
     "602f75f139554b56adc82200c5c69b5e": {
      "model_module": "@jupyter-widgets/controls",
      "model_module_version": "1.5.0",
      "model_name": "FloatProgressModel",
      "state": {
       "bar_style": "success",
       "layout": "IPY_MODEL_d9ef8ce0cd9b456db21f16948a2cd801",
       "max": 4096,
       "style": "IPY_MODEL_207b891204884838b9da854bf9892d65",
       "value": 4096
      }
     },
     "60ea37db07964770a3ce4129a41444ef": {
      "model_module": "@jupyter-widgets/controls",
      "model_module_version": "1.5.0",
      "model_name": "HTMLModel",
      "state": {
       "layout": "IPY_MODEL_1126f85376294fefaa35e375045cb21a",
       "style": "IPY_MODEL_d4aa135aa4ac45bf8be874457bb654d1",
       "value": " 4096/4096 [00:15&lt;00:00, 267.92it/s]"
      }
     },
     "613dd802a1614cbd89f4ddd180c33b0b": {
      "model_module": "@jupyter-widgets/controls",
      "model_module_version": "1.5.0",
      "model_name": "HTMLModel",
      "state": {
       "layout": "IPY_MODEL_63be176f6f28405bb7800219d08c862d",
       "style": "IPY_MODEL_108efe5aad874b1a85ef0eec281b6ad9",
       "value": "100%"
      }
     },
     "6143d577d7004ceab2361f54d39487c5": {
      "model_module": "@jupyter-widgets/base",
      "model_module_version": "1.2.0",
      "model_name": "LayoutModel",
      "state": {}
     },
     "619cecb9f8ce4639866e704bd51b9967": {
      "model_module": "@jupyter-widgets/base",
      "model_module_version": "1.2.0",
      "model_name": "LayoutModel",
      "state": {}
     },
     "61f3c83552364b3b985f4b23229917a9": {
      "model_module": "@jupyter-widgets/controls",
      "model_module_version": "1.5.0",
      "model_name": "FloatProgressModel",
      "state": {
       "bar_style": "danger",
       "layout": "IPY_MODEL_92ad3dd6aeee40a492ea31ea92b5f5cb",
       "max": 4096,
       "style": "IPY_MODEL_ce54ec8958034a7e9ade2df011fc01c3",
       "value": 426
      }
     },
     "61fce6cccadf415c9dd2d73ae2f2c7cc": {
      "model_module": "@jupyter-widgets/controls",
      "model_module_version": "1.5.0",
      "model_name": "HTMLModel",
      "state": {
       "layout": "IPY_MODEL_e696a78c47494c6986d16ac059ee5e10",
       "style": "IPY_MODEL_e43fb7c3cf634ba0ac9c7647f9f7fba6",
       "value": " 4096/4096 [00:14&lt;00:00, 291.48it/s]"
      }
     },
     "62da476f40d1487ab91c361a92ffb01c": {
      "model_module": "@jupyter-widgets/base",
      "model_module_version": "1.2.0",
      "model_name": "LayoutModel",
      "state": {}
     },
     "63967194c41b41538d75e9b88374f2ee": {
      "model_module": "@jupyter-widgets/controls",
      "model_module_version": "1.5.0",
      "model_name": "HTMLModel",
      "state": {
       "layout": "IPY_MODEL_d8fe078e9e6c4282a91ddec086b3bf8b",
       "style": "IPY_MODEL_30f1ac5b84cb49cd8a2993ff218c332e",
       "value": " 252/4096 [00:00&lt;00:13, 284.12it/s]"
      }
     },
     "63a8d0045a6c40b7b70355c7432dc9f7": {
      "model_module": "@jupyter-widgets/base",
      "model_module_version": "1.2.0",
      "model_name": "LayoutModel",
      "state": {}
     },
     "63b3bd9d9e50463493a4b9b6f3a0eea0": {
      "model_module": "@jupyter-widgets/base",
      "model_module_version": "1.2.0",
      "model_name": "LayoutModel",
      "state": {}
     },
     "63be176f6f28405bb7800219d08c862d": {
      "model_module": "@jupyter-widgets/base",
      "model_module_version": "1.2.0",
      "model_name": "LayoutModel",
      "state": {}
     },
     "64194c06b5e1439aaf4c45cb811cd38e": {
      "model_module": "@jupyter-widgets/controls",
      "model_module_version": "1.5.0",
      "model_name": "DescriptionStyleModel",
      "state": {
       "description_width": ""
      }
     },
     "6468432efa2047a8863bb119e3f4e4a1": {
      "model_module": "@jupyter-widgets/controls",
      "model_module_version": "1.5.0",
      "model_name": "DescriptionStyleModel",
      "state": {
       "description_width": ""
      }
     },
     "64df501f74094ad3accf8f7a25965bfb": {
      "model_module": "@jupyter-widgets/base",
      "model_module_version": "1.2.0",
      "model_name": "LayoutModel",
      "state": {}
     },
     "64faa9aec1c14f51b55d4b726fbc2fc5": {
      "model_module": "@jupyter-widgets/controls",
      "model_module_version": "1.5.0",
      "model_name": "FloatProgressModel",
      "state": {
       "bar_style": "success",
       "layout": "IPY_MODEL_540db4a363cd4c5fa976e418553ecc64",
       "max": 4096,
       "style": "IPY_MODEL_b8ff9a8e33e44df199e695454af1908c",
       "value": 4096
      }
     },
     "656b734c291244b09f2e7e06798b03fc": {
      "model_module": "@jupyter-widgets/base",
      "model_module_version": "1.2.0",
      "model_name": "LayoutModel",
      "state": {}
     },
     "65fbef86008a468a850b52552be2e23d": {
      "model_module": "@jupyter-widgets/base",
      "model_module_version": "1.2.0",
      "model_name": "LayoutModel",
      "state": {}
     },
     "6611cc342ed24a4fa31e9e201d1fe94b": {
      "model_module": "@jupyter-widgets/base",
      "model_module_version": "1.2.0",
      "model_name": "LayoutModel",
      "state": {}
     },
     "664a20995e0f48568ee7e6ac41d51186": {
      "model_module": "@jupyter-widgets/controls",
      "model_module_version": "1.5.0",
      "model_name": "ProgressStyleModel",
      "state": {
       "description_width": ""
      }
     },
     "668a2393e0494bb28db9ea03403cdd0b": {
      "model_module": "@jupyter-widgets/controls",
      "model_module_version": "1.5.0",
      "model_name": "DescriptionStyleModel",
      "state": {
       "description_width": ""
      }
     },
     "676abf0d223347d8910907dc0746005b": {
      "model_module": "@jupyter-widgets/controls",
      "model_module_version": "1.5.0",
      "model_name": "DescriptionStyleModel",
      "state": {
       "description_width": ""
      }
     },
     "686c543b4426495b9cc6780c5cbbc855": {
      "model_module": "@jupyter-widgets/controls",
      "model_module_version": "1.5.0",
      "model_name": "FloatProgressModel",
      "state": {
       "bar_style": "danger",
       "layout": "IPY_MODEL_3b680dfcefd9480eb449dbf8a4d4dd18",
       "max": 4096,
       "style": "IPY_MODEL_d1923d13e7514ce79508fb03621ddd15"
      }
     },
     "688fab39fdba447b880cbac6587aae3f": {
      "model_module": "@jupyter-widgets/controls",
      "model_module_version": "1.5.0",
      "model_name": "FloatProgressModel",
      "state": {
       "bar_style": "success",
       "layout": "IPY_MODEL_f8baa1a377804364bec1dade287c6f56",
       "max": 4096,
       "style": "IPY_MODEL_6b02621871ad404f8935ab5feef73dfa",
       "value": 4096
      }
     },
     "69788eec75234aa5b475f92e117d6984": {
      "model_module": "@jupyter-widgets/controls",
      "model_module_version": "1.5.0",
      "model_name": "HTMLModel",
      "state": {
       "layout": "IPY_MODEL_62da476f40d1487ab91c361a92ffb01c",
       "style": "IPY_MODEL_ea9fdd3d4d504d0981ee0d87f619a577",
       "value": " 4096/4096 [00:14&lt;00:00, 292.93it/s]"
      }
     },
     "69ddc38e21a04da98312f0a32e1d1820": {
      "model_module": "@jupyter-widgets/controls",
      "model_module_version": "1.5.0",
      "model_name": "DescriptionStyleModel",
      "state": {
       "description_width": ""
      }
     },
     "6a3809938f8341eaabe1b856370ebd76": {
      "model_module": "@jupyter-widgets/controls",
      "model_module_version": "1.5.0",
      "model_name": "HBoxModel",
      "state": {
       "children": [
        "IPY_MODEL_81ff557cbb5a44da8f97263eb8763cba",
        "IPY_MODEL_399c1cb7b5834aa1a539d50591a0fb9c",
        "IPY_MODEL_01b82a59188a49abad4874ff1ea06eb2"
       ],
       "layout": "IPY_MODEL_44f934ad7a5b4c3aaee824ac2b152a68"
      }
     },
     "6a6581e90144423a825f30e92210334f": {
      "model_module": "@jupyter-widgets/controls",
      "model_module_version": "1.5.0",
      "model_name": "DescriptionStyleModel",
      "state": {
       "description_width": ""
      }
     },
     "6b02621871ad404f8935ab5feef73dfa": {
      "model_module": "@jupyter-widgets/controls",
      "model_module_version": "1.5.0",
      "model_name": "ProgressStyleModel",
      "state": {
       "description_width": ""
      }
     },
     "6b9328aa3db843f188397748e601f57b": {
      "model_module": "@jupyter-widgets/controls",
      "model_module_version": "1.5.0",
      "model_name": "ProgressStyleModel",
      "state": {
       "description_width": ""
      }
     },
     "6bb09463d54b4b1099a62b5a5f07c926": {
      "model_module": "@jupyter-widgets/controls",
      "model_module_version": "1.5.0",
      "model_name": "ProgressStyleModel",
      "state": {
       "description_width": ""
      }
     },
     "6bc70ba5582a4e98ac5420bdc2905b44": {
      "model_module": "@jupyter-widgets/base",
      "model_module_version": "1.2.0",
      "model_name": "LayoutModel",
      "state": {}
     },
     "6cde725aca8842c18434ce18495af772": {
      "model_module": "@jupyter-widgets/controls",
      "model_module_version": "1.5.0",
      "model_name": "ProgressStyleModel",
      "state": {
       "description_width": ""
      }
     },
     "6d074465ceaf4c31b2651cebc9f7f0d3": {
      "model_module": "@jupyter-widgets/controls",
      "model_module_version": "1.5.0",
      "model_name": "FloatProgressModel",
      "state": {
       "bar_style": "success",
       "layout": "IPY_MODEL_c600a66fd58e40e6b0a119021d678ee9",
       "max": 4096,
       "style": "IPY_MODEL_a4faf92d11a34ce6a51319ebddbdcb61",
       "value": 4096
      }
     },
     "6da21bd845484bad9610cad98875c86c": {
      "model_module": "@jupyter-widgets/base",
      "model_module_version": "1.2.0",
      "model_name": "LayoutModel",
      "state": {}
     },
     "6da6559c70f24e91896516cdd0ac34d3": {
      "model_module": "@jupyter-widgets/base",
      "model_module_version": "1.2.0",
      "model_name": "LayoutModel",
      "state": {}
     },
     "6db176b88c124a8e8d4c2232ebc221cb": {
      "model_module": "@jupyter-widgets/controls",
      "model_module_version": "1.5.0",
      "model_name": "DescriptionStyleModel",
      "state": {
       "description_width": ""
      }
     },
     "6df56e1d577040bb880a5c9af1c45d6b": {
      "model_module": "@jupyter-widgets/controls",
      "model_module_version": "1.5.0",
      "model_name": "FloatProgressModel",
      "state": {
       "bar_style": "success",
       "layout": "IPY_MODEL_a67cd61dd733411e8e81b8ea32bdabbf",
       "max": 4096,
       "style": "IPY_MODEL_e2225609d4bf4862b277866bac583e01",
       "value": 4096
      }
     },
     "6f5044cd580a43a99fabac9bd2b2f657": {
      "model_module": "@jupyter-widgets/controls",
      "model_module_version": "1.5.0",
      "model_name": "HBoxModel",
      "state": {
       "children": [
        "IPY_MODEL_c655a5e15c9b420ab541ae07ac960b6a",
        "IPY_MODEL_9a2db57cb75648ecb36c08f5240cf077",
        "IPY_MODEL_af4414bf33064ad9a0964fdf43610767"
       ],
       "layout": "IPY_MODEL_7dd0405e345b42c7a3c098475ea75437"
      }
     },
     "6f5a484c81254f798f7662a1935d9729": {
      "model_module": "@jupyter-widgets/controls",
      "model_module_version": "1.5.0",
      "model_name": "HTMLModel",
      "state": {
       "layout": "IPY_MODEL_1a68bbd99ffe401580a02cc52774272a",
       "style": "IPY_MODEL_82de8d698fff49e3a6765d1423b3c469",
       "value": "100%"
      }
     },
     "6f73fa5c70b94c58bec005b6e1812909": {
      "model_module": "@jupyter-widgets/base",
      "model_module_version": "1.2.0",
      "model_name": "LayoutModel",
      "state": {}
     },
     "6f7a00f9172e4a87a7451feec3eb6457": {
      "model_module": "@jupyter-widgets/base",
      "model_module_version": "1.2.0",
      "model_name": "LayoutModel",
      "state": {}
     },
     "6fef764f82294008adf1feb0e391b28c": {
      "model_module": "@jupyter-widgets/controls",
      "model_module_version": "1.5.0",
      "model_name": "ProgressStyleModel",
      "state": {
       "description_width": ""
      }
     },
     "7093ea4cf93f43bca8a6d9ceda6174d6": {
      "model_module": "@jupyter-widgets/base",
      "model_module_version": "1.2.0",
      "model_name": "LayoutModel",
      "state": {}
     },
     "71fc64fe5c5a49cebdb99012cb30d180": {
      "model_module": "@jupyter-widgets/controls",
      "model_module_version": "1.5.0",
      "model_name": "HBoxModel",
      "state": {
       "children": [
        "IPY_MODEL_482dbb8ea0d14b14b2d410b8da89e4a5",
        "IPY_MODEL_6d074465ceaf4c31b2651cebc9f7f0d3",
        "IPY_MODEL_4cd6c6e81c1747379a9de1b22ac95488"
       ],
       "layout": "IPY_MODEL_47baf49955c8407597b15a9267492b8d"
      }
     },
     "7221e13facd24a35813e7721d9082712": {
      "model_module": "@jupyter-widgets/controls",
      "model_module_version": "1.5.0",
      "model_name": "ProgressStyleModel",
      "state": {
       "description_width": ""
      }
     },
     "74aea0748a0944e38097f2afaab9298b": {
      "model_module": "@jupyter-widgets/base",
      "model_module_version": "1.2.0",
      "model_name": "LayoutModel",
      "state": {}
     },
     "75e73d2e7df24a5c839d61f534aa349d": {
      "model_module": "@jupyter-widgets/controls",
      "model_module_version": "1.5.0",
      "model_name": "FloatProgressModel",
      "state": {
       "bar_style": "success",
       "layout": "IPY_MODEL_d127973666dc4699aa9332840572f158",
       "max": 4096,
       "style": "IPY_MODEL_6cde725aca8842c18434ce18495af772",
       "value": 4096
      }
     },
     "76051341f2e44ec4aadabef4775c24b8": {
      "model_module": "@jupyter-widgets/controls",
      "model_module_version": "1.5.0",
      "model_name": "DescriptionStyleModel",
      "state": {
       "description_width": ""
      }
     },
     "7685b036020542a09bef8e814c91d04b": {
      "model_module": "@jupyter-widgets/base",
      "model_module_version": "1.2.0",
      "model_name": "LayoutModel",
      "state": {}
     },
     "7712cc208c93426b90c4f7f3bf8e1981": {
      "model_module": "@jupyter-widgets/base",
      "model_module_version": "1.2.0",
      "model_name": "LayoutModel",
      "state": {}
     },
     "771e748ec150426a8344aa487184b9de": {
      "model_module": "@jupyter-widgets/controls",
      "model_module_version": "1.5.0",
      "model_name": "DescriptionStyleModel",
      "state": {
       "description_width": ""
      }
     },
     "7748e781829144fa9064930785fe2e83": {
      "model_module": "@jupyter-widgets/base",
      "model_module_version": "1.2.0",
      "model_name": "LayoutModel",
      "state": {}
     },
     "77e0fd21e7544145b1b3db25737cae33": {
      "model_module": "@jupyter-widgets/controls",
      "model_module_version": "1.5.0",
      "model_name": "HTMLModel",
      "state": {
       "layout": "IPY_MODEL_fa78c73246384cb79cf65c8eaad434e9",
       "style": "IPY_MODEL_e2cf35d70b434894aceb34245adfb9f8",
       "value": "  0%"
      }
     },
     "77e9019ea67a4193a681709620614ee5": {
      "model_module": "@jupyter-widgets/controls",
      "model_module_version": "1.5.0",
      "model_name": "ProgressStyleModel",
      "state": {
       "description_width": ""
      }
     },
     "78cf2ace4c5944e784b853a2b88b08af": {
      "model_module": "@jupyter-widgets/controls",
      "model_module_version": "1.5.0",
      "model_name": "HBoxModel",
      "state": {
       "children": [
        "IPY_MODEL_cb01745bfbad4bb8a769211cd0e1f238",
        "IPY_MODEL_f196078fb52c491bac18a8254d412c58",
        "IPY_MODEL_b5f740ed72c54f0bbf0c02ca5a1a2ee6"
       ],
       "layout": "IPY_MODEL_40ac65ffd08f431baafbb3d80d1fe7ab"
      }
     },
     "78e2596db79b4c0d8705db75390979bf": {
      "model_module": "@jupyter-widgets/base",
      "model_module_version": "1.2.0",
      "model_name": "LayoutModel",
      "state": {}
     },
     "7944b339d39e4021a09e5600c53080ef": {
      "model_module": "@jupyter-widgets/controls",
      "model_module_version": "1.5.0",
      "model_name": "HBoxModel",
      "state": {
       "children": [
        "IPY_MODEL_8817806234f540c98c5b1d158f619cb6",
        "IPY_MODEL_9c602c64ba4c4599a3ff429534399dac",
        "IPY_MODEL_2be29b60d76f4dbc906a66ebce44d453"
       ],
       "layout": "IPY_MODEL_ad65c7581bb24300a047b5e3a4d37482"
      }
     },
     "7967e2fa77c7441cb6db64854988d179": {
      "model_module": "@jupyter-widgets/controls",
      "model_module_version": "1.5.0",
      "model_name": "HTMLModel",
      "state": {
       "layout": "IPY_MODEL_dc845478b46440dd96282474d7e506b5",
       "style": "IPY_MODEL_a1259117343147ed806a9e155aa130eb",
       "value": "100%"
      }
     },
     "798f58cdcadb4b5d8b821096edb7ffb7": {
      "model_module": "@jupyter-widgets/controls",
      "model_module_version": "1.5.0",
      "model_name": "HTMLModel",
      "state": {
       "layout": "IPY_MODEL_b915905a9d8648a595094d9b01532bbc",
       "style": "IPY_MODEL_5c012b17ebad4146aa393e257688f974",
       "value": "100%"
      }
     },
     "7a146727a5684af6a99762206216742f": {
      "model_module": "@jupyter-widgets/controls",
      "model_module_version": "1.5.0",
      "model_name": "ProgressStyleModel",
      "state": {
       "description_width": ""
      }
     },
     "7abe3ad531b34cef977583d8883582d5": {
      "model_module": "@jupyter-widgets/base",
      "model_module_version": "1.2.0",
      "model_name": "LayoutModel",
      "state": {}
     },
     "7acfc413266d444ba2ac6cef87b91143": {
      "model_module": "@jupyter-widgets/base",
      "model_module_version": "1.2.0",
      "model_name": "LayoutModel",
      "state": {}
     },
     "7b22a06eb7ca46b79c980ce7b9cfdd1c": {
      "model_module": "@jupyter-widgets/controls",
      "model_module_version": "1.5.0",
      "model_name": "HBoxModel",
      "state": {
       "children": [
        "IPY_MODEL_1099e1ffba444d8399e7e336927ad7ea",
        "IPY_MODEL_8f3ec8f1622043efa1e5c1c19f281b07",
        "IPY_MODEL_44b43b63132c47a08b21b5cb0a8aa53d"
       ],
       "layout": "IPY_MODEL_c434d62077c14d028f16a1ed66abc055"
      }
     },
     "7b23aca0abc145889eb1eafdfc66c5c0": {
      "model_module": "@jupyter-widgets/base",
      "model_module_version": "1.2.0",
      "model_name": "LayoutModel",
      "state": {}
     },
     "7b44f4bdbcac49e8baac4fc2b3774ce3": {
      "model_module": "@jupyter-widgets/base",
      "model_module_version": "1.2.0",
      "model_name": "LayoutModel",
      "state": {}
     },
     "7b55294134544af79b5d792bede03f36": {
      "model_module": "@jupyter-widgets/controls",
      "model_module_version": "1.5.0",
      "model_name": "DescriptionStyleModel",
      "state": {
       "description_width": ""
      }
     },
     "7bc376c634ce45f4ba1829b4bcd73738": {
      "model_module": "@jupyter-widgets/base",
      "model_module_version": "1.2.0",
      "model_name": "LayoutModel",
      "state": {}
     },
     "7c44e364a1504c4da4c8597aa74ba9de": {
      "model_module": "@jupyter-widgets/controls",
      "model_module_version": "1.5.0",
      "model_name": "HTMLModel",
      "state": {
       "layout": "IPY_MODEL_0742ed1ca37642f3b79f92a23d3f1e08",
       "style": "IPY_MODEL_87e6ee50a5824930a2e0a0849af236f1",
       "value": " 4096/4096 [00:16&lt;00:00, 240.48it/s]"
      }
     },
     "7ca81a692b1647cb8c134986662401c1": {
      "model_module": "@jupyter-widgets/base",
      "model_module_version": "1.2.0",
      "model_name": "LayoutModel",
      "state": {}
     },
     "7cce0bca34aa4e53b832e3dc509dc983": {
      "model_module": "@jupyter-widgets/controls",
      "model_module_version": "1.5.0",
      "model_name": "HTMLModel",
      "state": {
       "layout": "IPY_MODEL_ec476953e18049d9bc09b6d2dd6ca4a7",
       "style": "IPY_MODEL_ec95472d2b8c4d029cbb0a1b79fdd997",
       "value": "100%"
      }
     },
     "7d6dfaf590f54c309f68bcdfc5910657": {
      "model_module": "@jupyter-widgets/controls",
      "model_module_version": "1.5.0",
      "model_name": "HBoxModel",
      "state": {
       "children": [
        "IPY_MODEL_2e6c0185a0a544199b897464c80dd84a",
        "IPY_MODEL_6df56e1d577040bb880a5c9af1c45d6b",
        "IPY_MODEL_8593fe3b9e9c4c93aeb4f78fa9df706b"
       ],
       "layout": "IPY_MODEL_81e59fbc3d294b938f6a34143967c509"
      }
     },
     "7dcf8e0ed4ed48deb54ae69593593473": {
      "model_module": "@jupyter-widgets/controls",
      "model_module_version": "1.5.0",
      "model_name": "DescriptionStyleModel",
      "state": {
       "description_width": ""
      }
     },
     "7dcfd73a46d84176896a3280d87edd29": {
      "model_module": "@jupyter-widgets/controls",
      "model_module_version": "1.5.0",
      "model_name": "HBoxModel",
      "state": {
       "children": [
        "IPY_MODEL_479fbebebc4e4a93b57611882e80f35c",
        "IPY_MODEL_bf21dab71be24c23980e7edd19f00023",
        "IPY_MODEL_a18dd65ed72f441fa839f65a517db5c5"
       ],
       "layout": "IPY_MODEL_4730b56bd531483cb7ad1bc44288e3fc"
      }
     },
     "7dd0405e345b42c7a3c098475ea75437": {
      "model_module": "@jupyter-widgets/base",
      "model_module_version": "1.2.0",
      "model_name": "LayoutModel",
      "state": {}
     },
     "7f64fd48ebe540a3bdace1ee2538aa60": {
      "model_module": "@jupyter-widgets/controls",
      "model_module_version": "1.5.0",
      "model_name": "HBoxModel",
      "state": {
       "children": [
        "IPY_MODEL_798f58cdcadb4b5d8b821096edb7ffb7",
        "IPY_MODEL_a4f2f4fbc41a402db17dea2649dd23e6",
        "IPY_MODEL_f4e9014283264529836826162382b1e4"
       ],
       "layout": "IPY_MODEL_906c2a525d9540e798f4b83db3fd0adb"
      }
     },
     "801493b733e34566b31be6b49c96ffe8": {
      "model_module": "@jupyter-widgets/controls",
      "model_module_version": "1.5.0",
      "model_name": "DescriptionStyleModel",
      "state": {
       "description_width": ""
      }
     },
     "80e73f430c994d00a50f6c7f1c868c4e": {
      "model_module": "@jupyter-widgets/controls",
      "model_module_version": "1.5.0",
      "model_name": "DescriptionStyleModel",
      "state": {
       "description_width": ""
      }
     },
     "8128d4e8c70c4f60a1749fabdcdd2d69": {
      "model_module": "@jupyter-widgets/base",
      "model_module_version": "1.2.0",
      "model_name": "LayoutModel",
      "state": {}
     },
     "812a5c0f18e749da97dca4ab6b3386be": {
      "model_module": "@jupyter-widgets/controls",
      "model_module_version": "1.5.0",
      "model_name": "FloatProgressModel",
      "state": {
       "bar_style": "success",
       "layout": "IPY_MODEL_317d8842269c40bb9dbeed5996d438ef",
       "max": 4096,
       "style": "IPY_MODEL_8873173be8204cbf921fe49e27c52197",
       "value": 4096
      }
     },
     "81e59fbc3d294b938f6a34143967c509": {
      "model_module": "@jupyter-widgets/base",
      "model_module_version": "1.2.0",
      "model_name": "LayoutModel",
      "state": {}
     },
     "81ff557cbb5a44da8f97263eb8763cba": {
      "model_module": "@jupyter-widgets/controls",
      "model_module_version": "1.5.0",
      "model_name": "HTMLModel",
      "state": {
       "layout": "IPY_MODEL_af41ad39cafa421a86277f02b3ba6020",
       "style": "IPY_MODEL_35876e78ad4745d886eecc6d6a722156",
       "value": "100%"
      }
     },
     "8252e48eada64331a69ce4cf2167dc38": {
      "model_module": "@jupyter-widgets/controls",
      "model_module_version": "1.5.0",
      "model_name": "DescriptionStyleModel",
      "state": {
       "description_width": ""
      }
     },
     "82c932adf27d458c8f106a2787f085df": {
      "model_module": "@jupyter-widgets/base",
      "model_module_version": "1.2.0",
      "model_name": "LayoutModel",
      "state": {}
     },
     "82cc604a795c4148b89b6d64a8bf031f": {
      "model_module": "@jupyter-widgets/controls",
      "model_module_version": "1.5.0",
      "model_name": "HTMLModel",
      "state": {
       "layout": "IPY_MODEL_241a4acdb8d648f5b13d23d63a3a4ccc",
       "style": "IPY_MODEL_7dcf8e0ed4ed48deb54ae69593593473",
       "value": "100%"
      }
     },
     "82de8d698fff49e3a6765d1423b3c469": {
      "model_module": "@jupyter-widgets/controls",
      "model_module_version": "1.5.0",
      "model_name": "DescriptionStyleModel",
      "state": {
       "description_width": ""
      }
     },
     "82f332b3e7ab41558225bec907b4a511": {
      "model_module": "@jupyter-widgets/controls",
      "model_module_version": "1.5.0",
      "model_name": "HTMLModel",
      "state": {
       "layout": "IPY_MODEL_8474927dbaed4f41b59c470b172b9811",
       "style": "IPY_MODEL_8ac9e64643cf414498c5223f86993afc",
       "value": " 1024/1024 [00:03&lt;00:00, 293.02it/s]"
      }
     },
     "831dcb254e5b4ec9bf3a45c178239cf5": {
      "model_module": "@jupyter-widgets/base",
      "model_module_version": "1.2.0",
      "model_name": "LayoutModel",
      "state": {}
     },
     "837691d286d6475c9d162ad9210bc832": {
      "model_module": "@jupyter-widgets/controls",
      "model_module_version": "1.5.0",
      "model_name": "ProgressStyleModel",
      "state": {
       "description_width": ""
      }
     },
     "837ee2d48f254f4cb24c688d522cdb04": {
      "model_module": "@jupyter-widgets/base",
      "model_module_version": "1.2.0",
      "model_name": "LayoutModel",
      "state": {}
     },
     "83aca617ddad46c1a4fd510a33a99347": {
      "model_module": "@jupyter-widgets/controls",
      "model_module_version": "1.5.0",
      "model_name": "HBoxModel",
      "state": {
       "children": [
        "IPY_MODEL_d07d1d6943f64364ba827ac023df88d3",
        "IPY_MODEL_22a9faf4e0a149509e0e443b0fd66df2",
        "IPY_MODEL_509bc9f846134e6e95abf8a3a7f21d85"
       ],
       "layout": "IPY_MODEL_f24e126fffa345c7b19e748378b7e29a"
      }
     },
     "83fd233ce83c4542a5da65efd3696417": {
      "model_module": "@jupyter-widgets/controls",
      "model_module_version": "1.5.0",
      "model_name": "ProgressStyleModel",
      "state": {
       "description_width": ""
      }
     },
     "84325228269a4ebaae507ad45d8def66": {
      "model_module": "@jupyter-widgets/base",
      "model_module_version": "1.2.0",
      "model_name": "LayoutModel",
      "state": {}
     },
     "8474927dbaed4f41b59c470b172b9811": {
      "model_module": "@jupyter-widgets/base",
      "model_module_version": "1.2.0",
      "model_name": "LayoutModel",
      "state": {}
     },
     "84ce804e57a947cc83a4ff012cbf09e7": {
      "model_module": "@jupyter-widgets/base",
      "model_module_version": "1.2.0",
      "model_name": "LayoutModel",
      "state": {}
     },
     "85206c6a95ab4926843c2562891984ab": {
      "model_module": "@jupyter-widgets/base",
      "model_module_version": "1.2.0",
      "model_name": "LayoutModel",
      "state": {}
     },
     "8593fe3b9e9c4c93aeb4f78fa9df706b": {
      "model_module": "@jupyter-widgets/controls",
      "model_module_version": "1.5.0",
      "model_name": "HTMLModel",
      "state": {
       "layout": "IPY_MODEL_d6f8054b0ef24b6f8c1dd3ff7d56a7d6",
       "style": "IPY_MODEL_771e748ec150426a8344aa487184b9de",
       "value": " 4096/4096 [00:14&lt;00:00, 254.01it/s]"
      }
     },
     "85c456749b8044058452293b09ab9baf": {
      "model_module": "@jupyter-widgets/controls",
      "model_module_version": "1.5.0",
      "model_name": "DescriptionStyleModel",
      "state": {
       "description_width": ""
      }
     },
     "864641489dc14fa0b54b26f2f488ff2d": {
      "model_module": "@jupyter-widgets/controls",
      "model_module_version": "1.5.0",
      "model_name": "HTMLModel",
      "state": {
       "layout": "IPY_MODEL_ae92d12c6ddc4280bcf831807af8daa9",
       "style": "IPY_MODEL_8f423eff987748b3a4d280d3edfc4f73",
       "value": " 4096/4096 [00:14&lt;00:00, 283.87it/s]"
      }
     },
     "86ba7ed669d044bba74565bb05fe8d1a": {
      "model_module": "@jupyter-widgets/base",
      "model_module_version": "1.2.0",
      "model_name": "LayoutModel",
      "state": {}
     },
     "86c49809e23440f6a0e145c6517e6577": {
      "model_module": "@jupyter-widgets/controls",
      "model_module_version": "1.5.0",
      "model_name": "DescriptionStyleModel",
      "state": {
       "description_width": ""
      }
     },
     "8721340b1b354dfd84a58af5ce87bae2": {
      "model_module": "@jupyter-widgets/controls",
      "model_module_version": "1.5.0",
      "model_name": "ProgressStyleModel",
      "state": {
       "description_width": ""
      }
     },
     "87753e02789e4ddc84d8915049f2cba9": {
      "model_module": "@jupyter-widgets/controls",
      "model_module_version": "1.5.0",
      "model_name": "DescriptionStyleModel",
      "state": {
       "description_width": ""
      }
     },
     "879a3b0ebd6c4fa2adf0c229a143e956": {
      "model_module": "@jupyter-widgets/base",
      "model_module_version": "1.2.0",
      "model_name": "LayoutModel",
      "state": {}
     },
     "87b88ce2b7a94758837e4d45417e9649": {
      "model_module": "@jupyter-widgets/controls",
      "model_module_version": "1.5.0",
      "model_name": "HTMLModel",
      "state": {
       "layout": "IPY_MODEL_d33f846243754f44a86ae9dd0f43ca43",
       "style": "IPY_MODEL_87753e02789e4ddc84d8915049f2cba9",
       "value": "100%"
      }
     },
     "87e6ee50a5824930a2e0a0849af236f1": {
      "model_module": "@jupyter-widgets/controls",
      "model_module_version": "1.5.0",
      "model_name": "DescriptionStyleModel",
      "state": {
       "description_width": ""
      }
     },
     "880ae500c4044443a13ce4511ccfef3b": {
      "model_module": "@jupyter-widgets/controls",
      "model_module_version": "1.5.0",
      "model_name": "DescriptionStyleModel",
      "state": {
       "description_width": ""
      }
     },
     "8817806234f540c98c5b1d158f619cb6": {
      "model_module": "@jupyter-widgets/controls",
      "model_module_version": "1.5.0",
      "model_name": "HTMLModel",
      "state": {
       "layout": "IPY_MODEL_b70d4bda5bda4aff8eb4e4b5a3294ea5",
       "style": "IPY_MODEL_e0d659b0cdc745039f34dd9329dc2cc6",
       "value": " 67%"
      }
     },
     "8835a98153dc4da2b8a25636fa01a433": {
      "model_module": "@jupyter-widgets/base",
      "model_module_version": "1.2.0",
      "model_name": "LayoutModel",
      "state": {}
     },
     "8853148d8deb4ab5bdc8818a3a546067": {
      "model_module": "@jupyter-widgets/controls",
      "model_module_version": "1.5.0",
      "model_name": "DescriptionStyleModel",
      "state": {
       "description_width": ""
      }
     },
     "886de710f51a428090e0995a654c3b95": {
      "model_module": "@jupyter-widgets/controls",
      "model_module_version": "1.5.0",
      "model_name": "FloatProgressModel",
      "state": {
       "bar_style": "success",
       "layout": "IPY_MODEL_3ae141f176204b028853ce5da5ffc7cb",
       "max": 4096,
       "style": "IPY_MODEL_ae24c0645cbd49b99ac09d8adf1986ca",
       "value": 4096
      }
     },
     "8873173be8204cbf921fe49e27c52197": {
      "model_module": "@jupyter-widgets/controls",
      "model_module_version": "1.5.0",
      "model_name": "ProgressStyleModel",
      "state": {
       "description_width": ""
      }
     },
     "891efaa7b26c40c3af0ff440b2abdd8c": {
      "model_module": "@jupyter-widgets/controls",
      "model_module_version": "1.5.0",
      "model_name": "HTMLModel",
      "state": {
       "layout": "IPY_MODEL_93d59c71400a402dbaa9cea2d4a7faaf",
       "style": "IPY_MODEL_062fb5467c9b467aab610946dddbd415",
       "value": "100%"
      }
     },
     "8974389ca1f642a291b00ab57a909662": {
      "model_module": "@jupyter-widgets/base",
      "model_module_version": "1.2.0",
      "model_name": "LayoutModel",
      "state": {}
     },
     "89ecc3262e804400b8a15293d141befe": {
      "model_module": "@jupyter-widgets/base",
      "model_module_version": "1.2.0",
      "model_name": "LayoutModel",
      "state": {}
     },
     "8a006c3c20dc45a6b97ec6864c6e0ea4": {
      "model_module": "@jupyter-widgets/controls",
      "model_module_version": "1.5.0",
      "model_name": "FloatProgressModel",
      "state": {
       "bar_style": "success",
       "layout": "IPY_MODEL_7abe3ad531b34cef977583d8883582d5",
       "max": 2048,
       "style": "IPY_MODEL_459dc4b82bd7450e8b790146d91e3df6",
       "value": 2048
      }
     },
     "8ac9e64643cf414498c5223f86993afc": {
      "model_module": "@jupyter-widgets/controls",
      "model_module_version": "1.5.0",
      "model_name": "DescriptionStyleModel",
      "state": {
       "description_width": ""
      }
     },
     "8b06c91b4f364e089e71cffb01ab260d": {
      "model_module": "@jupyter-widgets/controls",
      "model_module_version": "1.5.0",
      "model_name": "DescriptionStyleModel",
      "state": {
       "description_width": ""
      }
     },
     "8b317c63f8c5416f94bc77c79f5e669f": {
      "model_module": "@jupyter-widgets/controls",
      "model_module_version": "1.5.0",
      "model_name": "ProgressStyleModel",
      "state": {
       "description_width": ""
      }
     },
     "8b486edfa47a4ae5883fdf435c99ba10": {
      "model_module": "@jupyter-widgets/controls",
      "model_module_version": "1.5.0",
      "model_name": "FloatProgressModel",
      "state": {
       "bar_style": "success",
       "layout": "IPY_MODEL_438a73e86d73446f98bc14b95b5b3073",
       "max": 4096,
       "style": "IPY_MODEL_83fd233ce83c4542a5da65efd3696417",
       "value": 4096
      }
     },
     "8b58e8ea7a3348a392c6f803f22ca1ff": {
      "model_module": "@jupyter-widgets/base",
      "model_module_version": "1.2.0",
      "model_name": "LayoutModel",
      "state": {}
     },
     "8b982b291a0c4787b7523db7fbcae8a2": {
      "model_module": "@jupyter-widgets/base",
      "model_module_version": "1.2.0",
      "model_name": "LayoutModel",
      "state": {}
     },
     "8c1fec71592e407bb164b82d45d18ec3": {
      "model_module": "@jupyter-widgets/controls",
      "model_module_version": "1.5.0",
      "model_name": "DescriptionStyleModel",
      "state": {
       "description_width": ""
      }
     },
     "8c243e778f8d4f9dbb8a7679380fc027": {
      "model_module": "@jupyter-widgets/base",
      "model_module_version": "1.2.0",
      "model_name": "LayoutModel",
      "state": {}
     },
     "8c72ab94a8064ee7a9910337f047a30d": {
      "model_module": "@jupyter-widgets/controls",
      "model_module_version": "1.5.0",
      "model_name": "DescriptionStyleModel",
      "state": {
       "description_width": ""
      }
     },
     "8ca146eec2494e84a8f47abb0beab245": {
      "model_module": "@jupyter-widgets/controls",
      "model_module_version": "1.5.0",
      "model_name": "HTMLModel",
      "state": {
       "layout": "IPY_MODEL_8128d4e8c70c4f60a1749fabdcdd2d69",
       "style": "IPY_MODEL_c3716960ea4942dca2e12d286a5f5b77",
       "value": "100%"
      }
     },
     "8cb51e53dbf5473bb111a40362947848": {
      "model_module": "@jupyter-widgets/base",
      "model_module_version": "1.2.0",
      "model_name": "LayoutModel",
      "state": {}
     },
     "8cd83fe349a34f1389e243115a3ad086": {
      "model_module": "@jupyter-widgets/controls",
      "model_module_version": "1.5.0",
      "model_name": "DescriptionStyleModel",
      "state": {
       "description_width": ""
      }
     },
     "8d16c552808c4cfaa7c086fb86c11e86": {
      "model_module": "@jupyter-widgets/controls",
      "model_module_version": "1.5.0",
      "model_name": "HBoxModel",
      "state": {
       "children": [
        "IPY_MODEL_a8803b6e81e24806837386c6c1ab4ce2",
        "IPY_MODEL_ede4ba0801144b4f87fd3d4a5aaae3b8",
        "IPY_MODEL_af9a5cfe89244024af062caf9df02361"
       ],
       "layout": "IPY_MODEL_74aea0748a0944e38097f2afaab9298b"
      }
     },
     "8d2900446b7d4eb99ebf9b01516a0127": {
      "model_module": "@jupyter-widgets/base",
      "model_module_version": "1.2.0",
      "model_name": "LayoutModel",
      "state": {}
     },
     "8d8bbb87b0334f33925e60b967f5e206": {
      "model_module": "@jupyter-widgets/controls",
      "model_module_version": "1.5.0",
      "model_name": "HTMLModel",
      "state": {
       "layout": "IPY_MODEL_b19ba3823164419b8d0f5ab1c7721f32",
       "style": "IPY_MODEL_f44c70861ef94e6c8d8336d370347e6b",
       "value": " 4096/4096 [00:13&lt;00:00, 296.89it/s]"
      }
     },
     "8dabf6407b5e4a0c8e8f5690b99597e7": {
      "model_module": "@jupyter-widgets/controls",
      "model_module_version": "1.5.0",
      "model_name": "HTMLModel",
      "state": {
       "layout": "IPY_MODEL_7b44f4bdbcac49e8baac4fc2b3774ce3",
       "style": "IPY_MODEL_676abf0d223347d8910907dc0746005b",
       "value": " 4096/4096 [00:15&lt;00:00, 225.70it/s]"
      }
     },
     "8db00e19fe7643248c70e32a912cc2da": {
      "model_module": "@jupyter-widgets/controls",
      "model_module_version": "1.5.0",
      "model_name": "ProgressStyleModel",
      "state": {
       "description_width": ""
      }
     },
     "8dfa993739b4440da761e579f8c2c919": {
      "model_module": "@jupyter-widgets/controls",
      "model_module_version": "1.5.0",
      "model_name": "DescriptionStyleModel",
      "state": {
       "description_width": ""
      }
     },
     "8e002e1493c94f02b9b5af4d9892fb17": {
      "model_module": "@jupyter-widgets/base",
      "model_module_version": "1.2.0",
      "model_name": "LayoutModel",
      "state": {}
     },
     "8e2bd6ca2cb648a8b0d0056163516865": {
      "model_module": "@jupyter-widgets/base",
      "model_module_version": "1.2.0",
      "model_name": "LayoutModel",
      "state": {}
     },
     "8e3f3b903fc04009a61daacfb54adf10": {
      "model_module": "@jupyter-widgets/base",
      "model_module_version": "1.2.0",
      "model_name": "LayoutModel",
      "state": {}
     },
     "8f3ec8f1622043efa1e5c1c19f281b07": {
      "model_module": "@jupyter-widgets/controls",
      "model_module_version": "1.5.0",
      "model_name": "FloatProgressModel",
      "state": {
       "bar_style": "success",
       "layout": "IPY_MODEL_9a27598981714daca81ca32a0908c233",
       "max": 4096,
       "style": "IPY_MODEL_fa4217b2bb8c4cf38e76e947b2f43576",
       "value": 4096
      }
     },
     "8f423eff987748b3a4d280d3edfc4f73": {
      "model_module": "@jupyter-widgets/controls",
      "model_module_version": "1.5.0",
      "model_name": "DescriptionStyleModel",
      "state": {
       "description_width": ""
      }
     },
     "8fbf79d695de4198aad93a9c8eddba7e": {
      "model_module": "@jupyter-widgets/base",
      "model_module_version": "1.2.0",
      "model_name": "LayoutModel",
      "state": {}
     },
     "8fce3b6589894047bd802972f2414de6": {
      "model_module": "@jupyter-widgets/controls",
      "model_module_version": "1.5.0",
      "model_name": "HTMLModel",
      "state": {
       "layout": "IPY_MODEL_b51f3dea30f443989ee3bda586a78fc8",
       "style": "IPY_MODEL_087c0324e4f44998ba292ed95f0cedb2",
       "value": "100%"
      }
     },
     "8fd7d6e8b1c34a5b9e36f88882a2abeb": {
      "model_module": "@jupyter-widgets/base",
      "model_module_version": "1.2.0",
      "model_name": "LayoutModel",
      "state": {}
     },
     "9020219b0cef48e5b326cbb0b1db7dff": {
      "model_module": "@jupyter-widgets/controls",
      "model_module_version": "1.5.0",
      "model_name": "HBoxModel",
      "state": {
       "children": [
        "IPY_MODEL_5b596b502656435baa974d3b0b269ff5",
        "IPY_MODEL_221dd897db0946fd8d6040559fcc16be",
        "IPY_MODEL_60ea37db07964770a3ce4129a41444ef"
       ],
       "layout": "IPY_MODEL_0fdf728a9ccd456bb8eb86e862cdbd76"
      }
     },
     "906c2a525d9540e798f4b83db3fd0adb": {
      "model_module": "@jupyter-widgets/base",
      "model_module_version": "1.2.0",
      "model_name": "LayoutModel",
      "state": {}
     },
     "90daad8d75ad44828369481709b77cf2": {
      "model_module": "@jupyter-widgets/base",
      "model_module_version": "1.2.0",
      "model_name": "LayoutModel",
      "state": {}
     },
     "91e6d9c7380e4d059579f63d1bf33ca4": {
      "model_module": "@jupyter-widgets/controls",
      "model_module_version": "1.5.0",
      "model_name": "DescriptionStyleModel",
      "state": {
       "description_width": ""
      }
     },
     "922c1c1e14b84003aab7c0df3701be1e": {
      "model_module": "@jupyter-widgets/controls",
      "model_module_version": "1.5.0",
      "model_name": "FloatProgressModel",
      "state": {
       "bar_style": "success",
       "layout": "IPY_MODEL_fe90f6d0e93e4016bc6e07390498b53a",
       "max": 8192,
       "style": "IPY_MODEL_3026ea4b73b04a1880e80c7a87771ace",
       "value": 8192
      }
     },
     "924c701874da4014ac19b325e419d530": {
      "model_module": "@jupyter-widgets/controls",
      "model_module_version": "1.5.0",
      "model_name": "HTMLModel",
      "state": {
       "layout": "IPY_MODEL_c3f0b880bd224ce28327dd082ae88cc4",
       "style": "IPY_MODEL_44e5fc955e9c4af2a529490de87eae60",
       "value": " 426/4096 [00:01&lt;00:12, 299.32it/s]"
      }
     },
     "92ad3dd6aeee40a492ea31ea92b5f5cb": {
      "model_module": "@jupyter-widgets/base",
      "model_module_version": "1.2.0",
      "model_name": "LayoutModel",
      "state": {}
     },
     "937b3ad3c96c4e3395f52c4951a0e4fb": {
      "model_module": "@jupyter-widgets/base",
      "model_module_version": "1.2.0",
      "model_name": "LayoutModel",
      "state": {}
     },
     "939495e040c540b698594b1e68f24b78": {
      "model_module": "@jupyter-widgets/base",
      "model_module_version": "1.2.0",
      "model_name": "LayoutModel",
      "state": {}
     },
     "93c3b61712194c318f118dc395716423": {
      "model_module": "@jupyter-widgets/controls",
      "model_module_version": "1.5.0",
      "model_name": "HTMLModel",
      "state": {
       "layout": "IPY_MODEL_d37356e94e4c4ca0a52c55601a380f80",
       "style": "IPY_MODEL_d06b5a80c6fd431cbe004575df62888a",
       "value": " 4096/4096 [00:13&lt;00:00, 308.23it/s]"
      }
     },
     "93d59c71400a402dbaa9cea2d4a7faaf": {
      "model_module": "@jupyter-widgets/base",
      "model_module_version": "1.2.0",
      "model_name": "LayoutModel",
      "state": {}
     },
     "9486d386f4114881a45defc334ac47df": {
      "model_module": "@jupyter-widgets/base",
      "model_module_version": "1.2.0",
      "model_name": "LayoutModel",
      "state": {}
     },
     "94dc22096f34459481b8466164ab8e17": {
      "model_module": "@jupyter-widgets/controls",
      "model_module_version": "1.5.0",
      "model_name": "DescriptionStyleModel",
      "state": {
       "description_width": ""
      }
     },
     "95ef941a89ab4f5e830c7365ac6e8ccb": {
      "model_module": "@jupyter-widgets/base",
      "model_module_version": "1.2.0",
      "model_name": "LayoutModel",
      "state": {}
     },
     "9640d002dce645c1a7ef95dfbd7a1e70": {
      "model_module": "@jupyter-widgets/controls",
      "model_module_version": "1.5.0",
      "model_name": "DescriptionStyleModel",
      "state": {
       "description_width": ""
      }
     },
     "97872ba0000240e8bc3fda369f32ce5c": {
      "model_module": "@jupyter-widgets/base",
      "model_module_version": "1.2.0",
      "model_name": "LayoutModel",
      "state": {}
     },
     "979bc96775f34c6cbe13626984087ef4": {
      "model_module": "@jupyter-widgets/base",
      "model_module_version": "1.2.0",
      "model_name": "LayoutModel",
      "state": {}
     },
     "980c13f944cf4f83ba6dfd0050ef61bc": {
      "model_module": "@jupyter-widgets/base",
      "model_module_version": "1.2.0",
      "model_name": "LayoutModel",
      "state": {}
     },
     "9829a225928f4ba188fda4b54a70a34c": {
      "model_module": "@jupyter-widgets/base",
      "model_module_version": "1.2.0",
      "model_name": "LayoutModel",
      "state": {}
     },
     "98d78747d54f4fa3b31372804ee1ca03": {
      "model_module": "@jupyter-widgets/controls",
      "model_module_version": "1.5.0",
      "model_name": "HTMLModel",
      "state": {
       "layout": "IPY_MODEL_86ba7ed669d044bba74565bb05fe8d1a",
       "style": "IPY_MODEL_4a93a8f3d764459b9a59020539fd45b5",
       "value": " 4096/4096 [00:13&lt;00:00, 294.93it/s]"
      }
     },
     "98da742d856c4b90926787018f31f5c2": {
      "model_module": "@jupyter-widgets/controls",
      "model_module_version": "1.5.0",
      "model_name": "DescriptionStyleModel",
      "state": {
       "description_width": ""
      }
     },
     "990fbad75d2a45dabc10cc74fd77b1d9": {
      "model_module": "@jupyter-widgets/controls",
      "model_module_version": "1.5.0",
      "model_name": "FloatProgressModel",
      "state": {
       "bar_style": "success",
       "layout": "IPY_MODEL_ab99d9c9a5374ba59ee94028e7be7e93",
       "max": 4096,
       "style": "IPY_MODEL_32ea338e69b540cebddc5ea9d12f8d09",
       "value": 4096
      }
     },
     "99d56b0aa9114b629abf53bc80b9abfd": {
      "model_module": "@jupyter-widgets/base",
      "model_module_version": "1.2.0",
      "model_name": "LayoutModel",
      "state": {}
     },
     "9a18a8a0e6cd4ac183f3d37588b541fd": {
      "model_module": "@jupyter-widgets/controls",
      "model_module_version": "1.5.0",
      "model_name": "HTMLModel",
      "state": {
       "layout": "IPY_MODEL_8b982b291a0c4787b7523db7fbcae8a2",
       "style": "IPY_MODEL_e61accf66e494f799120bc6d1b06437f",
       "value": "100%"
      }
     },
     "9a27598981714daca81ca32a0908c233": {
      "model_module": "@jupyter-widgets/base",
      "model_module_version": "1.2.0",
      "model_name": "LayoutModel",
      "state": {}
     },
     "9a2db57cb75648ecb36c08f5240cf077": {
      "model_module": "@jupyter-widgets/controls",
      "model_module_version": "1.5.0",
      "model_name": "FloatProgressModel",
      "state": {
       "bar_style": "success",
       "layout": "IPY_MODEL_eaf82edc79cd443083165ccac0b54bce",
       "max": 4096,
       "style": "IPY_MODEL_cd35df768a17458fabf71cab91e3f395",
       "value": 4096
      }
     },
     "9aba7a6b2b684b15a9ce20663cee510e": {
      "model_module": "@jupyter-widgets/controls",
      "model_module_version": "1.5.0",
      "model_name": "HTMLModel",
      "state": {
       "layout": "IPY_MODEL_1e218109f9b34a6b9b917d53bc9147ca",
       "style": "IPY_MODEL_6468432efa2047a8863bb119e3f4e4a1",
       "value": "100%"
      }
     },
     "9b1cfdc56851448dbb284636a3aa332c": {
      "model_module": "@jupyter-widgets/controls",
      "model_module_version": "1.5.0",
      "model_name": "DescriptionStyleModel",
      "state": {
       "description_width": ""
      }
     },
     "9c602c64ba4c4599a3ff429534399dac": {
      "model_module": "@jupyter-widgets/controls",
      "model_module_version": "1.5.0",
      "model_name": "FloatProgressModel",
      "state": {
       "bar_style": "danger",
       "layout": "IPY_MODEL_48f7e53c14c2462ebf12d08dff495aa7",
       "max": 4096,
       "style": "IPY_MODEL_d628de233017420bad5e2d699a79e9f0",
       "value": 2725
      }
     },
     "9cef48afaf5e4ab19a61331ea57bdaa2": {
      "model_module": "@jupyter-widgets/controls",
      "model_module_version": "1.5.0",
      "model_name": "DescriptionStyleModel",
      "state": {
       "description_width": ""
      }
     },
     "9d5d0771d7204eec824c7eb1e764f8b6": {
      "model_module": "@jupyter-widgets/base",
      "model_module_version": "1.2.0",
      "model_name": "LayoutModel",
      "state": {}
     },
     "9daf36beea354b52ab422a0932a5e9dd": {
      "model_module": "@jupyter-widgets/base",
      "model_module_version": "1.2.0",
      "model_name": "LayoutModel",
      "state": {}
     },
     "9e85664ee46f403fa4c82e95062b8461": {
      "model_module": "@jupyter-widgets/controls",
      "model_module_version": "1.5.0",
      "model_name": "HTMLModel",
      "state": {
       "layout": "IPY_MODEL_cbb4db0059eb4ef49fa1c2531cd35616",
       "style": "IPY_MODEL_f7fa794bfa604c3f9b78e938057691aa",
       "value": " 4096/4096 [00:14&lt;00:00, 299.11it/s]"
      }
     },
     "9eede655d09c4fb7b6e451e2903094d6": {
      "model_module": "@jupyter-widgets/controls",
      "model_module_version": "1.5.0",
      "model_name": "HTMLModel",
      "state": {
       "layout": "IPY_MODEL_bc16abd0d8b545d4a5034a37d4128b50",
       "style": "IPY_MODEL_08b97be9f770448689983df38e0bd076",
       "value": "100%"
      }
     },
     "9ef38289e62240a5813d4817d788e70e": {
      "model_module": "@jupyter-widgets/base",
      "model_module_version": "1.2.0",
      "model_name": "LayoutModel",
      "state": {}
     },
     "9f0c21a221854ef6bbf14d4dff2b6c33": {
      "model_module": "@jupyter-widgets/controls",
      "model_module_version": "1.5.0",
      "model_name": "HBoxModel",
      "state": {
       "children": [
        "IPY_MODEL_457dbe4df7194b25b2dbf65b4c6019eb",
        "IPY_MODEL_b0ca3ac50daf411ca4fda69da1bb5c6e",
        "IPY_MODEL_9e85664ee46f403fa4c82e95062b8461"
       ],
       "layout": "IPY_MODEL_e9c9dcec5af44f8a91460ab0b6c3ae65"
      }
     },
     "9f886b2fee95430caa06e4c9032e6fb3": {
      "model_module": "@jupyter-widgets/controls",
      "model_module_version": "1.5.0",
      "model_name": "HTMLModel",
      "state": {
       "layout": "IPY_MODEL_8e3f3b903fc04009a61daacfb54adf10",
       "style": "IPY_MODEL_50463a233d05487cb444bde087fee54c",
       "value": " 4096/4096 [00:14&lt;00:00, 277.11it/s]"
      }
     },
     "9f90266a5834407fbd0cc3704ec24b12": {
      "model_module": "@jupyter-widgets/controls",
      "model_module_version": "1.5.0",
      "model_name": "HBoxModel",
      "state": {
       "children": [
        "IPY_MODEL_13015bbc50df4f8db36fe7b466582ec9",
        "IPY_MODEL_8b486edfa47a4ae5883fdf435c99ba10",
        "IPY_MODEL_9f886b2fee95430caa06e4c9032e6fb3"
       ],
       "layout": "IPY_MODEL_01ddd5f20ebf45d09a548d8d0975f949"
      }
     },
     "9fba6c46273547878c5e1dff57a8ba35": {
      "model_module": "@jupyter-widgets/controls",
      "model_module_version": "1.5.0",
      "model_name": "HTMLModel",
      "state": {
       "layout": "IPY_MODEL_0976de03b59a4c699247adff797d2918",
       "style": "IPY_MODEL_1610e113318749af8bd298e02ec7658e",
       "value": "100%"
      }
     },
     "a000efb2bc0144aaa340d40f131451ff": {
      "model_module": "@jupyter-widgets/controls",
      "model_module_version": "1.5.0",
      "model_name": "HTMLModel",
      "state": {
       "layout": "IPY_MODEL_7712cc208c93426b90c4f7f3bf8e1981",
       "style": "IPY_MODEL_5671d445a82547d0b56710fbf88b7c39",
       "value": " 4096/4096 [00:14&lt;00:00, 286.63it/s]"
      }
     },
     "a026aae557a243039278387cd9ff34ae": {
      "model_module": "@jupyter-widgets/base",
      "model_module_version": "1.2.0",
      "model_name": "LayoutModel",
      "state": {}
     },
     "a044c69a89e64aca9927e911f8c4fb15": {
      "model_module": "@jupyter-widgets/controls",
      "model_module_version": "1.5.0",
      "model_name": "DescriptionStyleModel",
      "state": {
       "description_width": ""
      }
     },
     "a0668d5b9b034237b34adf16671b4770": {
      "model_module": "@jupyter-widgets/base",
      "model_module_version": "1.2.0",
      "model_name": "LayoutModel",
      "state": {}
     },
     "a1259117343147ed806a9e155aa130eb": {
      "model_module": "@jupyter-widgets/controls",
      "model_module_version": "1.5.0",
      "model_name": "DescriptionStyleModel",
      "state": {
       "description_width": ""
      }
     },
     "a16e527d2574460288da00af13493ba1": {
      "model_module": "@jupyter-widgets/controls",
      "model_module_version": "1.5.0",
      "model_name": "HTMLModel",
      "state": {
       "layout": "IPY_MODEL_ac2491add35d4b08b049e4eb4313d4bd",
       "style": "IPY_MODEL_e9bc362fc82149d5b6e06cec1de6553d",
       "value": " 4096/4096 [00:14&lt;00:00, 288.79it/s]"
      }
     },
     "a18dd65ed72f441fa839f65a517db5c5": {
      "model_module": "@jupyter-widgets/controls",
      "model_module_version": "1.5.0",
      "model_name": "HTMLModel",
      "state": {
       "layout": "IPY_MODEL_4a9566ad31c041f6be398d29e4785a66",
       "style": "IPY_MODEL_91e6d9c7380e4d059579f63d1bf33ca4",
       "value": " 4096/4096 [00:15&lt;00:00, 236.42it/s]"
      }
     },
     "a2b728f316c24d31b10e2b5b71511195": {
      "model_module": "@jupyter-widgets/controls",
      "model_module_version": "1.5.0",
      "model_name": "HTMLModel",
      "state": {
       "layout": "IPY_MODEL_47cd019e796c42fdb8573520e2bd382e",
       "style": "IPY_MODEL_07ba629efd674863bb82301d1af501a8",
       "value": " 4096/4096 [00:15&lt;00:00, 233.99it/s]"
      }
     },
     "a3753204531240ae8ec41229f2d407b7": {
      "model_module": "@jupyter-widgets/controls",
      "model_module_version": "1.5.0",
      "model_name": "HBoxModel",
      "state": {
       "children": [
        "IPY_MODEL_c83c6251a04c4b2e8cb56cc55da5e8ce",
        "IPY_MODEL_4ed09cd5addd431eb10685a6879aef15",
        "IPY_MODEL_faa178e715ab497db8ce7759cbc65fb7"
       ],
       "layout": "IPY_MODEL_8b58e8ea7a3348a392c6f803f22ca1ff"
      }
     },
     "a4797bb10bc44fb7a54a37dd6c0a940b": {
      "model_module": "@jupyter-widgets/base",
      "model_module_version": "1.2.0",
      "model_name": "LayoutModel",
      "state": {}
     },
     "a4f2f4fbc41a402db17dea2649dd23e6": {
      "model_module": "@jupyter-widgets/controls",
      "model_module_version": "1.5.0",
      "model_name": "FloatProgressModel",
      "state": {
       "bar_style": "success",
       "layout": "IPY_MODEL_eca552e0523343fcafe093c2b40bb2f2",
       "max": 4096,
       "style": "IPY_MODEL_ec5537fa510443668057303ec3306f92",
       "value": 4096
      }
     },
     "a4faf92d11a34ce6a51319ebddbdcb61": {
      "model_module": "@jupyter-widgets/controls",
      "model_module_version": "1.5.0",
      "model_name": "ProgressStyleModel",
      "state": {
       "description_width": ""
      }
     },
     "a5690bb1702248ed887e37fb048fae1c": {
      "model_module": "@jupyter-widgets/base",
      "model_module_version": "1.2.0",
      "model_name": "LayoutModel",
      "state": {}
     },
     "a5b5f19f4fdf4e01afd764f4dd36dc46": {
      "model_module": "@jupyter-widgets/controls",
      "model_module_version": "1.5.0",
      "model_name": "HTMLModel",
      "state": {
       "layout": "IPY_MODEL_0230d7424e504265925ee7195a98b0f0",
       "style": "IPY_MODEL_4ce01bbb9ddb40dd8ce68e103af684ee",
       "value": "  0%"
      }
     },
     "a5b918ee596347c789141436499e846b": {
      "model_module": "@jupyter-widgets/controls",
      "model_module_version": "1.5.0",
      "model_name": "HTMLModel",
      "state": {
       "layout": "IPY_MODEL_8e002e1493c94f02b9b5af4d9892fb17",
       "style": "IPY_MODEL_b1f462337fe34b3f8ff2187690e30862",
       "value": " 4096/4096 [00:15&lt;00:00, 204.52it/s]"
      }
     },
     "a5c170fbf28e429f86a6e2dd4517897f": {
      "model_module": "@jupyter-widgets/base",
      "model_module_version": "1.2.0",
      "model_name": "LayoutModel",
      "state": {}
     },
     "a63493e2668449b7ad182d30cb95bc6d": {
      "model_module": "@jupyter-widgets/controls",
      "model_module_version": "1.5.0",
      "model_name": "ProgressStyleModel",
      "state": {
       "description_width": ""
      }
     },
     "a675b3db5b7f426d99d89f0e18f7d732": {
      "model_module": "@jupyter-widgets/controls",
      "model_module_version": "1.5.0",
      "model_name": "ProgressStyleModel",
      "state": {
       "description_width": ""
      }
     },
     "a67cd61dd733411e8e81b8ea32bdabbf": {
      "model_module": "@jupyter-widgets/base",
      "model_module_version": "1.2.0",
      "model_name": "LayoutModel",
      "state": {}
     },
     "a6c90ff9079647f0b97e818c26b84125": {
      "model_module": "@jupyter-widgets/base",
      "model_module_version": "1.2.0",
      "model_name": "LayoutModel",
      "state": {}
     },
     "a79185d92d784e95bcab22ddd90eab84": {
      "model_module": "@jupyter-widgets/controls",
      "model_module_version": "1.5.0",
      "model_name": "HBoxModel",
      "state": {
       "children": [
        "IPY_MODEL_1e2ed75a2bbf4ed59c2e9f939f0ce994",
        "IPY_MODEL_d6e60630585c424f981de5cfeba8c7fb",
        "IPY_MODEL_b45e5d66207e4184a82a4fac591f97ba"
       ],
       "layout": "IPY_MODEL_3ff61a7c94024ddc971f0eac670082f1"
      }
     },
     "a81e9bedda8b43faa57ca56f6a3fba2e": {
      "model_module": "@jupyter-widgets/controls",
      "model_module_version": "1.5.0",
      "model_name": "ProgressStyleModel",
      "state": {
       "description_width": ""
      }
     },
     "a8469e50fa0148a7a5106ba33fb41fde": {
      "model_module": "@jupyter-widgets/controls",
      "model_module_version": "1.5.0",
      "model_name": "DescriptionStyleModel",
      "state": {
       "description_width": ""
      }
     },
     "a871d2854bd9448991357e3c5d1fa9b1": {
      "model_module": "@jupyter-widgets/controls",
      "model_module_version": "1.5.0",
      "model_name": "FloatProgressModel",
      "state": {
       "bar_style": "success",
       "layout": "IPY_MODEL_f7c01ef69eb84d28b61a44ad777be0c6",
       "max": 1024,
       "style": "IPY_MODEL_6bb09463d54b4b1099a62b5a5f07c926",
       "value": 1024
      }
     },
     "a8803b6e81e24806837386c6c1ab4ce2": {
      "model_module": "@jupyter-widgets/controls",
      "model_module_version": "1.5.0",
      "model_name": "HTMLModel",
      "state": {
       "layout": "IPY_MODEL_a0668d5b9b034237b34adf16671b4770",
       "style": "IPY_MODEL_f3f53464b58c401bad3df0ab79439307",
       "value": "100%"
      }
     },
     "a90ab7e21f2a4ecf91a094899d86e949": {
      "model_module": "@jupyter-widgets/base",
      "model_module_version": "1.2.0",
      "model_name": "LayoutModel",
      "state": {}
     },
     "a91f113383414f3e942417c9376939ec": {
      "model_module": "@jupyter-widgets/base",
      "model_module_version": "1.2.0",
      "model_name": "LayoutModel",
      "state": {}
     },
     "a957225a776f442fb06e7d31906bb780": {
      "model_module": "@jupyter-widgets/base",
      "model_module_version": "1.2.0",
      "model_name": "LayoutModel",
      "state": {}
     },
     "a9e5693e4002428792761cb47eff9fda": {
      "model_module": "@jupyter-widgets/controls",
      "model_module_version": "1.5.0",
      "model_name": "ProgressStyleModel",
      "state": {
       "description_width": ""
      }
     },
     "aa04ebde951340119a003f284b5660dc": {
      "model_module": "@jupyter-widgets/base",
      "model_module_version": "1.2.0",
      "model_name": "LayoutModel",
      "state": {}
     },
     "aa35d7fd59f149039fbf4c0489168461": {
      "model_module": "@jupyter-widgets/base",
      "model_module_version": "1.2.0",
      "model_name": "LayoutModel",
      "state": {}
     },
     "aa5af4577025495b980b3956d7d3a94d": {
      "model_module": "@jupyter-widgets/controls",
      "model_module_version": "1.5.0",
      "model_name": "DescriptionStyleModel",
      "state": {
       "description_width": ""
      }
     },
     "aa8a5b6a138d4aedb1bd3ea0b53d2584": {
      "model_module": "@jupyter-widgets/base",
      "model_module_version": "1.2.0",
      "model_name": "LayoutModel",
      "state": {}
     },
     "aab3ba3da2434956b6cd87f911d37472": {
      "model_module": "@jupyter-widgets/controls",
      "model_module_version": "1.5.0",
      "model_name": "DescriptionStyleModel",
      "state": {
       "description_width": ""
      }
     },
     "ab99d9c9a5374ba59ee94028e7be7e93": {
      "model_module": "@jupyter-widgets/base",
      "model_module_version": "1.2.0",
      "model_name": "LayoutModel",
      "state": {}
     },
     "abc191d763ab41eda1684db73b8a143a": {
      "model_module": "@jupyter-widgets/base",
      "model_module_version": "1.2.0",
      "model_name": "LayoutModel",
      "state": {}
     },
     "abe6de8561ce4e9f801fdc4ae5187312": {
      "model_module": "@jupyter-widgets/base",
      "model_module_version": "1.2.0",
      "model_name": "LayoutModel",
      "state": {}
     },
     "ac2491add35d4b08b049e4eb4313d4bd": {
      "model_module": "@jupyter-widgets/base",
      "model_module_version": "1.2.0",
      "model_name": "LayoutModel",
      "state": {}
     },
     "ac7808b1826545fda3210f40da1de3f3": {
      "model_module": "@jupyter-widgets/controls",
      "model_module_version": "1.5.0",
      "model_name": "HTMLModel",
      "state": {
       "layout": "IPY_MODEL_1faf187606204d48b9847e53e08792d9",
       "style": "IPY_MODEL_8c1fec71592e407bb164b82d45d18ec3",
       "value": "  6%"
      }
     },
     "acc1c29a64d843d2a575ce36218fa306": {
      "model_module": "@jupyter-widgets/base",
      "model_module_version": "1.2.0",
      "model_name": "LayoutModel",
      "state": {}
     },
     "ad5694fbc3ed456fb82eae982563c924": {
      "model_module": "@jupyter-widgets/controls",
      "model_module_version": "1.5.0",
      "model_name": "FloatProgressModel",
      "state": {
       "bar_style": "success",
       "layout": "IPY_MODEL_34ada77ddae4470d945d22f3fbe284f9",
       "max": 4096,
       "style": "IPY_MODEL_b883d467e3394efdaf36d9368db8b8f1",
       "value": 4096
      }
     },
     "ad65c7581bb24300a047b5e3a4d37482": {
      "model_module": "@jupyter-widgets/base",
      "model_module_version": "1.2.0",
      "model_name": "LayoutModel",
      "state": {}
     },
     "adaefc5ce4004ef89be5de9d54c0a8ff": {
      "model_module": "@jupyter-widgets/controls",
      "model_module_version": "1.5.0",
      "model_name": "HBoxModel",
      "state": {
       "children": [
        "IPY_MODEL_5900eb0f07f44222a5ddb9252590e916",
        "IPY_MODEL_03a762e4e72e4ceea1fb3c4ace0516a0",
        "IPY_MODEL_69788eec75234aa5b475f92e117d6984"
       ],
       "layout": "IPY_MODEL_36e1fb6b87214889a309d571c4462dbb"
      }
     },
     "ae24c0645cbd49b99ac09d8adf1986ca": {
      "model_module": "@jupyter-widgets/controls",
      "model_module_version": "1.5.0",
      "model_name": "ProgressStyleModel",
      "state": {
       "description_width": ""
      }
     },
     "ae53bd12cd6d41f9834a824d181d4da4": {
      "model_module": "@jupyter-widgets/base",
      "model_module_version": "1.2.0",
      "model_name": "LayoutModel",
      "state": {}
     },
     "ae70c7061d5c463d8c3835e6c0cc4ea6": {
      "model_module": "@jupyter-widgets/base",
      "model_module_version": "1.2.0",
      "model_name": "LayoutModel",
      "state": {}
     },
     "ae92d12c6ddc4280bcf831807af8daa9": {
      "model_module": "@jupyter-widgets/base",
      "model_module_version": "1.2.0",
      "model_name": "LayoutModel",
      "state": {}
     },
     "aed674dd5aa641b4bd8c1c6980582880": {
      "model_module": "@jupyter-widgets/controls",
      "model_module_version": "1.5.0",
      "model_name": "DescriptionStyleModel",
      "state": {
       "description_width": ""
      }
     },
     "af29ef24e092464a8198bcdad8c45b89": {
      "model_module": "@jupyter-widgets/controls",
      "model_module_version": "1.5.0",
      "model_name": "HBoxModel",
      "state": {
       "children": [
        "IPY_MODEL_f6ac57a716284b3dab0d8d15c547213d",
        "IPY_MODEL_4a5c61665d874dfe9993ad537d36eb54",
        "IPY_MODEL_f2cd0ed6d59746899225d5e50d909c54"
       ],
       "layout": "IPY_MODEL_afc91a138e88411cac5716df047c5d69"
      }
     },
     "af41ad39cafa421a86277f02b3ba6020": {
      "model_module": "@jupyter-widgets/base",
      "model_module_version": "1.2.0",
      "model_name": "LayoutModel",
      "state": {}
     },
     "af4414bf33064ad9a0964fdf43610767": {
      "model_module": "@jupyter-widgets/controls",
      "model_module_version": "1.5.0",
      "model_name": "HTMLModel",
      "state": {
       "layout": "IPY_MODEL_c27e30ec20d2446184145a916121c488",
       "style": "IPY_MODEL_668a2393e0494bb28db9ea03403cdd0b",
       "value": " 4096/4096 [00:15&lt;00:00, 230.04it/s]"
      }
     },
     "af644b24c55b42ae8757c28098147be8": {
      "model_module": "@jupyter-widgets/controls",
      "model_module_version": "1.5.0",
      "model_name": "ProgressStyleModel",
      "state": {
       "description_width": ""
      }
     },
     "af8fa06b83d24a0b9f1fd319905654aa": {
      "model_module": "@jupyter-widgets/controls",
      "model_module_version": "1.5.0",
      "model_name": "ProgressStyleModel",
      "state": {
       "description_width": ""
      }
     },
     "af9a5cfe89244024af062caf9df02361": {
      "model_module": "@jupyter-widgets/controls",
      "model_module_version": "1.5.0",
      "model_name": "HTMLModel",
      "state": {
       "layout": "IPY_MODEL_c1ff8e1e1eff410a9fa2ccd6287d16fe",
       "style": "IPY_MODEL_0ccc6d2e6d154d2989e6bde61dff7081",
       "value": " 4096/4096 [00:14&lt;00:00, 282.24it/s]"
      }
     },
     "afc91a138e88411cac5716df047c5d69": {
      "model_module": "@jupyter-widgets/base",
      "model_module_version": "1.2.0",
      "model_name": "LayoutModel",
      "state": {}
     },
     "b0ca3ac50daf411ca4fda69da1bb5c6e": {
      "model_module": "@jupyter-widgets/controls",
      "model_module_version": "1.5.0",
      "model_name": "FloatProgressModel",
      "state": {
       "bar_style": "success",
       "layout": "IPY_MODEL_9daf36beea354b52ab422a0932a5e9dd",
       "max": 4096,
       "style": "IPY_MODEL_386e633c4b4c4461b9ccbb29ab8a7a7f",
       "value": 4096
      }
     },
     "b182dee11a064bc89e68ecd01c98115d": {
      "model_module": "@jupyter-widgets/controls",
      "model_module_version": "1.5.0",
      "model_name": "HBoxModel",
      "state": {
       "children": [
        "IPY_MODEL_9eede655d09c4fb7b6e451e2903094d6",
        "IPY_MODEL_3d793fdcdab4451b816bfd20f064e3d0",
        "IPY_MODEL_7c44e364a1504c4da4c8597aa74ba9de"
       ],
       "layout": "IPY_MODEL_cee0474ef6aa47f888c3b3bafdad5601"
      }
     },
     "b19ba3823164419b8d0f5ab1c7721f32": {
      "model_module": "@jupyter-widgets/base",
      "model_module_version": "1.2.0",
      "model_name": "LayoutModel",
      "state": {}
     },
     "b1f462337fe34b3f8ff2187690e30862": {
      "model_module": "@jupyter-widgets/controls",
      "model_module_version": "1.5.0",
      "model_name": "DescriptionStyleModel",
      "state": {
       "description_width": ""
      }
     },
     "b211bc66165643f7b57ce51f37fa3729": {
      "model_module": "@jupyter-widgets/controls",
      "model_module_version": "1.5.0",
      "model_name": "HBoxModel",
      "state": {
       "children": [
        "IPY_MODEL_db38e3059a614453a8223c7ae9042bad",
        "IPY_MODEL_b7c1bb4e8d9b48a59c0a2cd324d7cbae",
        "IPY_MODEL_e45d162f374a497ca82f1d3ef5a9e7e0"
       ],
       "layout": "IPY_MODEL_30c0ab2ff28340339cd0ced19c868219"
      }
     },
     "b31bee1158574bb09b7649f44c490a67": {
      "model_module": "@jupyter-widgets/controls",
      "model_module_version": "1.5.0",
      "model_name": "HBoxModel",
      "state": {
       "children": [
        "IPY_MODEL_6f5a484c81254f798f7662a1935d9729",
        "IPY_MODEL_2da5da1deea54816b37fafa929b1944e",
        "IPY_MODEL_237b738c6ae44446bb64e64dab8d7b3f"
       ],
       "layout": "IPY_MODEL_e79f3791fa634decb81e9570e229576e"
      }
     },
     "b36b346633474866b3ff0182e4cb31c9": {
      "model_module": "@jupyter-widgets/controls",
      "model_module_version": "1.5.0",
      "model_name": "HTMLModel",
      "state": {
       "layout": "IPY_MODEL_8e2bd6ca2cb648a8b0d0056163516865",
       "style": "IPY_MODEL_20753f06a2d54e5cb32a82ce9293011c",
       "value": " 4096/4096 [00:12&lt;00:00, 316.66it/s]"
      }
     },
     "b393c58021a64cfaafdb04d947b2015c": {
      "model_module": "@jupyter-widgets/base",
      "model_module_version": "1.2.0",
      "model_name": "LayoutModel",
      "state": {}
     },
     "b3e8d3bd97cd474e8c731d5745b19bc5": {
      "model_module": "@jupyter-widgets/controls",
      "model_module_version": "1.5.0",
      "model_name": "HBoxModel",
      "state": {
       "children": [
        "IPY_MODEL_ba39f803ce9a4d4fb390186cb67d9f8b",
        "IPY_MODEL_2db4d64d32c04459a624504e70e8503f",
        "IPY_MODEL_a16e527d2574460288da00af13493ba1"
       ],
       "layout": "IPY_MODEL_acc1c29a64d843d2a575ce36218fa306"
      }
     },
     "b45e5d66207e4184a82a4fac591f97ba": {
      "model_module": "@jupyter-widgets/controls",
      "model_module_version": "1.5.0",
      "model_name": "HTMLModel",
      "state": {
       "layout": "IPY_MODEL_90daad8d75ad44828369481709b77cf2",
       "style": "IPY_MODEL_03395d531fca4eb59e4cec833c534ae9",
       "value": " 4096/4096 [00:14&lt;00:00, 289.54it/s]"
      }
     },
     "b4b58f9aa7ce49018aeff14bee02161c": {
      "model_module": "@jupyter-widgets/controls",
      "model_module_version": "1.5.0",
      "model_name": "ProgressStyleModel",
      "state": {
       "description_width": ""
      }
     },
     "b4c4cb088ed54958a1bbcba8abc96f76": {
      "model_module": "@jupyter-widgets/base",
      "model_module_version": "1.2.0",
      "model_name": "LayoutModel",
      "state": {}
     },
     "b4f95e0710be44b6a083a8f11b672f61": {
      "model_module": "@jupyter-widgets/base",
      "model_module_version": "1.2.0",
      "model_name": "LayoutModel",
      "state": {}
     },
     "b51f3dea30f443989ee3bda586a78fc8": {
      "model_module": "@jupyter-widgets/base",
      "model_module_version": "1.2.0",
      "model_name": "LayoutModel",
      "state": {}
     },
     "b58f22180692445398365e4688a138c2": {
      "model_module": "@jupyter-widgets/controls",
      "model_module_version": "1.5.0",
      "model_name": "DescriptionStyleModel",
      "state": {
       "description_width": ""
      }
     },
     "b5f740ed72c54f0bbf0c02ca5a1a2ee6": {
      "model_module": "@jupyter-widgets/controls",
      "model_module_version": "1.5.0",
      "model_name": "HTMLModel",
      "state": {
       "layout": "IPY_MODEL_3c58c133c7c049dd808d26f3bfaa3136",
       "style": "IPY_MODEL_4a39e6fd2cbc466397167cfca1fd611b",
       "value": " 4096/4096 [00:14&lt;00:00, 286.66it/s]"
      }
     },
     "b62990518916439e9ed7b76c2c3baefd": {
      "model_module": "@jupyter-widgets/base",
      "model_module_version": "1.2.0",
      "model_name": "LayoutModel",
      "state": {}
     },
     "b65d09d145c147e9af7dbb57b0eba3ed": {
      "model_module": "@jupyter-widgets/controls",
      "model_module_version": "1.5.0",
      "model_name": "HTMLModel",
      "state": {
       "layout": "IPY_MODEL_b6b72a102da3460ea4427b4b9b0fcd79",
       "style": "IPY_MODEL_c1c054418a744107bd2b6859aba7c7a7",
       "value": "100%"
      }
     },
     "b68c34695cd54d308a6c9985d7614c0e": {
      "model_module": "@jupyter-widgets/controls",
      "model_module_version": "1.5.0",
      "model_name": "ProgressStyleModel",
      "state": {
       "description_width": ""
      }
     },
     "b6b72a102da3460ea4427b4b9b0fcd79": {
      "model_module": "@jupyter-widgets/base",
      "model_module_version": "1.2.0",
      "model_name": "LayoutModel",
      "state": {}
     },
     "b6fec22d16f84851b5e6810d23ca5a28": {
      "model_module": "@jupyter-widgets/base",
      "model_module_version": "1.2.0",
      "model_name": "LayoutModel",
      "state": {}
     },
     "b70d4bda5bda4aff8eb4e4b5a3294ea5": {
      "model_module": "@jupyter-widgets/base",
      "model_module_version": "1.2.0",
      "model_name": "LayoutModel",
      "state": {}
     },
     "b7841fdbdc214f4f82a78bc68b7b0249": {
      "model_module": "@jupyter-widgets/base",
      "model_module_version": "1.2.0",
      "model_name": "LayoutModel",
      "state": {}
     },
     "b7c1bb4e8d9b48a59c0a2cd324d7cbae": {
      "model_module": "@jupyter-widgets/controls",
      "model_module_version": "1.5.0",
      "model_name": "FloatProgressModel",
      "state": {
       "bar_style": "success",
       "layout": "IPY_MODEL_c468582742b14ec38af9829b1b2f82d4",
       "max": 4096,
       "style": "IPY_MODEL_42607c058dce4afd91a3fd5539feefa2",
       "value": 4096
      }
     },
     "b883d467e3394efdaf36d9368db8b8f1": {
      "model_module": "@jupyter-widgets/controls",
      "model_module_version": "1.5.0",
      "model_name": "ProgressStyleModel",
      "state": {
       "description_width": ""
      }
     },
     "b8a87df1989d48269f92f211df9150c6": {
      "model_module": "@jupyter-widgets/controls",
      "model_module_version": "1.5.0",
      "model_name": "ProgressStyleModel",
      "state": {
       "description_width": ""
      }
     },
     "b8ff9a8e33e44df199e695454af1908c": {
      "model_module": "@jupyter-widgets/controls",
      "model_module_version": "1.5.0",
      "model_name": "ProgressStyleModel",
      "state": {
       "description_width": ""
      }
     },
     "b915905a9d8648a595094d9b01532bbc": {
      "model_module": "@jupyter-widgets/base",
      "model_module_version": "1.2.0",
      "model_name": "LayoutModel",
      "state": {}
     },
     "b920e019b5a249c9b32f780929183377": {
      "model_module": "@jupyter-widgets/controls",
      "model_module_version": "1.5.0",
      "model_name": "HTMLModel",
      "state": {
       "layout": "IPY_MODEL_0169315186e440b4b71368c2847e7e3c",
       "style": "IPY_MODEL_16111ccce5704e888ec909ed9a598744",
       "value": "  6%"
      }
     },
     "b9e8defe805e4af18f5e2b9d0bd48f92": {
      "model_module": "@jupyter-widgets/controls",
      "model_module_version": "1.5.0",
      "model_name": "FloatProgressModel",
      "state": {
       "bar_style": "success",
       "layout": "IPY_MODEL_6143d577d7004ceab2361f54d39487c5",
       "max": 4096,
       "style": "IPY_MODEL_4872e89498854040b82d322f23d8ed27",
       "value": 4096
      }
     },
     "b9f33c83bfdb4c14b86ed174a05e3bd4": {
      "model_module": "@jupyter-widgets/base",
      "model_module_version": "1.2.0",
      "model_name": "LayoutModel",
      "state": {}
     },
     "ba39f803ce9a4d4fb390186cb67d9f8b": {
      "model_module": "@jupyter-widgets/controls",
      "model_module_version": "1.5.0",
      "model_name": "HTMLModel",
      "state": {
       "layout": "IPY_MODEL_117b2076d94547f29419f67197c5bd55",
       "style": "IPY_MODEL_a044c69a89e64aca9927e911f8c4fb15",
       "value": "100%"
      }
     },
     "bad3f3ca29214f60bae9e7765f56fa66": {
      "model_module": "@jupyter-widgets/base",
      "model_module_version": "1.2.0",
      "model_name": "LayoutModel",
      "state": {}
     },
     "bc16abd0d8b545d4a5034a37d4128b50": {
      "model_module": "@jupyter-widgets/base",
      "model_module_version": "1.2.0",
      "model_name": "LayoutModel",
      "state": {}
     },
     "bd6288d91ca841a2a2a15e410b9e75d6": {
      "model_module": "@jupyter-widgets/controls",
      "model_module_version": "1.5.0",
      "model_name": "DescriptionStyleModel",
      "state": {
       "description_width": ""
      }
     },
     "bdfe6b6a9903498aa24d2ca343e287f6": {
      "model_module": "@jupyter-widgets/controls",
      "model_module_version": "1.5.0",
      "model_name": "HTMLModel",
      "state": {
       "layout": "IPY_MODEL_26796be1ed3640249b0f7b56e9e0aa26",
       "style": "IPY_MODEL_9b1cfdc56851448dbb284636a3aa332c",
       "value": "100%"
      }
     },
     "bea16bddf9d54c9b8e9b8bd4be19ecfc": {
      "model_module": "@jupyter-widgets/controls",
      "model_module_version": "1.5.0",
      "model_name": "HTMLModel",
      "state": {
       "layout": "IPY_MODEL_a026aae557a243039278387cd9ff34ae",
       "style": "IPY_MODEL_051a1a6794a44d69988110c43f0e76d1",
       "value": " 1024/1024 [00:03&lt;00:00, 273.70it/s]"
      }
     },
     "bf1dd515e0764de1b6b24440ddc810cf": {
      "model_module": "@jupyter-widgets/controls",
      "model_module_version": "1.5.0",
      "model_name": "HTMLModel",
      "state": {
       "layout": "IPY_MODEL_6da6559c70f24e91896516cdd0ac34d3",
       "style": "IPY_MODEL_cc71eba6ac454650b67b470efe6b5690",
       "value": " 10%"
      }
     },
     "bf21dab71be24c23980e7edd19f00023": {
      "model_module": "@jupyter-widgets/controls",
      "model_module_version": "1.5.0",
      "model_name": "FloatProgressModel",
      "state": {
       "bar_style": "success",
       "layout": "IPY_MODEL_42c3f8c7c6d8431e96a6055bf9772457",
       "max": 4096,
       "style": "IPY_MODEL_837691d286d6475c9d162ad9210bc832",
       "value": 4096
      }
     },
     "bfdae7fea2e447fbb1351a6d153d4968": {
      "model_module": "@jupyter-widgets/base",
      "model_module_version": "1.2.0",
      "model_name": "LayoutModel",
      "state": {}
     },
     "c014455bb11e47d5b2d00d5bc0fa5d5c": {
      "model_module": "@jupyter-widgets/controls",
      "model_module_version": "1.5.0",
      "model_name": "HTMLModel",
      "state": {
       "layout": "IPY_MODEL_fdee12e9fc374608bc44cb42608c7171",
       "style": "IPY_MODEL_32f25076b4214947bde35d9701f66533",
       "value": "  0%"
      }
     },
     "c08e67a18eb241e284f87c916a582cf6": {
      "model_module": "@jupyter-widgets/controls",
      "model_module_version": "1.5.0",
      "model_name": "HBoxModel",
      "state": {
       "children": [
        "IPY_MODEL_35f1585bcfbf468a985c6eb349a624e4",
        "IPY_MODEL_f5f698736dbc4cc4be2199119bdce3c3",
        "IPY_MODEL_da4c6c9d7fd84bad82c700002c534b54"
       ],
       "layout": "IPY_MODEL_de09e841dc0e42f08457c79a8a11adee"
      }
     },
     "c173df0b3b584d61ae963ce5effad666": {
      "model_module": "@jupyter-widgets/controls",
      "model_module_version": "1.5.0",
      "model_name": "HBoxModel",
      "state": {
       "children": [
        "IPY_MODEL_7cce0bca34aa4e53b832e3dc509dc983",
        "IPY_MODEL_158ea97413664821b3dd65b10921873c",
        "IPY_MODEL_03c9e8b9fb8041478e1b3b7f5053647c"
       ],
       "layout": "IPY_MODEL_7685b036020542a09bef8e814c91d04b"
      }
     },
     "c1c054418a744107bd2b6859aba7c7a7": {
      "model_module": "@jupyter-widgets/controls",
      "model_module_version": "1.5.0",
      "model_name": "DescriptionStyleModel",
      "state": {
       "description_width": ""
      }
     },
     "c1ff8e1e1eff410a9fa2ccd6287d16fe": {
      "model_module": "@jupyter-widgets/base",
      "model_module_version": "1.2.0",
      "model_name": "LayoutModel",
      "state": {}
     },
     "c23f37fa0dc64c8d9f92427fbf7ef8ae": {
      "model_module": "@jupyter-widgets/controls",
      "model_module_version": "1.5.0",
      "model_name": "HBoxModel",
      "state": {
       "children": [
        "IPY_MODEL_9fba6c46273547878c5e1dff57a8ba35",
        "IPY_MODEL_16172826851e43ee850ae8dd6a4b6f9c",
        "IPY_MODEL_44ca5227194e4804a73cf04fe30416c2"
       ],
       "layout": "IPY_MODEL_d6459d3baac34af4924d604245b1de44"
      }
     },
     "c27e30ec20d2446184145a916121c488": {
      "model_module": "@jupyter-widgets/base",
      "model_module_version": "1.2.0",
      "model_name": "LayoutModel",
      "state": {}
     },
     "c3263a555b5c480e8bce8e301c88dce2": {
      "model_module": "@jupyter-widgets/controls",
      "model_module_version": "1.5.0",
      "model_name": "ProgressStyleModel",
      "state": {
       "description_width": ""
      }
     },
     "c34c5f233375402a8f02998dfe855dba": {
      "model_module": "@jupyter-widgets/controls",
      "model_module_version": "1.5.0",
      "model_name": "HTMLModel",
      "state": {
       "layout": "IPY_MODEL_8fbf79d695de4198aad93a9c8eddba7e",
       "style": "IPY_MODEL_d6ada1d389cc4af798009539a2fdf949",
       "value": " 0/4096 [00:00&lt;?, ?it/s]"
      }
     },
     "c3716960ea4942dca2e12d286a5f5b77": {
      "model_module": "@jupyter-widgets/controls",
      "model_module_version": "1.5.0",
      "model_name": "DescriptionStyleModel",
      "state": {
       "description_width": ""
      }
     },
     "c37c00c34fce441ab529340009007a69": {
      "model_module": "@jupyter-widgets/base",
      "model_module_version": "1.2.0",
      "model_name": "LayoutModel",
      "state": {}
     },
     "c3f0b880bd224ce28327dd082ae88cc4": {
      "model_module": "@jupyter-widgets/base",
      "model_module_version": "1.2.0",
      "model_name": "LayoutModel",
      "state": {}
     },
     "c434d62077c14d028f16a1ed66abc055": {
      "model_module": "@jupyter-widgets/base",
      "model_module_version": "1.2.0",
      "model_name": "LayoutModel",
      "state": {}
     },
     "c468582742b14ec38af9829b1b2f82d4": {
      "model_module": "@jupyter-widgets/base",
      "model_module_version": "1.2.0",
      "model_name": "LayoutModel",
      "state": {}
     },
     "c4e905942823473285f69a15ffbcbdab": {
      "model_module": "@jupyter-widgets/base",
      "model_module_version": "1.2.0",
      "model_name": "LayoutModel",
      "state": {}
     },
     "c5b2a40b42ca468e8b8eddb4fb066d93": {
      "model_module": "@jupyter-widgets/base",
      "model_module_version": "1.2.0",
      "model_name": "LayoutModel",
      "state": {}
     },
     "c600a66fd58e40e6b0a119021d678ee9": {
      "model_module": "@jupyter-widgets/base",
      "model_module_version": "1.2.0",
      "model_name": "LayoutModel",
      "state": {}
     },
     "c655a5e15c9b420ab541ae07ac960b6a": {
      "model_module": "@jupyter-widgets/controls",
      "model_module_version": "1.5.0",
      "model_name": "HTMLModel",
      "state": {
       "layout": "IPY_MODEL_84325228269a4ebaae507ad45d8def66",
       "style": "IPY_MODEL_ff127378d3254fb29023ca1904cb6dcf",
       "value": "100%"
      }
     },
     "c78aa43844024bc2b1e5ff5234b60413": {
      "model_module": "@jupyter-widgets/base",
      "model_module_version": "1.2.0",
      "model_name": "LayoutModel",
      "state": {}
     },
     "c7f98c4921d940aba6dd493fcfcb2ffe": {
      "model_module": "@jupyter-widgets/controls",
      "model_module_version": "1.5.0",
      "model_name": "DescriptionStyleModel",
      "state": {
       "description_width": ""
      }
     },
     "c8026e3390e047689568e2714fc8c1bc": {
      "model_module": "@jupyter-widgets/base",
      "model_module_version": "1.2.0",
      "model_name": "LayoutModel",
      "state": {}
     },
     "c83c6251a04c4b2e8cb56cc55da5e8ce": {
      "model_module": "@jupyter-widgets/controls",
      "model_module_version": "1.5.0",
      "model_name": "HTMLModel",
      "state": {
       "layout": "IPY_MODEL_aa35d7fd59f149039fbf4c0489168461",
       "style": "IPY_MODEL_1679bd446a8143b2b4a9b1004de401c8",
       "value": "100%"
      }
     },
     "c84f3e8d536c453fbafffef9c36f1522": {
      "model_module": "@jupyter-widgets/controls",
      "model_module_version": "1.5.0",
      "model_name": "ProgressStyleModel",
      "state": {
       "description_width": ""
      }
     },
     "c93f6b2c5cd045c5ac075fb05846fa75": {
      "model_module": "@jupyter-widgets/base",
      "model_module_version": "1.2.0",
      "model_name": "LayoutModel",
      "state": {}
     },
     "c958bdd4a8014a298a4f3f5638be9b79": {
      "model_module": "@jupyter-widgets/base",
      "model_module_version": "1.2.0",
      "model_name": "LayoutModel",
      "state": {}
     },
     "ca24ad5781f04580bbbd3f9510f29abf": {
      "model_module": "@jupyter-widgets/base",
      "model_module_version": "1.2.0",
      "model_name": "LayoutModel",
      "state": {}
     },
     "ca59340df1b04197b72d5db6e8d543fe": {
      "model_module": "@jupyter-widgets/controls",
      "model_module_version": "1.5.0",
      "model_name": "DescriptionStyleModel",
      "state": {
       "description_width": ""
      }
     },
     "ca8152fa0ef643bbab2c4c5a2c6cfb9c": {
      "model_module": "@jupyter-widgets/controls",
      "model_module_version": "1.5.0",
      "model_name": "HTMLModel",
      "state": {
       "layout": "IPY_MODEL_d4a73fdba27d49c99059d6c3b4d7ed55",
       "style": "IPY_MODEL_08868f49d4124d818ea6c7207f166460",
       "value": "100%"
      }
     },
     "cb01745bfbad4bb8a769211cd0e1f238": {
      "model_module": "@jupyter-widgets/controls",
      "model_module_version": "1.5.0",
      "model_name": "HTMLModel",
      "state": {
       "layout": "IPY_MODEL_b9f33c83bfdb4c14b86ed174a05e3bd4",
       "style": "IPY_MODEL_dc261d94a302488eb19affe227012276",
       "value": "100%"
      }
     },
     "cb18c19675f24394a811b177bf65256e": {
      "model_module": "@jupyter-widgets/controls",
      "model_module_version": "1.5.0",
      "model_name": "FloatProgressModel",
      "state": {
       "bar_style": "danger",
       "layout": "IPY_MODEL_8974389ca1f642a291b00ab57a909662",
       "max": 4096,
       "style": "IPY_MODEL_b8a87df1989d48269f92f211df9150c6"
      }
     },
     "cb20d517c1ee4a16a7dcea03ee57ec86": {
      "model_module": "@jupyter-widgets/controls",
      "model_module_version": "1.5.0",
      "model_name": "HTMLModel",
      "state": {
       "layout": "IPY_MODEL_97872ba0000240e8bc3fda369f32ce5c",
       "style": "IPY_MODEL_38b0530abf5f4819bef2b568e27aa623",
       "value": "100%"
      }
     },
     "cbb4db0059eb4ef49fa1c2531cd35616": {
      "model_module": "@jupyter-widgets/base",
      "model_module_version": "1.2.0",
      "model_name": "LayoutModel",
      "state": {}
     },
     "cc043e89191d44038e1d678137a6fd17": {
      "model_module": "@jupyter-widgets/base",
      "model_module_version": "1.2.0",
      "model_name": "LayoutModel",
      "state": {}
     },
     "cc1119bf9ac5415f8c21f36c97c09beb": {
      "model_module": "@jupyter-widgets/controls",
      "model_module_version": "1.5.0",
      "model_name": "HTMLModel",
      "state": {
       "layout": "IPY_MODEL_2bfd4fc2e3a6426196fe4aabe7db41a0",
       "style": "IPY_MODEL_141dcd0b603849cfa1bb89a19f22604d",
       "value": " 4096/4096 [00:15&lt;00:00, 232.91it/s]"
      }
     },
     "cc71eba6ac454650b67b470efe6b5690": {
      "model_module": "@jupyter-widgets/controls",
      "model_module_version": "1.5.0",
      "model_name": "DescriptionStyleModel",
      "state": {
       "description_width": ""
      }
     },
     "cceee3aa99c44ddb9f6d7ee86768b4ac": {
      "model_module": "@jupyter-widgets/controls",
      "model_module_version": "1.5.0",
      "model_name": "DescriptionStyleModel",
      "state": {
       "description_width": ""
      }
     },
     "cd35df768a17458fabf71cab91e3f395": {
      "model_module": "@jupyter-widgets/controls",
      "model_module_version": "1.5.0",
      "model_name": "ProgressStyleModel",
      "state": {
       "description_width": ""
      }
     },
     "cd5b0c0d727249b79d183a369df6484d": {
      "model_module": "@jupyter-widgets/controls",
      "model_module_version": "1.5.0",
      "model_name": "HBoxModel",
      "state": {
       "children": [
        "IPY_MODEL_2fe407ceff024d0ea14e90fdfa5e38f8",
        "IPY_MODEL_e38ad9659f8d41e9a0d670e1f7fa2278",
        "IPY_MODEL_cc1119bf9ac5415f8c21f36c97c09beb"
       ],
       "layout": "IPY_MODEL_ef08ecf50fd547ce86f4a97d91c25d8d"
      }
     },
     "ce0e6e63f16b4e6191f03d70779ebabc": {
      "model_module": "@jupyter-widgets/base",
      "model_module_version": "1.2.0",
      "model_name": "LayoutModel",
      "state": {}
     },
     "ce39511347eb4fe2ab1f660f2336c87e": {
      "model_module": "@jupyter-widgets/base",
      "model_module_version": "1.2.0",
      "model_name": "LayoutModel",
      "state": {}
     },
     "ce54ec8958034a7e9ade2df011fc01c3": {
      "model_module": "@jupyter-widgets/controls",
      "model_module_version": "1.5.0",
      "model_name": "ProgressStyleModel",
      "state": {
       "description_width": ""
      }
     },
     "cee0474ef6aa47f888c3b3bafdad5601": {
      "model_module": "@jupyter-widgets/base",
      "model_module_version": "1.2.0",
      "model_name": "LayoutModel",
      "state": {}
     },
     "cfae00fa5d2e49f1bc753b5b8286ec91": {
      "model_module": "@jupyter-widgets/controls",
      "model_module_version": "1.5.0",
      "model_name": "HBoxModel",
      "state": {
       "children": [
        "IPY_MODEL_9a18a8a0e6cd4ac183f3d37588b541fd",
        "IPY_MODEL_75e73d2e7df24a5c839d61f534aa349d",
        "IPY_MODEL_db4505555bb240e69718e795e5614431"
       ],
       "layout": "IPY_MODEL_268b42a9e5b344ebad068f741667d50d"
      }
     },
     "d024b18668d041ba8fb09cede787bc0c": {
      "model_module": "@jupyter-widgets/controls",
      "model_module_version": "1.5.0",
      "model_name": "FloatProgressModel",
      "state": {
       "bar_style": "danger",
       "layout": "IPY_MODEL_0d283e682b7649d0956ef1cebfb521fc",
       "max": 1024,
       "style": "IPY_MODEL_6fef764f82294008adf1feb0e391b28c",
       "value": 64
      }
     },
     "d04e92d100d943dfb65dbcc1f95d5578": {
      "model_module": "@jupyter-widgets/controls",
      "model_module_version": "1.5.0",
      "model_name": "DescriptionStyleModel",
      "state": {
       "description_width": ""
      }
     },
     "d06b5a80c6fd431cbe004575df62888a": {
      "model_module": "@jupyter-widgets/controls",
      "model_module_version": "1.5.0",
      "model_name": "DescriptionStyleModel",
      "state": {
       "description_width": ""
      }
     },
     "d071d140688c4d39b229f64cc281933d": {
      "model_module": "@jupyter-widgets/controls",
      "model_module_version": "1.5.0",
      "model_name": "FloatProgressModel",
      "state": {
       "bar_style": "danger",
       "layout": "IPY_MODEL_c4e905942823473285f69a15ffbcbdab",
       "max": 4096,
       "style": "IPY_MODEL_0ba82e2545b54931a5b08e5876ff4d3e",
       "value": 2262
      }
     },
     "d07d1d6943f64364ba827ac023df88d3": {
      "model_module": "@jupyter-widgets/controls",
      "model_module_version": "1.5.0",
      "model_name": "HTMLModel",
      "state": {
       "layout": "IPY_MODEL_a91f113383414f3e942417c9376939ec",
       "style": "IPY_MODEL_8b06c91b4f364e089e71cffb01ab260d",
       "value": "100%"
      }
     },
     "d0b1027552d24b90bc6d21a2ae5367ed": {
      "model_module": "@jupyter-widgets/controls",
      "model_module_version": "1.5.0",
      "model_name": "HBoxModel",
      "state": {
       "children": [
        "IPY_MODEL_b920e019b5a249c9b32f780929183377",
        "IPY_MODEL_d024b18668d041ba8fb09cede787bc0c",
        "IPY_MODEL_fa3f0853778143209c1c178e9aa0da1a"
       ],
       "layout": "IPY_MODEL_619cecb9f8ce4639866e704bd51b9967"
      }
     },
     "d127973666dc4699aa9332840572f158": {
      "model_module": "@jupyter-widgets/base",
      "model_module_version": "1.2.0",
      "model_name": "LayoutModel",
      "state": {}
     },
     "d1923d13e7514ce79508fb03621ddd15": {
      "model_module": "@jupyter-widgets/controls",
      "model_module_version": "1.5.0",
      "model_name": "ProgressStyleModel",
      "state": {
       "description_width": ""
      }
     },
     "d2dd6881b540416fa88a0770d0e3acbd": {
      "model_module": "@jupyter-widgets/controls",
      "model_module_version": "1.5.0",
      "model_name": "FloatProgressModel",
      "state": {
       "bar_style": "success",
       "layout": "IPY_MODEL_7b23aca0abc145889eb1eafdfc66c5c0",
       "max": 4096,
       "style": "IPY_MODEL_a675b3db5b7f426d99d89f0e18f7d732",
       "value": 4096
      }
     },
     "d33f846243754f44a86ae9dd0f43ca43": {
      "model_module": "@jupyter-widgets/base",
      "model_module_version": "1.2.0",
      "model_name": "LayoutModel",
      "state": {}
     },
     "d37356e94e4c4ca0a52c55601a380f80": {
      "model_module": "@jupyter-widgets/base",
      "model_module_version": "1.2.0",
      "model_name": "LayoutModel",
      "state": {}
     },
     "d37e5370aa80493e88e8a1bf9b8dce2b": {
      "model_module": "@jupyter-widgets/base",
      "model_module_version": "1.2.0",
      "model_name": "LayoutModel",
      "state": {}
     },
     "d37f50464be74bd9ad107081e165d4ef": {
      "model_module": "@jupyter-widgets/controls",
      "model_module_version": "1.5.0",
      "model_name": "HTMLModel",
      "state": {
       "layout": "IPY_MODEL_0281512cff82487bbc631bf6cbc7c8bc",
       "style": "IPY_MODEL_76051341f2e44ec4aadabef4775c24b8",
       "value": "100%"
      }
     },
     "d3d547e3966142faaa45f78b00df31e9": {
      "model_module": "@jupyter-widgets/controls",
      "model_module_version": "1.5.0",
      "model_name": "HTMLModel",
      "state": {
       "layout": "IPY_MODEL_9ef38289e62240a5813d4817d788e70e",
       "style": "IPY_MODEL_9cef48afaf5e4ab19a61331ea57bdaa2",
       "value": " 0/4096 [00:00&lt;?, ?it/s]"
      }
     },
     "d4a73fdba27d49c99059d6c3b4d7ed55": {
      "model_module": "@jupyter-widgets/base",
      "model_module_version": "1.2.0",
      "model_name": "LayoutModel",
      "state": {}
     },
     "d4aa135aa4ac45bf8be874457bb654d1": {
      "model_module": "@jupyter-widgets/controls",
      "model_module_version": "1.5.0",
      "model_name": "DescriptionStyleModel",
      "state": {
       "description_width": ""
      }
     },
     "d59083e487c046c3bab134c575ae32f7": {
      "model_module": "@jupyter-widgets/controls",
      "model_module_version": "1.5.0",
      "model_name": "DescriptionStyleModel",
      "state": {
       "description_width": ""
      }
     },
     "d628de233017420bad5e2d699a79e9f0": {
      "model_module": "@jupyter-widgets/controls",
      "model_module_version": "1.5.0",
      "model_name": "ProgressStyleModel",
      "state": {
       "description_width": ""
      }
     },
     "d6419af3a1a54399b240fe1f06cc2fca": {
      "model_module": "@jupyter-widgets/controls",
      "model_module_version": "1.5.0",
      "model_name": "HTMLModel",
      "state": {
       "layout": "IPY_MODEL_5ad8b5d45d4745d4a4e027cc51f717eb",
       "style": "IPY_MODEL_299d08e5e71a4f6684d13375c0c33c16",
       "value": " 4096/4096 [00:12&lt;00:00, 334.43it/s]"
      }
     },
     "d6459d3baac34af4924d604245b1de44": {
      "model_module": "@jupyter-widgets/base",
      "model_module_version": "1.2.0",
      "model_name": "LayoutModel",
      "state": {}
     },
     "d6ada1d389cc4af798009539a2fdf949": {
      "model_module": "@jupyter-widgets/controls",
      "model_module_version": "1.5.0",
      "model_name": "DescriptionStyleModel",
      "state": {
       "description_width": ""
      }
     },
     "d6b276b7537143418b88aaff8135cf03": {
      "model_module": "@jupyter-widgets/controls",
      "model_module_version": "1.5.0",
      "model_name": "HBoxModel",
      "state": {
       "children": [
        "IPY_MODEL_a5b5f19f4fdf4e01afd764f4dd36dc46",
        "IPY_MODEL_16858315fc4a4244b4d34bb4e1b03c25",
        "IPY_MODEL_2f4ef0d9cca940248da5c154ea0afc00"
       ],
       "layout": "IPY_MODEL_210124722219475a859b6823d7e4ec78"
      }
     },
     "d6e60630585c424f981de5cfeba8c7fb": {
      "model_module": "@jupyter-widgets/controls",
      "model_module_version": "1.5.0",
      "model_name": "FloatProgressModel",
      "state": {
       "bar_style": "success",
       "layout": "IPY_MODEL_5ef8d2902f4242deb120a40ba669437a",
       "max": 4096,
       "style": "IPY_MODEL_8db00e19fe7643248c70e32a912cc2da",
       "value": 4096
      }
     },
     "d6e826938a3a400297cee76773dd1a87": {
      "model_module": "@jupyter-widgets/controls",
      "model_module_version": "1.5.0",
      "model_name": "HBoxModel",
      "state": {
       "children": [
        "IPY_MODEL_b65d09d145c147e9af7dbb57b0eba3ed",
        "IPY_MODEL_602893d74e024ef4a3e8bc2cb399fd58",
        "IPY_MODEL_8d8bbb87b0334f33925e60b967f5e206"
       ],
       "layout": "IPY_MODEL_296158fbd2be4180a8834f15f94ab0ac"
      }
     },
     "d6f8054b0ef24b6f8c1dd3ff7d56a7d6": {
      "model_module": "@jupyter-widgets/base",
      "model_module_version": "1.2.0",
      "model_name": "LayoutModel",
      "state": {}
     },
     "d7c3b352c54c47dd84d8608bc849f377": {
      "model_module": "@jupyter-widgets/controls",
      "model_module_version": "1.5.0",
      "model_name": "HBoxModel",
      "state": {
       "children": [
        "IPY_MODEL_8ca146eec2494e84a8f47abb0beab245",
        "IPY_MODEL_ea402266edcd4fe49a3f79a438571851",
        "IPY_MODEL_82f332b3e7ab41558225bec907b4a511"
       ],
       "layout": "IPY_MODEL_2c8605c7135040d199f545aa86dbac07"
      }
     },
     "d7fe376e8d954755af59be1d1b3b28c6": {
      "model_module": "@jupyter-widgets/controls",
      "model_module_version": "1.5.0",
      "model_name": "DescriptionStyleModel",
      "state": {
       "description_width": ""
      }
     },
     "d85b976ef4ed4a429e46bdd1f4d8b5e8": {
      "model_module": "@jupyter-widgets/base",
      "model_module_version": "1.2.0",
      "model_name": "LayoutModel",
      "state": {}
     },
     "d86f2c72df4847119d4f3d69cefebf69": {
      "model_module": "@jupyter-widgets/controls",
      "model_module_version": "1.5.0",
      "model_name": "HTMLModel",
      "state": {
       "layout": "IPY_MODEL_5df9c5eb6915415fac00a244587c9b50",
       "style": "IPY_MODEL_ddf2f739540247fdafe960000e58118e",
       "value": "100%"
      }
     },
     "d8fe078e9e6c4282a91ddec086b3bf8b": {
      "model_module": "@jupyter-widgets/base",
      "model_module_version": "1.2.0",
      "model_name": "LayoutModel",
      "state": {}
     },
     "d9ef8ce0cd9b456db21f16948a2cd801": {
      "model_module": "@jupyter-widgets/base",
      "model_module_version": "1.2.0",
      "model_name": "LayoutModel",
      "state": {}
     },
     "da15b10ed8e548e4b401dd22dd92876a": {
      "model_module": "@jupyter-widgets/controls",
      "model_module_version": "1.5.0",
      "model_name": "ProgressStyleModel",
      "state": {
       "description_width": ""
      }
     },
     "da21b3a5459946019deae5b8472e956c": {
      "model_module": "@jupyter-widgets/base",
      "model_module_version": "1.2.0",
      "model_name": "LayoutModel",
      "state": {}
     },
     "da4c6c9d7fd84bad82c700002c534b54": {
      "model_module": "@jupyter-widgets/controls",
      "model_module_version": "1.5.0",
      "model_name": "HTMLModel",
      "state": {
       "layout": "IPY_MODEL_1262e8b181514f27b3d1994dd4e9b6eb",
       "style": "IPY_MODEL_8cd83fe349a34f1389e243115a3ad086",
       "value": " 4096/4096 [00:15&lt;00:00, 246.37it/s]"
      }
     },
     "daa2a4bcf86d4ae59bb633ad8b271270": {
      "model_module": "@jupyter-widgets/controls",
      "model_module_version": "1.5.0",
      "model_name": "FloatProgressModel",
      "state": {
       "bar_style": "success",
       "layout": "IPY_MODEL_2772e353b7bb42d98c79566de2ef4047",
       "max": 4096,
       "style": "IPY_MODEL_dcda1b20c99a460a9c151a9dfb1d5836",
       "value": 4096
      }
     },
     "db2dfa0727314e129ef57c90fca7546f": {
      "model_module": "@jupyter-widgets/controls",
      "model_module_version": "1.5.0",
      "model_name": "DescriptionStyleModel",
      "state": {
       "description_width": ""
      }
     },
     "db38e3059a614453a8223c7ae9042bad": {
      "model_module": "@jupyter-widgets/controls",
      "model_module_version": "1.5.0",
      "model_name": "HTMLModel",
      "state": {
       "layout": "IPY_MODEL_3b8bb54372f34ed88c1c96e1dbc859f7",
       "style": "IPY_MODEL_5c9fba57d8404362856f72194374a0af",
       "value": "100%"
      }
     },
     "db4505555bb240e69718e795e5614431": {
      "model_module": "@jupyter-widgets/controls",
      "model_module_version": "1.5.0",
      "model_name": "HTMLModel",
      "state": {
       "layout": "IPY_MODEL_7748e781829144fa9064930785fe2e83",
       "style": "IPY_MODEL_3950450da70a46f18b99484605100753",
       "value": " 4096/4096 [00:13&lt;00:00, 300.97it/s]"
      }
     },
     "dba59532942440f9bf5e08b29daffffa": {
      "model_module": "@jupyter-widgets/base",
      "model_module_version": "1.2.0",
      "model_name": "LayoutModel",
      "state": {}
     },
     "dba5f5c739f6486eb86aed9d35c91c2f": {
      "model_module": "@jupyter-widgets/base",
      "model_module_version": "1.2.0",
      "model_name": "LayoutModel",
      "state": {}
     },
     "dbb4dccfd11e4ceb9d7237ba067a26d9": {
      "model_module": "@jupyter-widgets/base",
      "model_module_version": "1.2.0",
      "model_name": "LayoutModel",
      "state": {}
     },
     "dbcc95f0d1724d82a4da0a8b378c9fd9": {
      "model_module": "@jupyter-widgets/controls",
      "model_module_version": "1.5.0",
      "model_name": "DescriptionStyleModel",
      "state": {
       "description_width": ""
      }
     },
     "dc1a0db5a34941e9ac18dc5d8a53b2d6": {
      "model_module": "@jupyter-widgets/controls",
      "model_module_version": "1.5.0",
      "model_name": "DescriptionStyleModel",
      "state": {
       "description_width": ""
      }
     },
     "dc261d94a302488eb19affe227012276": {
      "model_module": "@jupyter-widgets/controls",
      "model_module_version": "1.5.0",
      "model_name": "DescriptionStyleModel",
      "state": {
       "description_width": ""
      }
     },
     "dc845478b46440dd96282474d7e506b5": {
      "model_module": "@jupyter-widgets/base",
      "model_module_version": "1.2.0",
      "model_name": "LayoutModel",
      "state": {}
     },
     "dcda1b20c99a460a9c151a9dfb1d5836": {
      "model_module": "@jupyter-widgets/controls",
      "model_module_version": "1.5.0",
      "model_name": "ProgressStyleModel",
      "state": {
       "description_width": ""
      }
     },
     "dcf4b3a63bcb4918978c7536d74aeb63": {
      "model_module": "@jupyter-widgets/controls",
      "model_module_version": "1.5.0",
      "model_name": "HTMLModel",
      "state": {
       "layout": "IPY_MODEL_7bc376c634ce45f4ba1829b4bcd73738",
       "style": "IPY_MODEL_5c89f32a62e548f392a979e75052884c",
       "value": " 4096/4096 [00:14&lt;00:00, 283.97it/s]"
      }
     },
     "dcf92fa517e94dd6827b9141f1f037bd": {
      "model_module": "@jupyter-widgets/controls",
      "model_module_version": "1.5.0",
      "model_name": "HBoxModel",
      "state": {
       "children": [
        "IPY_MODEL_613dd802a1614cbd89f4ddd180c33b0b",
        "IPY_MODEL_688fab39fdba447b880cbac6587aae3f",
        "IPY_MODEL_fa89095e0c5140119049d6e051f06aa5"
       ],
       "layout": "IPY_MODEL_7acfc413266d444ba2ac6cef87b91143"
      }
     },
     "dd02bc41e0f4449db20002eac209768d": {
      "model_module": "@jupyter-widgets/controls",
      "model_module_version": "1.5.0",
      "model_name": "HBoxModel",
      "state": {
       "children": [
        "IPY_MODEL_77e0fd21e7544145b1b3db25737cae33",
        "IPY_MODEL_dece7762d1544a3a90d19945d598ca1f",
        "IPY_MODEL_d3d547e3966142faaa45f78b00df31e9"
       ],
       "layout": "IPY_MODEL_d37e5370aa80493e88e8a1bf9b8dce2b"
      }
     },
     "ddf2f739540247fdafe960000e58118e": {
      "model_module": "@jupyter-widgets/controls",
      "model_module_version": "1.5.0",
      "model_name": "DescriptionStyleModel",
      "state": {
       "description_width": ""
      }
     },
     "de09e841dc0e42f08457c79a8a11adee": {
      "model_module": "@jupyter-widgets/base",
      "model_module_version": "1.2.0",
      "model_name": "LayoutModel",
      "state": {}
     },
     "debb007c06734750881c6735b9bb0b66": {
      "model_module": "@jupyter-widgets/base",
      "model_module_version": "1.2.0",
      "model_name": "LayoutModel",
      "state": {}
     },
     "dece7762d1544a3a90d19945d598ca1f": {
      "model_module": "@jupyter-widgets/controls",
      "model_module_version": "1.5.0",
      "model_name": "FloatProgressModel",
      "state": {
       "bar_style": "danger",
       "layout": "IPY_MODEL_c78aa43844024bc2b1e5ff5234b60413",
       "max": 4096,
       "style": "IPY_MODEL_f84e6c3a2b6b4144b38e757a5b3f8fd7"
      }
     },
     "df2c5fc40fe04167b3bba1781b4b03b0": {
      "model_module": "@jupyter-widgets/controls",
      "model_module_version": "1.5.0",
      "model_name": "DescriptionStyleModel",
      "state": {
       "description_width": ""
      }
     },
     "df6e70b98df44ec8b4e83d361eec4bfe": {
      "model_module": "@jupyter-widgets/controls",
      "model_module_version": "1.5.0",
      "model_name": "HBoxModel",
      "state": {
       "children": [
        "IPY_MODEL_0fb36e5b76d7469c97aac1774eb49c78",
        "IPY_MODEL_686c543b4426495b9cc6780c5cbbc855",
        "IPY_MODEL_c34c5f233375402a8f02998dfe855dba"
       ],
       "layout": "IPY_MODEL_2a9640a3fac9482b97551db724fd339e"
      }
     },
     "dfcc32b1e58541ee8fa02b34bcdb5461": {
      "model_module": "@jupyter-widgets/controls",
      "model_module_version": "1.5.0",
      "model_name": "HTMLModel",
      "state": {
       "layout": "IPY_MODEL_dbb4dccfd11e4ceb9d7237ba067a26d9",
       "style": "IPY_MODEL_0d49c8c2ab9745179059d78c26f68abf",
       "value": " 55%"
      }
     },
     "dfec362664fe47a09cd9d9a157c86dd3": {
      "model_module": "@jupyter-widgets/controls",
      "model_module_version": "1.5.0",
      "model_name": "HTMLModel",
      "state": {
       "layout": "IPY_MODEL_78e2596db79b4c0d8705db75390979bf",
       "style": "IPY_MODEL_db2dfa0727314e129ef57c90fca7546f",
       "value": " 1118/4096 [00:04&lt;00:10, 272.65it/s]"
      }
     },
     "e07ef1a12e084468a3576dd5cef15070": {
      "model_module": "@jupyter-widgets/controls",
      "model_module_version": "1.5.0",
      "model_name": "HBoxModel",
      "state": {
       "children": [
        "IPY_MODEL_7967e2fa77c7441cb6db64854988d179",
        "IPY_MODEL_daa2a4bcf86d4ae59bb633ad8b271270",
        "IPY_MODEL_3de0be449a694ece8a645e71f5ddd804"
       ],
       "layout": "IPY_MODEL_f161766dccca4ee5a75e536f569e3e40"
      }
     },
     "e0d659b0cdc745039f34dd9329dc2cc6": {
      "model_module": "@jupyter-widgets/controls",
      "model_module_version": "1.5.0",
      "model_name": "DescriptionStyleModel",
      "state": {
       "description_width": ""
      }
     },
     "e2225609d4bf4862b277866bac583e01": {
      "model_module": "@jupyter-widgets/controls",
      "model_module_version": "1.5.0",
      "model_name": "ProgressStyleModel",
      "state": {
       "description_width": ""
      }
     },
     "e2cf35d70b434894aceb34245adfb9f8": {
      "model_module": "@jupyter-widgets/controls",
      "model_module_version": "1.5.0",
      "model_name": "DescriptionStyleModel",
      "state": {
       "description_width": ""
      }
     },
     "e2dcb1253389488bb42c0ed0423b96c5": {
      "model_module": "@jupyter-widgets/base",
      "model_module_version": "1.2.0",
      "model_name": "LayoutModel",
      "state": {}
     },
     "e38ad9659f8d41e9a0d670e1f7fa2278": {
      "model_module": "@jupyter-widgets/controls",
      "model_module_version": "1.5.0",
      "model_name": "FloatProgressModel",
      "state": {
       "bar_style": "success",
       "layout": "IPY_MODEL_e462d2850e2649c18cdeb628c7738c7f",
       "max": 4096,
       "style": "IPY_MODEL_06c08d5999644cd39138688faeeb9515",
       "value": 4096
      }
     },
     "e3cb1c339fec4dbda9104ac723da0b67": {
      "model_module": "@jupyter-widgets/controls",
      "model_module_version": "1.5.0",
      "model_name": "HTMLModel",
      "state": {
       "layout": "IPY_MODEL_63a8d0045a6c40b7b70355c7432dc9f7",
       "style": "IPY_MODEL_7b55294134544af79b5d792bede03f36",
       "value": "  0%"
      }
     },
     "e4208b23f0724bb5adb322517e307d51": {
      "model_module": "@jupyter-widgets/controls",
      "model_module_version": "1.5.0",
      "model_name": "FloatProgressModel",
      "state": {
       "bar_style": "danger",
       "layout": "IPY_MODEL_ce39511347eb4fe2ab1f660f2336c87e",
       "max": 4096,
       "style": "IPY_MODEL_c3263a555b5c480e8bce8e301c88dce2",
       "value": 1118
      }
     },
     "e42b2bc177dc40c6aec829b1a539e87f": {
      "model_module": "@jupyter-widgets/controls",
      "model_module_version": "1.5.0",
      "model_name": "HTMLModel",
      "state": {
       "layout": "IPY_MODEL_16a595b69120402aae5aebc9be2b85ee",
       "style": "IPY_MODEL_42ac200c6df14c10816c355299ef481c",
       "value": "100%"
      }
     },
     "e43fb7c3cf634ba0ac9c7647f9f7fba6": {
      "model_module": "@jupyter-widgets/controls",
      "model_module_version": "1.5.0",
      "model_name": "DescriptionStyleModel",
      "state": {
       "description_width": ""
      }
     },
     "e45d162f374a497ca82f1d3ef5a9e7e0": {
      "model_module": "@jupyter-widgets/controls",
      "model_module_version": "1.5.0",
      "model_name": "HTMLModel",
      "state": {
       "layout": "IPY_MODEL_b6fec22d16f84851b5e6810d23ca5a28",
       "style": "IPY_MODEL_c7f98c4921d940aba6dd493fcfcb2ffe",
       "value": " 4096/4096 [00:14&lt;00:00, 275.82it/s]"
      }
     },
     "e462d2850e2649c18cdeb628c7738c7f": {
      "model_module": "@jupyter-widgets/base",
      "model_module_version": "1.2.0",
      "model_name": "LayoutModel",
      "state": {}
     },
     "e4c72e49295048878e2d26c19550a48b": {
      "model_module": "@jupyter-widgets/controls",
      "model_module_version": "1.5.0",
      "model_name": "HBoxModel",
      "state": {
       "children": [
        "IPY_MODEL_e58715e8537e4273a5a1a96bc0527891",
        "IPY_MODEL_64faa9aec1c14f51b55d4b726fbc2fc5",
        "IPY_MODEL_dcf4b3a63bcb4918978c7536d74aeb63"
       ],
       "layout": "IPY_MODEL_37e72199e6b14f638bfb74a9bdaa046a"
      }
     },
     "e4f9e5cb1cc74804af5ca0f0cb985513": {
      "model_module": "@jupyter-widgets/controls",
      "model_module_version": "1.5.0",
      "model_name": "FloatProgressModel",
      "state": {
       "bar_style": "success",
       "layout": "IPY_MODEL_3d2d3ea1d8a448ca85b11e8471ac4efb",
       "max": 4096,
       "style": "IPY_MODEL_5381ec1ae8dd482a910eb80dab3b1d4b",
       "value": 4096
      }
     },
     "e51a9bd27bdb40a4b52a8e2124977a5f": {
      "model_module": "@jupyter-widgets/controls",
      "model_module_version": "1.5.0",
      "model_name": "HBoxModel",
      "state": {
       "children": [
        "IPY_MODEL_185015bfd2b2417aa3247c2d5ef83040",
        "IPY_MODEL_812a5c0f18e749da97dca4ab6b3386be",
        "IPY_MODEL_2a58c3efdf1d47d9b524469035e2afbf"
       ],
       "layout": "IPY_MODEL_abc191d763ab41eda1684db73b8a143a"
      }
     },
     "e54b5c87764c488092467e99032de622": {
      "model_module": "@jupyter-widgets/controls",
      "model_module_version": "1.5.0",
      "model_name": "DescriptionStyleModel",
      "state": {
       "description_width": ""
      }
     },
     "e58715e8537e4273a5a1a96bc0527891": {
      "model_module": "@jupyter-widgets/controls",
      "model_module_version": "1.5.0",
      "model_name": "HTMLModel",
      "state": {
       "layout": "IPY_MODEL_5871455be3c74e8cab3a3fdaa5697cf6",
       "style": "IPY_MODEL_2f0a454bbf634c25a19b0db9d04edfe8",
       "value": "100%"
      }
     },
     "e5b65385da3748d592216d743babaafa": {
      "model_module": "@jupyter-widgets/controls",
      "model_module_version": "1.5.0",
      "model_name": "DescriptionStyleModel",
      "state": {
       "description_width": ""
      }
     },
     "e5b8dfdf2fc94b4d852c8efd15e85701": {
      "model_module": "@jupyter-widgets/controls",
      "model_module_version": "1.5.0",
      "model_name": "HTMLModel",
      "state": {
       "layout": "IPY_MODEL_1f71d7c824f34ea39674ef1ee78ae95e",
       "style": "IPY_MODEL_9640d002dce645c1a7ef95dfbd7a1e70",
       "value": " 1024/1024 [00:03&lt;00:00, 285.97it/s]"
      }
     },
     "e617fffc1aa34aae9b5a817a7f5d5104": {
      "model_module": "@jupyter-widgets/base",
      "model_module_version": "1.2.0",
      "model_name": "LayoutModel",
      "state": {}
     },
     "e61accf66e494f799120bc6d1b06437f": {
      "model_module": "@jupyter-widgets/controls",
      "model_module_version": "1.5.0",
      "model_name": "DescriptionStyleModel",
      "state": {
       "description_width": ""
      }
     },
     "e696a78c47494c6986d16ac059ee5e10": {
      "model_module": "@jupyter-widgets/base",
      "model_module_version": "1.2.0",
      "model_name": "LayoutModel",
      "state": {}
     },
     "e79f3791fa634decb81e9570e229576e": {
      "model_module": "@jupyter-widgets/base",
      "model_module_version": "1.2.0",
      "model_name": "LayoutModel",
      "state": {}
     },
     "e7c01554cda7405c8a0a413a115a25f0": {
      "model_module": "@jupyter-widgets/base",
      "model_module_version": "1.2.0",
      "model_name": "LayoutModel",
      "state": {}
     },
     "e8482b26959a4c0bbe2d47886f612f1f": {
      "model_module": "@jupyter-widgets/base",
      "model_module_version": "1.2.0",
      "model_name": "LayoutModel",
      "state": {}
     },
     "e8a3cde35f1e407eb634388f0f5322db": {
      "model_module": "@jupyter-widgets/controls",
      "model_module_version": "1.5.0",
      "model_name": "DescriptionStyleModel",
      "state": {
       "description_width": ""
      }
     },
     "e9bc362fc82149d5b6e06cec1de6553d": {
      "model_module": "@jupyter-widgets/controls",
      "model_module_version": "1.5.0",
      "model_name": "DescriptionStyleModel",
      "state": {
       "description_width": ""
      }
     },
     "e9c9dcec5af44f8a91460ab0b6c3ae65": {
      "model_module": "@jupyter-widgets/base",
      "model_module_version": "1.2.0",
      "model_name": "LayoutModel",
      "state": {}
     },
     "e9ca6f62e711438b860cc9f6482fade2": {
      "model_module": "@jupyter-widgets/base",
      "model_module_version": "1.2.0",
      "model_name": "LayoutModel",
      "state": {}
     },
     "ea402266edcd4fe49a3f79a438571851": {
      "model_module": "@jupyter-widgets/controls",
      "model_module_version": "1.5.0",
      "model_name": "FloatProgressModel",
      "state": {
       "bar_style": "success",
       "layout": "IPY_MODEL_083429a0997746f18be46e6fa090c494",
       "max": 1024,
       "style": "IPY_MODEL_fecd8221898c4dffb090801418aabafe",
       "value": 1024
      }
     },
     "ea9fdd3d4d504d0981ee0d87f619a577": {
      "model_module": "@jupyter-widgets/controls",
      "model_module_version": "1.5.0",
      "model_name": "DescriptionStyleModel",
      "state": {
       "description_width": ""
      }
     },
     "eae7a23e473249b098ff11a01dbd9a57": {
      "model_module": "@jupyter-widgets/base",
      "model_module_version": "1.2.0",
      "model_name": "LayoutModel",
      "state": {}
     },
     "eaf82edc79cd443083165ccac0b54bce": {
      "model_module": "@jupyter-widgets/base",
      "model_module_version": "1.2.0",
      "model_name": "LayoutModel",
      "state": {}
     },
     "eb0bd214de7c42168a19650c6abdc0ac": {
      "model_module": "@jupyter-widgets/controls",
      "model_module_version": "1.5.0",
      "model_name": "FloatProgressModel",
      "state": {
       "bar_style": "success",
       "layout": "IPY_MODEL_debb007c06734750881c6735b9bb0b66",
       "max": 4096,
       "style": "IPY_MODEL_b68c34695cd54d308a6c9985d7614c0e",
       "value": 4096
      }
     },
     "ec39b78f11d346e0b33c8b072d7a54eb": {
      "model_module": "@jupyter-widgets/controls",
      "model_module_version": "1.5.0",
      "model_name": "DescriptionStyleModel",
      "state": {
       "description_width": ""
      }
     },
     "ec476953e18049d9bc09b6d2dd6ca4a7": {
      "model_module": "@jupyter-widgets/base",
      "model_module_version": "1.2.0",
      "model_name": "LayoutModel",
      "state": {}
     },
     "ec5537fa510443668057303ec3306f92": {
      "model_module": "@jupyter-widgets/controls",
      "model_module_version": "1.5.0",
      "model_name": "ProgressStyleModel",
      "state": {
       "description_width": ""
      }
     },
     "ec6df3410b7246f0a01ffa28b0ff4f79": {
      "model_module": "@jupyter-widgets/controls",
      "model_module_version": "1.5.0",
      "model_name": "DescriptionStyleModel",
      "state": {
       "description_width": ""
      }
     },
     "ec8669e00bc14b978a57d41be8f93c64": {
      "model_module": "@jupyter-widgets/controls",
      "model_module_version": "1.5.0",
      "model_name": "HTMLModel",
      "state": {
       "layout": "IPY_MODEL_6bc70ba5582a4e98ac5420bdc2905b44",
       "style": "IPY_MODEL_33ed2712b2eb48dda34b369c1996570b",
       "value": "100%"
      }
     },
     "ec95472d2b8c4d029cbb0a1b79fdd997": {
      "model_module": "@jupyter-widgets/controls",
      "model_module_version": "1.5.0",
      "model_name": "DescriptionStyleModel",
      "state": {
       "description_width": ""
      }
     },
     "eca552e0523343fcafe093c2b40bb2f2": {
      "model_module": "@jupyter-widgets/base",
      "model_module_version": "1.2.0",
      "model_name": "LayoutModel",
      "state": {}
     },
     "edc1455e4baa477f9029aee1a98b806e": {
      "model_module": "@jupyter-widgets/controls",
      "model_module_version": "1.5.0",
      "model_name": "DescriptionStyleModel",
      "state": {
       "description_width": ""
      }
     },
     "ede4ba0801144b4f87fd3d4a5aaae3b8": {
      "model_module": "@jupyter-widgets/controls",
      "model_module_version": "1.5.0",
      "model_name": "FloatProgressModel",
      "state": {
       "bar_style": "success",
       "layout": "IPY_MODEL_bad3f3ca29214f60bae9e7765f56fa66",
       "max": 4096,
       "style": "IPY_MODEL_8721340b1b354dfd84a58af5ce87bae2",
       "value": 4096
      }
     },
     "ef08ecf50fd547ce86f4a97d91c25d8d": {
      "model_module": "@jupyter-widgets/base",
      "model_module_version": "1.2.0",
      "model_name": "LayoutModel",
      "state": {}
     },
     "ef13c670c07d4c1a90deba260e609aa4": {
      "model_module": "@jupyter-widgets/controls",
      "model_module_version": "1.5.0",
      "model_name": "HTMLModel",
      "state": {
       "layout": "IPY_MODEL_f90e710582314f01a819da34cc52fff4",
       "style": "IPY_MODEL_8c72ab94a8064ee7a9910337f047a30d",
       "value": " 2262/4096 [00:07&lt;00:06, 289.74it/s]"
      }
     },
     "ef5f9884abb140b79759c7f13e6291d8": {
      "model_module": "@jupyter-widgets/controls",
      "model_module_version": "1.5.0",
      "model_name": "DescriptionStyleModel",
      "state": {
       "description_width": ""
      }
     },
     "f0118164b53e40808c4b1bb73474736c": {
      "model_module": "@jupyter-widgets/base",
      "model_module_version": "1.2.0",
      "model_name": "LayoutModel",
      "state": {}
     },
     "f07bf9d843324445b93b27b5498bf491": {
      "model_module": "@jupyter-widgets/base",
      "model_module_version": "1.2.0",
      "model_name": "LayoutModel",
      "state": {}
     },
     "f161766dccca4ee5a75e536f569e3e40": {
      "model_module": "@jupyter-widgets/base",
      "model_module_version": "1.2.0",
      "model_name": "LayoutModel",
      "state": {}
     },
     "f1907a65bad24b0daee33bf29d8d054a": {
      "model_module": "@jupyter-widgets/controls",
      "model_module_version": "1.5.0",
      "model_name": "HTMLModel",
      "state": {
       "layout": "IPY_MODEL_64df501f74094ad3accf8f7a25965bfb",
       "style": "IPY_MODEL_094eb7aa5b0440f6ad0eeaf9730a0a2a",
       "value": "100%"
      }
     },
     "f196078fb52c491bac18a8254d412c58": {
      "model_module": "@jupyter-widgets/controls",
      "model_module_version": "1.5.0",
      "model_name": "FloatProgressModel",
      "state": {
       "bar_style": "success",
       "layout": "IPY_MODEL_1f556c940fc94411a170ee55fd8447ad",
       "max": 4096,
       "style": "IPY_MODEL_da15b10ed8e548e4b401dd22dd92876a",
       "value": 4096
      }
     },
     "f19dde3ac486465ab720274dac2f65e8": {
      "model_module": "@jupyter-widgets/controls",
      "model_module_version": "1.5.0",
      "model_name": "DescriptionStyleModel",
      "state": {
       "description_width": ""
      }
     },
     "f1ce39e453fb43d0992cee51d3763ca0": {
      "model_module": "@jupyter-widgets/controls",
      "model_module_version": "1.5.0",
      "model_name": "DescriptionStyleModel",
      "state": {
       "description_width": ""
      }
     },
     "f24dcd53db824b4fa0f3be82252ee6b0": {
      "model_module": "@jupyter-widgets/controls",
      "model_module_version": "1.5.0",
      "model_name": "DescriptionStyleModel",
      "state": {
       "description_width": ""
      }
     },
     "f24e126fffa345c7b19e748378b7e29a": {
      "model_module": "@jupyter-widgets/base",
      "model_module_version": "1.2.0",
      "model_name": "LayoutModel",
      "state": {}
     },
     "f2cd0ed6d59746899225d5e50d909c54": {
      "model_module": "@jupyter-widgets/controls",
      "model_module_version": "1.5.0",
      "model_name": "HTMLModel",
      "state": {
       "layout": "IPY_MODEL_63b3bd9d9e50463493a4b9b6f3a0eea0",
       "style": "IPY_MODEL_d59083e487c046c3bab134c575ae32f7",
       "value": " 2091/20000 [00:07&lt;01:02, 288.19it/s]"
      }
     },
     "f3613c1991494d1b8b72f50e4c9a38ab": {
      "model_module": "@jupyter-widgets/controls",
      "model_module_version": "1.5.0",
      "model_name": "HTMLModel",
      "state": {
       "layout": "IPY_MODEL_89ecc3262e804400b8a15293d141befe",
       "style": "IPY_MODEL_edc1455e4baa477f9029aee1a98b806e",
       "value": "100%"
      }
     },
     "f38229a27d62480783aff8c94b955ee8": {
      "model_module": "@jupyter-widgets/controls",
      "model_module_version": "1.5.0",
      "model_name": "HTMLModel",
      "state": {
       "layout": "IPY_MODEL_3361ef4c629649749c86a367b83d6c32",
       "style": "IPY_MODEL_cceee3aa99c44ddb9f6d7ee86768b4ac",
       "value": "100%"
      }
     },
     "f3a620da121e4b0d84d2576d2f1cce7d": {
      "model_module": "@jupyter-widgets/base",
      "model_module_version": "1.2.0",
      "model_name": "LayoutModel",
      "state": {}
     },
     "f3f53464b58c401bad3df0ab79439307": {
      "model_module": "@jupyter-widgets/controls",
      "model_module_version": "1.5.0",
      "model_name": "DescriptionStyleModel",
      "state": {
       "description_width": ""
      }
     },
     "f406ff59850542119eeff2b49c5b6f1b": {
      "model_module": "@jupyter-widgets/controls",
      "model_module_version": "1.5.0",
      "model_name": "HBoxModel",
      "state": {
       "children": [
        "IPY_MODEL_3684dfaccc214aed9113854806596799",
        "IPY_MODEL_e4208b23f0724bb5adb322517e307d51",
        "IPY_MODEL_dfec362664fe47a09cd9d9a157c86dd3"
       ],
       "layout": "IPY_MODEL_13540adf842b4dd9884f52f80a624604"
      }
     },
     "f44c70861ef94e6c8d8336d370347e6b": {
      "model_module": "@jupyter-widgets/controls",
      "model_module_version": "1.5.0",
      "model_name": "DescriptionStyleModel",
      "state": {
       "description_width": ""
      }
     },
     "f4a50fedaca74151a52baff0c0592b3b": {
      "model_module": "@jupyter-widgets/controls",
      "model_module_version": "1.5.0",
      "model_name": "HBoxModel",
      "state": {
       "children": [
        "IPY_MODEL_307b094f95ab49b1aefa582c549580ab",
        "IPY_MODEL_602f75f139554b56adc82200c5c69b5e",
        "IPY_MODEL_0e94558a1ff248608f1b4af31ba865dd"
       ],
       "layout": "IPY_MODEL_fea8dfe8670d484a8b62cde3798c5885"
      }
     },
     "f4a634c148ba475ba42e42cd14eeb3b4": {
      "model_module": "@jupyter-widgets/controls",
      "model_module_version": "1.5.0",
      "model_name": "HBoxModel",
      "state": {
       "children": [
        "IPY_MODEL_143362208cbd4c64b88b7b1dd8c99e29",
        "IPY_MODEL_5993c09dbf274d248c973905469adab9",
        "IPY_MODEL_98d78747d54f4fa3b31372804ee1ca03"
       ],
       "layout": "IPY_MODEL_0b40b08bc8464cd380abe9997eda4fc2"
      }
     },
     "f4e9014283264529836826162382b1e4": {
      "model_module": "@jupyter-widgets/controls",
      "model_module_version": "1.5.0",
      "model_name": "HTMLModel",
      "state": {
       "layout": "IPY_MODEL_13b5f0259ef5494abbf8f5f12450a0dd",
       "style": "IPY_MODEL_e8a3cde35f1e407eb634388f0f5322db",
       "value": " 4096/4096 [00:14&lt;00:00, 245.16it/s]"
      }
     },
     "f5f698736dbc4cc4be2199119bdce3c3": {
      "model_module": "@jupyter-widgets/controls",
      "model_module_version": "1.5.0",
      "model_name": "FloatProgressModel",
      "state": {
       "bar_style": "success",
       "layout": "IPY_MODEL_6f7a00f9172e4a87a7451feec3eb6457",
       "max": 4096,
       "style": "IPY_MODEL_57e80893dc614820bbfe402c7a4c26c7",
       "value": 4096
      }
     },
     "f6892129b66042559b0eb85b5cab4e8d": {
      "model_module": "@jupyter-widgets/controls",
      "model_module_version": "1.5.0",
      "model_name": "HTMLModel",
      "state": {
       "layout": "IPY_MODEL_e7c01554cda7405c8a0a413a115a25f0",
       "style": "IPY_MODEL_253abbb822c0430eba00ab64b046201f",
       "value": " 4096/4096 [00:13&lt;00:00, 293.80it/s]"
      }
     },
     "f6ac57a716284b3dab0d8d15c547213d": {
      "model_module": "@jupyter-widgets/controls",
      "model_module_version": "1.5.0",
      "model_name": "HTMLModel",
      "state": {
       "layout": "IPY_MODEL_e8482b26959a4c0bbe2d47886f612f1f",
       "style": "IPY_MODEL_ca59340df1b04197b72d5db6e8d543fe",
       "value": " 10%"
      }
     },
     "f6c51262664247eab3ddb9c275fa0727": {
      "model_module": "@jupyter-widgets/base",
      "model_module_version": "1.2.0",
      "model_name": "LayoutModel",
      "state": {}
     },
     "f7c01ef69eb84d28b61a44ad777be0c6": {
      "model_module": "@jupyter-widgets/base",
      "model_module_version": "1.2.0",
      "model_name": "LayoutModel",
      "state": {}
     },
     "f7c7cc42375e4c4fafd6f4eaf42ededa": {
      "model_module": "@jupyter-widgets/controls",
      "model_module_version": "1.5.0",
      "model_name": "HBoxModel",
      "state": {
       "children": [
        "IPY_MODEL_118e6d5ba0d3485881f3282799e68783",
        "IPY_MODEL_16664f1cde7744bf85571186ec95ef92",
        "IPY_MODEL_a5b918ee596347c789141436499e846b"
       ],
       "layout": "IPY_MODEL_fad0fb18333f44e897b6bb65988a1f68"
      }
     },
     "f7d6868497484e089167b3c08092b00d": {
      "model_module": "@jupyter-widgets/base",
      "model_module_version": "1.2.0",
      "model_name": "LayoutModel",
      "state": {}
     },
     "f7e737fee99446ec850d86ef23adf3ac": {
      "model_module": "@jupyter-widgets/controls",
      "model_module_version": "1.5.0",
      "model_name": "FloatProgressModel",
      "state": {
       "bar_style": "success",
       "layout": "IPY_MODEL_dba59532942440f9bf5e08b29daffffa",
       "max": 4096,
       "style": "IPY_MODEL_8b317c63f8c5416f94bc77c79f5e669f",
       "value": 4096
      }
     },
     "f7fa794bfa604c3f9b78e938057691aa": {
      "model_module": "@jupyter-widgets/controls",
      "model_module_version": "1.5.0",
      "model_name": "DescriptionStyleModel",
      "state": {
       "description_width": ""
      }
     },
     "f84e6c3a2b6b4144b38e757a5b3f8fd7": {
      "model_module": "@jupyter-widgets/controls",
      "model_module_version": "1.5.0",
      "model_name": "ProgressStyleModel",
      "state": {
       "description_width": ""
      }
     },
     "f8baa1a377804364bec1dade287c6f56": {
      "model_module": "@jupyter-widgets/base",
      "model_module_version": "1.2.0",
      "model_name": "LayoutModel",
      "state": {}
     },
     "f8e56700128a407382a5b493b5e39ee6": {
      "model_module": "@jupyter-widgets/controls",
      "model_module_version": "1.5.0",
      "model_name": "HBoxModel",
      "state": {
       "children": [
        "IPY_MODEL_ec8669e00bc14b978a57d41be8f93c64",
        "IPY_MODEL_f95a655dde3f4373afd33689c2d15aa9",
        "IPY_MODEL_e5b8dfdf2fc94b4d852c8efd15e85701"
       ],
       "layout": "IPY_MODEL_1c5de2bbec694f5b81672947e934ebf5"
      }
     },
     "f90e710582314f01a819da34cc52fff4": {
      "model_module": "@jupyter-widgets/base",
      "model_module_version": "1.2.0",
      "model_name": "LayoutModel",
      "state": {}
     },
     "f923e6a343234b31ad79e7d18b283ab4": {
      "model_module": "@jupyter-widgets/base",
      "model_module_version": "1.2.0",
      "model_name": "LayoutModel",
      "state": {}
     },
     "f95a655dde3f4373afd33689c2d15aa9": {
      "model_module": "@jupyter-widgets/controls",
      "model_module_version": "1.5.0",
      "model_name": "FloatProgressModel",
      "state": {
       "bar_style": "success",
       "layout": "IPY_MODEL_abe6de8561ce4e9f801fdc4ae5187312",
       "max": 1024,
       "style": "IPY_MODEL_c84f3e8d536c453fbafffef9c36f1522",
       "value": 1024
      }
     },
     "f992ccbd37e94838899a50518e7ac1ab": {
      "model_module": "@jupyter-widgets/controls",
      "model_module_version": "1.5.0",
      "model_name": "HBoxModel",
      "state": {
       "children": [
        "IPY_MODEL_891efaa7b26c40c3af0ff440b2abdd8c",
        "IPY_MODEL_a871d2854bd9448991357e3c5d1fa9b1",
        "IPY_MODEL_bea16bddf9d54c9b8e9b8bd4be19ecfc"
       ],
       "layout": "IPY_MODEL_055f0d8e5a934b5083abed0c81a7902a"
      }
     },
     "f9bb2e0b142d452eb6633f0ada6b4a2d": {
      "model_module": "@jupyter-widgets/controls",
      "model_module_version": "1.5.0",
      "model_name": "DescriptionStyleModel",
      "state": {
       "description_width": ""
      }
     },
     "fa3f0853778143209c1c178e9aa0da1a": {
      "model_module": "@jupyter-widgets/controls",
      "model_module_version": "1.5.0",
      "model_name": "HTMLModel",
      "state": {
       "layout": "IPY_MODEL_51cccdc3f4df44a49791a030287ae5da",
       "style": "IPY_MODEL_86c49809e23440f6a0e145c6517e6577",
       "value": " 64/1024 [00:00&lt;00:05, 168.49it/s]"
      }
     },
     "fa4217b2bb8c4cf38e76e947b2f43576": {
      "model_module": "@jupyter-widgets/controls",
      "model_module_version": "1.5.0",
      "model_name": "ProgressStyleModel",
      "state": {
       "description_width": ""
      }
     },
     "fa6114449a3740bea17d1dd196c20e90": {
      "model_module": "@jupyter-widgets/base",
      "model_module_version": "1.2.0",
      "model_name": "LayoutModel",
      "state": {}
     },
     "fa78c73246384cb79cf65c8eaad434e9": {
      "model_module": "@jupyter-widgets/base",
      "model_module_version": "1.2.0",
      "model_name": "LayoutModel",
      "state": {}
     },
     "fa89095e0c5140119049d6e051f06aa5": {
      "model_module": "@jupyter-widgets/controls",
      "model_module_version": "1.5.0",
      "model_name": "HTMLModel",
      "state": {
       "layout": "IPY_MODEL_dba5f5c739f6486eb86aed9d35c91c2f",
       "style": "IPY_MODEL_0f80d4510f7949afa947ff2e29a8cddf",
       "value": " 4096/4096 [00:10&lt;00:00, 398.77it/s]"
      }
     },
     "faa178e715ab497db8ce7759cbc65fb7": {
      "model_module": "@jupyter-widgets/controls",
      "model_module_version": "1.5.0",
      "model_name": "HTMLModel",
      "state": {
       "layout": "IPY_MODEL_317c468f97af4ff6a64cf0d29592da56",
       "style": "IPY_MODEL_94dc22096f34459481b8466164ab8e17",
       "value": " 4096/4096 [00:14&lt;00:00, 239.44it/s]"
      }
     },
     "fad0fb18333f44e897b6bb65988a1f68": {
      "model_module": "@jupyter-widgets/base",
      "model_module_version": "1.2.0",
      "model_name": "LayoutModel",
      "state": {}
     },
     "fafa6e16059148aab7e34aa58808d814": {
      "model_module": "@jupyter-widgets/controls",
      "model_module_version": "1.5.0",
      "model_name": "FloatProgressModel",
      "state": {
       "bar_style": "success",
       "layout": "IPY_MODEL_c5b2a40b42ca468e8b8eddb4fb066d93",
       "max": 4096,
       "style": "IPY_MODEL_3db0f1ec75cb4255bacccddfb61ef573",
       "value": 4096
      }
     },
     "fb358d2d7ad34974beb6ab6b1295f403": {
      "model_module": "@jupyter-widgets/controls",
      "model_module_version": "1.5.0",
      "model_name": "ProgressStyleModel",
      "state": {
       "description_width": ""
      }
     },
     "fb3d582416534c31b77b467e1f1d3c6c": {
      "model_module": "@jupyter-widgets/controls",
      "model_module_version": "1.5.0",
      "model_name": "ProgressStyleModel",
      "state": {
       "description_width": ""
      }
     },
     "fbce3e76d7ca44f9b395a7dc035600d6": {
      "model_module": "@jupyter-widgets/controls",
      "model_module_version": "1.5.0",
      "model_name": "ProgressStyleModel",
      "state": {
       "description_width": ""
      }
     },
     "fdee12e9fc374608bc44cb42608c7171": {
      "model_module": "@jupyter-widgets/base",
      "model_module_version": "1.2.0",
      "model_name": "LayoutModel",
      "state": {}
     },
     "fe030c92ee7046179bdb9d402845308f": {
      "model_module": "@jupyter-widgets/controls",
      "model_module_version": "1.5.0",
      "model_name": "HBoxModel",
      "state": {
       "children": [
        "IPY_MODEL_87b88ce2b7a94758837e4d45417e9649",
        "IPY_MODEL_41961df0f6c74156ba46f4fdcd910bc4",
        "IPY_MODEL_082c03b79bce426ba7610dc72e5b5f0d"
       ],
       "layout": "IPY_MODEL_837ee2d48f254f4cb24c688d522cdb04"
      }
     },
     "fe50d77c67ab45cbbb298757e5fc0b8b": {
      "model_module": "@jupyter-widgets/controls",
      "model_module_version": "1.5.0",
      "model_name": "HBoxModel",
      "state": {
       "children": [
        "IPY_MODEL_42cc0c5be95645a184ecadeead6a3c1e",
        "IPY_MODEL_8a006c3c20dc45a6b97ec6864c6e0ea4",
        "IPY_MODEL_2c5383533f494b4f9e892b952c0fd454"
       ],
       "layout": "IPY_MODEL_50224bad28134aa5a2093f89696103ba"
      }
     },
     "fe90f6d0e93e4016bc6e07390498b53a": {
      "model_module": "@jupyter-widgets/base",
      "model_module_version": "1.2.0",
      "model_name": "LayoutModel",
      "state": {}
     },
     "fea8dfe8670d484a8b62cde3798c5885": {
      "model_module": "@jupyter-widgets/base",
      "model_module_version": "1.2.0",
      "model_name": "LayoutModel",
      "state": {}
     },
     "fecd8221898c4dffb090801418aabafe": {
      "model_module": "@jupyter-widgets/controls",
      "model_module_version": "1.5.0",
      "model_name": "ProgressStyleModel",
      "state": {
       "description_width": ""
      }
     },
     "feda8f833d954eba937ebe21b4cef5db": {
      "model_module": "@jupyter-widgets/controls",
      "model_module_version": "1.5.0",
      "model_name": "FloatProgressModel",
      "state": {
       "bar_style": "danger",
       "layout": "IPY_MODEL_979bc96775f34c6cbe13626984087ef4",
       "max": 4096,
       "style": "IPY_MODEL_4508e793600140a1944d99c4d601d7d1",
       "value": 1496
      }
     },
     "fedbb5761ea044d39bd46f6dc5604d53": {
      "model_module": "@jupyter-widgets/controls",
      "model_module_version": "1.5.0",
      "model_name": "DescriptionStyleModel",
      "state": {
       "description_width": ""
      }
     },
     "fedc676deeea4bb18b618320cd556c0a": {
      "model_module": "@jupyter-widgets/controls",
      "model_module_version": "1.5.0",
      "model_name": "FloatProgressModel",
      "state": {
       "bar_style": "success",
       "layout": "IPY_MODEL_5e587a72ad5f442994c878be0c3c791c",
       "max": 4096,
       "style": "IPY_MODEL_77e9019ea67a4193a681709620614ee5",
       "value": 4096
      }
     },
     "fef756510b984db180833bf2dd079ccc": {
      "model_module": "@jupyter-widgets/base",
      "model_module_version": "1.2.0",
      "model_name": "LayoutModel",
      "state": {}
     },
     "ff127378d3254fb29023ca1904cb6dcf": {
      "model_module": "@jupyter-widgets/controls",
      "model_module_version": "1.5.0",
      "model_name": "DescriptionStyleModel",
      "state": {
       "description_width": ""
      }
     },
     "ff2461f588f24a898045f3857f95afb8": {
      "model_module": "@jupyter-widgets/controls",
      "model_module_version": "1.5.0",
      "model_name": "HBoxModel",
      "state": {
       "children": [
        "IPY_MODEL_1ec9a2bd76fa4f328488167763b69220",
        "IPY_MODEL_e4f9e5cb1cc74804af5ca0f0cb985513",
        "IPY_MODEL_8dabf6407b5e4a0c8e8f5690b99597e7"
       ],
       "layout": "IPY_MODEL_aa04ebde951340119a003f284b5660dc"
      }
     },
     "ff3715a9834a403889e2e66f98510fc2": {
      "model_module": "@jupyter-widgets/base",
      "model_module_version": "1.2.0",
      "model_name": "LayoutModel",
      "state": {}
     }
    },
    "version_major": 2,
    "version_minor": 0
   }
  }
 },
 "nbformat": 4,
 "nbformat_minor": 5
}
